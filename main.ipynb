{
 "cells": [
  {
   "cell_type": "code",
   "execution_count": 1,
   "metadata": {},
   "outputs": [],
   "source": [
    "#Importar librerias\n",
    "import pandas as pd\n",
    "import geopandas as gpd\n",
    "import numpy as np \n",
    "from datetime import datetime, date\n",
    "import seaborn as sns\n",
    "import matplotlib.pyplot as plt\n",
    "import ast\n",
    "import holidays\n",
    "import warnings\n",
    "from sklearn.model_selection import train_test_split\n",
    "from sklearn.preprocessing import MinMaxScaler, OneHotEncoder\n",
    "from sklearn.cluster import KMeans\n",
    "from unidecode import unidecode\n",
    "import re\n",
    "import warnings\n",
    "\n",
    "# Ignore FutureWarning\n",
    "warnings.simplefilter(action='ignore', category=FutureWarning)"
   ]
  },
  {
   "cell_type": "code",
   "execution_count": 2,
   "metadata": {},
   "outputs": [],
   "source": [
    "#Establecer estilo de los graficos\n",
    "sns.set(style=\"darkgrid\", palette=\"Set2\",)\n",
    "\n",
    "# Ignorar advertencias de tipo FutureWarning\n",
    "warnings.filterwarnings(\"ignore\", category=FutureWarning)"
   ]
  },
  {
   "cell_type": "markdown",
   "metadata": {},
   "source": [
    "<center> \n",
    "\n",
    "# 1. Preprocesamiento de los datos </center>"
   ]
  },
  {
   "cell_type": "markdown",
   "metadata": {},
   "source": [
    "<center>\n",
    "\n",
    "## 1.1 Vistazo inicial del dataset\n",
    "</center>"
   ]
  },
  {
   "cell_type": "code",
   "execution_count": 3,
   "metadata": {},
   "outputs": [
    {
     "name": "stderr",
     "output_type": "stream",
     "text": [
      "C:\\Users\\pixel\\AppData\\Local\\Temp\\ipykernel_5796\\2719112179.py:2: DtypeWarning: Columns (0) have mixed types. Specify dtype option on import or set low_memory=False.\n",
      "  df = pd.read_csv('incidentes_viales.csv', sep=';', encoding='utf-8')\n"
     ]
    },
    {
     "data": {
      "text/html": [
       "<div>\n",
       "<style scoped>\n",
       "    .dataframe tbody tr th:only-of-type {\n",
       "        vertical-align: middle;\n",
       "    }\n",
       "\n",
       "    .dataframe tbody tr th {\n",
       "        vertical-align: top;\n",
       "    }\n",
       "\n",
       "    .dataframe thead th {\n",
       "        text-align: right;\n",
       "    }\n",
       "</style>\n",
       "<table border=\"1\" class=\"dataframe\">\n",
       "  <thead>\n",
       "    <tr style=\"text-align: right;\">\n",
       "      <th></th>\n",
       "      <th>AÑO</th>\n",
       "      <th>CBML</th>\n",
       "      <th>CLASE_ACCIDENTE</th>\n",
       "      <th>DIRECCION</th>\n",
       "      <th>DIRECCION ENCASILLADA</th>\n",
       "      <th>DISEÑO</th>\n",
       "      <th>EXPEDIENTE</th>\n",
       "      <th>FECHA_ACCIDENTE</th>\n",
       "      <th>FECHA_ACCIDENTES</th>\n",
       "      <th>GRAVEDAD_ACCIDENTE</th>\n",
       "      <th>MES</th>\n",
       "      <th>NRO_RADICADO</th>\n",
       "      <th>NUMCOMUNA</th>\n",
       "      <th>BARRIO</th>\n",
       "      <th>COMUNA</th>\n",
       "      <th>LOCATION</th>\n",
       "      <th>X</th>\n",
       "      <th>Y</th>\n",
       "    </tr>\n",
       "  </thead>\n",
       "  <tbody>\n",
       "    <tr>\n",
       "      <th>0</th>\n",
       "      <td>2015</td>\n",
       "      <td>1013</td>\n",
       "      <td>Caida Ocupante</td>\n",
       "      <td>CR 46 CL 43</td>\n",
       "      <td>CR  046   043  000 00000</td>\n",
       "      <td>Tramo de via</td>\n",
       "      <td>A000259731</td>\n",
       "      <td>21/10/2015 05:58:00</td>\n",
       "      <td>2015-10-21T10:58:00.000Z</td>\n",
       "      <td>Con heridos</td>\n",
       "      <td>10</td>\n",
       "      <td>1508668</td>\n",
       "      <td>10</td>\n",
       "      <td>Barrio Colón</td>\n",
       "      <td>La Candelaria</td>\n",
       "      <td>[-75.5688011014, 6.24312304123]</td>\n",
       "      <td>834949.69</td>\n",
       "      <td>1182357.34</td>\n",
       "    </tr>\n",
       "    <tr>\n",
       "      <th>1</th>\n",
       "      <td>2015</td>\n",
       "      <td>1020</td>\n",
       "      <td>Choque</td>\n",
       "      <td>CR 43 A CL 29</td>\n",
       "      <td>CR  043 A   029  000 00000</td>\n",
       "      <td>Tramo de via</td>\n",
       "      <td>A000261725</td>\n",
       "      <td>05/11/2015 03:00:00</td>\n",
       "      <td>2015-11-05T08:00:00.000Z</td>\n",
       "      <td>Solo daños</td>\n",
       "      <td>11</td>\n",
       "      <td>1510621</td>\n",
       "      <td>10</td>\n",
       "      <td>San Diego</td>\n",
       "      <td>La Candelaria</td>\n",
       "      <td>[-75.5693883283, 6.22870030622]</td>\n",
       "      <td>834880.17</td>\n",
       "      <td>1180762.02</td>\n",
       "    </tr>\n",
       "    <tr>\n",
       "      <th>2</th>\n",
       "      <td>2015</td>\n",
       "      <td>0205</td>\n",
       "      <td>Otro</td>\n",
       "      <td>CR 46 CL 37</td>\n",
       "      <td>CR  046   037  000 00000</td>\n",
       "      <td>Tramo de via</td>\n",
       "      <td>A000259739</td>\n",
       "      <td>21/10/2015 07:40:00</td>\n",
       "      <td>2015-10-21T12:40:00.000Z</td>\n",
       "      <td>Con heridos</td>\n",
       "      <td>10</td>\n",
       "      <td>1508691</td>\n",
       "      <td>02</td>\n",
       "      <td>La Francia</td>\n",
       "      <td>Santa Cruz</td>\n",
       "      <td>[-75.5503911403, 6.29869502502]</td>\n",
       "      <td>837004.94</td>\n",
       "      <td>1188499.17</td>\n",
       "    </tr>\n",
       "    <tr>\n",
       "      <th>3</th>\n",
       "      <td>2015</td>\n",
       "      <td>0101</td>\n",
       "      <td>Atropello</td>\n",
       "      <td>CR 34 CL 112</td>\n",
       "      <td>CR  034   112  000 00000</td>\n",
       "      <td>Tramo de via</td>\n",
       "      <td>A000259752</td>\n",
       "      <td>21/10/2015 12:00:00</td>\n",
       "      <td>2015-10-21T17:00:00.000Z</td>\n",
       "      <td>Con heridos</td>\n",
       "      <td>10</td>\n",
       "      <td>1508694</td>\n",
       "      <td>01</td>\n",
       "      <td>Santo Domingo Savio No. 1</td>\n",
       "      <td>Popular</td>\n",
       "      <td>[-75.5442195069, 6.30019383306]</td>\n",
       "      <td>837688.53</td>\n",
       "      <td>1188663.05</td>\n",
       "    </tr>\n",
       "    <tr>\n",
       "      <th>4</th>\n",
       "      <td>2015</td>\n",
       "      <td>1504</td>\n",
       "      <td>Choque</td>\n",
       "      <td>CR 50 CL 14</td>\n",
       "      <td>CR  050   014  000 00000</td>\n",
       "      <td>Tramo de via</td>\n",
       "      <td>A000259949</td>\n",
       "      <td>03/11/2015 06:16:00</td>\n",
       "      <td>2015-11-03T11:16:00.000Z</td>\n",
       "      <td>Solo daños</td>\n",
       "      <td>11</td>\n",
       "      <td>1510634</td>\n",
       "      <td>15</td>\n",
       "      <td>Santa Fé</td>\n",
       "      <td>Guayabal</td>\n",
       "      <td>[-75.578180998, 6.21699243701]</td>\n",
       "      <td>833903.11</td>\n",
       "      <td>1179469.60</td>\n",
       "    </tr>\n",
       "  </tbody>\n",
       "</table>\n",
       "</div>"
      ],
      "text/plain": [
       "    AÑO  CBML CLASE_ACCIDENTE      DIRECCION       DIRECCION ENCASILLADA  \\\n",
       "0  2015  1013  Caida Ocupante    CR 46 CL 43    CR  046   043  000 00000   \n",
       "1  2015  1020          Choque  CR 43 A CL 29  CR  043 A   029  000 00000   \n",
       "2  2015  0205            Otro    CR 46 CL 37    CR  046   037  000 00000   \n",
       "3  2015  0101       Atropello   CR 34 CL 112    CR  034   112  000 00000   \n",
       "4  2015  1504          Choque    CR 50 CL 14    CR  050   014  000 00000   \n",
       "\n",
       "         DISEÑO  EXPEDIENTE      FECHA_ACCIDENTE          FECHA_ACCIDENTES  \\\n",
       "0  Tramo de via  A000259731  21/10/2015 05:58:00  2015-10-21T10:58:00.000Z   \n",
       "1  Tramo de via  A000261725  05/11/2015 03:00:00  2015-11-05T08:00:00.000Z   \n",
       "2  Tramo de via  A000259739  21/10/2015 07:40:00  2015-10-21T12:40:00.000Z   \n",
       "3  Tramo de via  A000259752  21/10/2015 12:00:00  2015-10-21T17:00:00.000Z   \n",
       "4  Tramo de via  A000259949  03/11/2015 06:16:00  2015-11-03T11:16:00.000Z   \n",
       "\n",
       "  GRAVEDAD_ACCIDENTE  MES NRO_RADICADO NUMCOMUNA                     BARRIO  \\\n",
       "0        Con heridos   10      1508668        10               Barrio Colón   \n",
       "1         Solo daños   11      1510621        10                  San Diego   \n",
       "2        Con heridos   10      1508691        02                 La Francia   \n",
       "3        Con heridos   10      1508694        01  Santo Domingo Savio No. 1   \n",
       "4         Solo daños   11      1510634        15                   Santa Fé   \n",
       "\n",
       "          COMUNA                         LOCATION          X           Y  \n",
       "0  La Candelaria  [-75.5688011014, 6.24312304123]  834949.69  1182357.34  \n",
       "1  La Candelaria  [-75.5693883283, 6.22870030622]  834880.17  1180762.02  \n",
       "2     Santa Cruz  [-75.5503911403, 6.29869502502]  837004.94  1188499.17  \n",
       "3        Popular  [-75.5442195069, 6.30019383306]  837688.53  1188663.05  \n",
       "4       Guayabal   [-75.578180998, 6.21699243701]  833903.11  1179469.60  "
      ]
     },
     "execution_count": 3,
     "metadata": {},
     "output_type": "execute_result"
    }
   ],
   "source": [
    "#Importacion del dataset\n",
    "df = pd.read_csv('incidentes_viales.csv', sep=';', encoding='utf-8')\n",
    "df.head()"
   ]
  },
  {
   "cell_type": "code",
   "execution_count": 4,
   "metadata": {},
   "outputs": [
    {
     "data": {
      "text/plain": [
       "(270765, 18)"
      ]
     },
     "execution_count": 4,
     "metadata": {},
     "output_type": "execute_result"
    }
   ],
   "source": [
    "#Tamaño del dataset\n",
    "df.shape"
   ]
  },
  {
   "cell_type": "code",
   "execution_count": 5,
   "metadata": {},
   "outputs": [
    {
     "data": {
      "text/plain": [
       "AÑO                       object\n",
       "CBML                      object\n",
       "CLASE_ACCIDENTE           object\n",
       "DIRECCION                 object\n",
       "DIRECCION ENCASILLADA     object\n",
       "DISEÑO                    object\n",
       "EXPEDIENTE                object\n",
       "FECHA_ACCIDENTE           object\n",
       "FECHA_ACCIDENTES          object\n",
       "GRAVEDAD_ACCIDENTE        object\n",
       "MES                        int64\n",
       "NRO_RADICADO              object\n",
       "NUMCOMUNA                 object\n",
       "BARRIO                    object\n",
       "COMUNA                    object\n",
       "LOCATION                  object\n",
       "X                        float64\n",
       "Y                        float64\n",
       "dtype: object"
      ]
     },
     "execution_count": 5,
     "metadata": {},
     "output_type": "execute_result"
    }
   ],
   "source": [
    "#Verificar el tipo de datos por variable\n",
    "df.dtypes"
   ]
  },
  {
   "cell_type": "code",
   "execution_count": 6,
   "metadata": {},
   "outputs": [
    {
     "data": {
      "text/plain": [
       "AÑO                          0\n",
       "CBML                     18156\n",
       "CLASE_ACCIDENTE              6\n",
       "DIRECCION                    0\n",
       "DIRECCION ENCASILLADA      391\n",
       "DISEÑO                    1148\n",
       "EXPEDIENTE                 110\n",
       "FECHA_ACCIDENTE              0\n",
       "FECHA_ACCIDENTES             0\n",
       "GRAVEDAD_ACCIDENTE           0\n",
       "MES                          0\n",
       "NRO_RADICADO                 5\n",
       "NUMCOMUNA                    0\n",
       "BARRIO                   19006\n",
       "COMUNA                   12798\n",
       "LOCATION                     0\n",
       "X                            0\n",
       "Y                            0\n",
       "dtype: int64"
      ]
     },
     "execution_count": 6,
     "metadata": {},
     "output_type": "execute_result"
    }
   ],
   "source": [
    "#Verificar si hay valores nulos y cuantos hay por variable\n",
    "df.isnull().sum()"
   ]
  },
  {
   "cell_type": "code",
   "execution_count": 7,
   "metadata": {},
   "outputs": [
    {
     "data": {
      "text/html": [
       "<div>\n",
       "<style scoped>\n",
       "    .dataframe tbody tr th:only-of-type {\n",
       "        vertical-align: middle;\n",
       "    }\n",
       "\n",
       "    .dataframe tbody tr th {\n",
       "        vertical-align: top;\n",
       "    }\n",
       "\n",
       "    .dataframe thead th {\n",
       "        text-align: right;\n",
       "    }\n",
       "</style>\n",
       "<table border=\"1\" class=\"dataframe\">\n",
       "  <thead>\n",
       "    <tr style=\"text-align: right;\">\n",
       "      <th></th>\n",
       "      <th>AÑO</th>\n",
       "      <th>CBML</th>\n",
       "      <th>CLASE_ACCIDENTE</th>\n",
       "      <th>DIRECCION</th>\n",
       "      <th>DIRECCION ENCASILLADA</th>\n",
       "      <th>DISEÑO</th>\n",
       "      <th>EXPEDIENTE</th>\n",
       "      <th>FECHA_ACCIDENTE</th>\n",
       "      <th>FECHA_ACCIDENTES</th>\n",
       "      <th>GRAVEDAD_ACCIDENTE</th>\n",
       "      <th>MES</th>\n",
       "      <th>NRO_RADICADO</th>\n",
       "      <th>NUMCOMUNA</th>\n",
       "      <th>BARRIO</th>\n",
       "      <th>COMUNA</th>\n",
       "      <th>LOCATION</th>\n",
       "      <th>X</th>\n",
       "      <th>Y</th>\n",
       "    </tr>\n",
       "  </thead>\n",
       "  <tbody>\n",
       "    <tr>\n",
       "      <th>107212</th>\n",
       "      <td>2017</td>\n",
       "      <td>0206</td>\n",
       "      <td>Choque</td>\n",
       "      <td>CR 52 CL 107</td>\n",
       "      <td>CR  052   107  000 00000</td>\n",
       "      <td>NaN</td>\n",
       "      <td>A000673223</td>\n",
       "      <td>25/12/2017 10:00:00</td>\n",
       "      <td>2017-12-25T15:00:00.000Z</td>\n",
       "      <td>Con muertos</td>\n",
       "      <td>12</td>\n",
       "      <td>62196</td>\n",
       "      <td>02</td>\n",
       "      <td>Andalucía</td>\n",
       "      <td>Santa Cruz</td>\n",
       "      <td>[-75.5574464031, 6.29966255324]</td>\n",
       "      <td>836224.31</td>\n",
       "      <td>1188608.41</td>\n",
       "    </tr>\n",
       "    <tr>\n",
       "      <th>266852</th>\n",
       "      <td>2016</td>\n",
       "      <td>1018</td>\n",
       "      <td>Atropello</td>\n",
       "      <td>CL 58 CR 50</td>\n",
       "      <td>CL  058   050  000 00000</td>\n",
       "      <td>NaN</td>\n",
       "      <td>A000487308</td>\n",
       "      <td>20/11/2016 02:05:00</td>\n",
       "      <td>2016-11-20T07:05:00.000Z</td>\n",
       "      <td>Con muertos</td>\n",
       "      <td>11</td>\n",
       "      <td>58560</td>\n",
       "      <td>10</td>\n",
       "      <td>Villa Nueva</td>\n",
       "      <td>La Candelaria</td>\n",
       "      <td>[-75.5642900962, 6.25591991287]</td>\n",
       "      <td>835453.06</td>\n",
       "      <td>1183771.57</td>\n",
       "    </tr>\n",
       "    <tr>\n",
       "      <th>270449</th>\n",
       "      <td>2015</td>\n",
       "      <td>80003360020</td>\n",
       "      <td>Choque</td>\n",
       "      <td>CR 63 CL 50 C Sur 09</td>\n",
       "      <td>CR  063  S 050 C  009 00000</td>\n",
       "      <td>NaN</td>\n",
       "      <td>A000177042</td>\n",
       "      <td>13/05/2015 18:31:00</td>\n",
       "      <td>2015-05-13T23:31:00.000Z</td>\n",
       "      <td>Con muertos</td>\n",
       "      <td>5</td>\n",
       "      <td>050016000206201523690</td>\n",
       "      <td>80</td>\n",
       "      <td>Cabecera San Antonio de Prado</td>\n",
       "      <td>Corregimiento de San Antonio de Prado</td>\n",
       "      <td>[-75.6448608945, 6.17708308094]</td>\n",
       "      <td>826508.06</td>\n",
       "      <td>1175075.92</td>\n",
       "    </tr>\n",
       "  </tbody>\n",
       "</table>\n",
       "</div>"
      ],
      "text/plain": [
       "         AÑO         CBML CLASE_ACCIDENTE             DIRECCION  \\\n",
       "107212  2017         0206          Choque          CR 52 CL 107   \n",
       "266852  2016         1018       Atropello           CL 58 CR 50   \n",
       "270449  2015  80003360020          Choque  CR 63 CL 50 C Sur 09   \n",
       "\n",
       "              DIRECCION ENCASILLADA DISEÑO  EXPEDIENTE      FECHA_ACCIDENTE  \\\n",
       "107212     CR  052   107  000 00000    NaN  A000673223  25/12/2017 10:00:00   \n",
       "266852     CL  058   050  000 00000    NaN  A000487308  20/11/2016 02:05:00   \n",
       "270449  CR  063  S 050 C  009 00000    NaN  A000177042  13/05/2015 18:31:00   \n",
       "\n",
       "                FECHA_ACCIDENTES GRAVEDAD_ACCIDENTE  MES  \\\n",
       "107212  2017-12-25T15:00:00.000Z        Con muertos   12   \n",
       "266852  2016-11-20T07:05:00.000Z        Con muertos   11   \n",
       "270449  2015-05-13T23:31:00.000Z        Con muertos    5   \n",
       "\n",
       "                 NRO_RADICADO NUMCOMUNA                         BARRIO  \\\n",
       "107212                  62196        02                      Andalucía   \n",
       "266852                  58560        10                    Villa Nueva   \n",
       "270449  050016000206201523690        80  Cabecera San Antonio de Prado   \n",
       "\n",
       "                                       COMUNA  \\\n",
       "107212                             Santa Cruz   \n",
       "266852                          La Candelaria   \n",
       "270449  Corregimiento de San Antonio de Prado   \n",
       "\n",
       "                               LOCATION          X           Y  \n",
       "107212  [-75.5574464031, 6.29966255324]  836224.31  1188608.41  \n",
       "266852  [-75.5642900962, 6.25591991287]  835453.06  1183771.57  \n",
       "270449  [-75.6448608945, 6.17708308094]  826508.06  1175075.92  "
      ]
     },
     "execution_count": 7,
     "metadata": {},
     "output_type": "execute_result"
    }
   ],
   "source": [
    "#Verificar si hay registros duplicados\n",
    "df[df.duplicated()]"
   ]
  },
  {
   "cell_type": "code",
   "execution_count": 8,
   "metadata": {},
   "outputs": [],
   "source": [
    "#Eliminar registros duplicados\n",
    "df.drop_duplicates(inplace=True)"
   ]
  },
  {
   "cell_type": "code",
   "execution_count": 9,
   "metadata": {},
   "outputs": [
    {
     "data": {
      "text/plain": [
       "AÑO                          14\n",
       "CBML                        842\n",
       "CLASE_ACCIDENTE               9\n",
       "DIRECCION                 39285\n",
       "DIRECCION ENCASILLADA     35360\n",
       "DISEÑO                       13\n",
       "EXPEDIENTE               270152\n",
       "FECHA_ACCIDENTE          176043\n",
       "FECHA_ACCIDENTES         176043\n",
       "GRAVEDAD_ACCIDENTE            4\n",
       "MES                          12\n",
       "NRO_RADICADO             270730\n",
       "NUMCOMUNA                    35\n",
       "BARRIO                      490\n",
       "COMUNA                       31\n",
       "LOCATION                  26868\n",
       "X                         26072\n",
       "Y                         26380\n",
       "dtype: int64"
      ]
     },
     "execution_count": 9,
     "metadata": {},
     "output_type": "execute_result"
    }
   ],
   "source": [
    "#Valores unicos por variable\n",
    "df.nunique()"
   ]
  },
  {
   "cell_type": "markdown",
   "metadata": {},
   "source": [
    "<center>\n",
    "\n",
    "## 1.2 Eliminacion de variables  \n",
    "</center>"
   ]
  },
  {
   "cell_type": "markdown",
   "metadata": {},
   "source": [
    "#### Se eliminaran aquellas variables que no tengan ningun tipo de relacion con nuestro objetivo o que tengan la misma informacion que otras pariables pero menos comunicativas "
   ]
  },
  {
   "cell_type": "code",
   "execution_count": 10,
   "metadata": {},
   "outputs": [],
   "source": [
    "#Eliminar variables que no se van a utilizar\n",
    "df.drop(\n",
    "  axis=1, columns=[\"CBML\", \"DIRECCION ENCASILLADA\", \"EXPEDIENTE\", \"FECHA_ACCIDENTES\", \"NRO_RADICADO\", \"X\", \"Y\"], \n",
    "  inplace=True\n",
    ")"
   ]
  },
  {
   "cell_type": "code",
   "execution_count": 11,
   "metadata": {},
   "outputs": [
    {
     "data": {
      "text/html": [
       "<div>\n",
       "<style scoped>\n",
       "    .dataframe tbody tr th:only-of-type {\n",
       "        vertical-align: middle;\n",
       "    }\n",
       "\n",
       "    .dataframe tbody tr th {\n",
       "        vertical-align: top;\n",
       "    }\n",
       "\n",
       "    .dataframe thead th {\n",
       "        text-align: right;\n",
       "    }\n",
       "</style>\n",
       "<table border=\"1\" class=\"dataframe\">\n",
       "  <thead>\n",
       "    <tr style=\"text-align: right;\">\n",
       "      <th></th>\n",
       "      <th>AÑO</th>\n",
       "      <th>CLASE_ACCIDENTE</th>\n",
       "      <th>DIRECCION</th>\n",
       "      <th>DISEÑO</th>\n",
       "      <th>FECHA_ACCIDENTE</th>\n",
       "      <th>GRAVEDAD_ACCIDENTE</th>\n",
       "      <th>MES</th>\n",
       "      <th>NUMCOMUNA</th>\n",
       "      <th>BARRIO</th>\n",
       "      <th>COMUNA</th>\n",
       "      <th>LOCATION</th>\n",
       "    </tr>\n",
       "  </thead>\n",
       "  <tbody>\n",
       "    <tr>\n",
       "      <th>0</th>\n",
       "      <td>2015</td>\n",
       "      <td>Caida Ocupante</td>\n",
       "      <td>CR 46 CL 43</td>\n",
       "      <td>Tramo de via</td>\n",
       "      <td>21/10/2015 05:58:00</td>\n",
       "      <td>Con heridos</td>\n",
       "      <td>10</td>\n",
       "      <td>10</td>\n",
       "      <td>Barrio Colón</td>\n",
       "      <td>La Candelaria</td>\n",
       "      <td>[-75.5688011014, 6.24312304123]</td>\n",
       "    </tr>\n",
       "    <tr>\n",
       "      <th>1</th>\n",
       "      <td>2015</td>\n",
       "      <td>Choque</td>\n",
       "      <td>CR 43 A CL 29</td>\n",
       "      <td>Tramo de via</td>\n",
       "      <td>05/11/2015 03:00:00</td>\n",
       "      <td>Solo daños</td>\n",
       "      <td>11</td>\n",
       "      <td>10</td>\n",
       "      <td>San Diego</td>\n",
       "      <td>La Candelaria</td>\n",
       "      <td>[-75.5693883283, 6.22870030622]</td>\n",
       "    </tr>\n",
       "    <tr>\n",
       "      <th>2</th>\n",
       "      <td>2015</td>\n",
       "      <td>Otro</td>\n",
       "      <td>CR 46 CL 37</td>\n",
       "      <td>Tramo de via</td>\n",
       "      <td>21/10/2015 07:40:00</td>\n",
       "      <td>Con heridos</td>\n",
       "      <td>10</td>\n",
       "      <td>02</td>\n",
       "      <td>La Francia</td>\n",
       "      <td>Santa Cruz</td>\n",
       "      <td>[-75.5503911403, 6.29869502502]</td>\n",
       "    </tr>\n",
       "    <tr>\n",
       "      <th>3</th>\n",
       "      <td>2015</td>\n",
       "      <td>Atropello</td>\n",
       "      <td>CR 34 CL 112</td>\n",
       "      <td>Tramo de via</td>\n",
       "      <td>21/10/2015 12:00:00</td>\n",
       "      <td>Con heridos</td>\n",
       "      <td>10</td>\n",
       "      <td>01</td>\n",
       "      <td>Santo Domingo Savio No. 1</td>\n",
       "      <td>Popular</td>\n",
       "      <td>[-75.5442195069, 6.30019383306]</td>\n",
       "    </tr>\n",
       "    <tr>\n",
       "      <th>4</th>\n",
       "      <td>2015</td>\n",
       "      <td>Choque</td>\n",
       "      <td>CR 50 CL 14</td>\n",
       "      <td>Tramo de via</td>\n",
       "      <td>03/11/2015 06:16:00</td>\n",
       "      <td>Solo daños</td>\n",
       "      <td>11</td>\n",
       "      <td>15</td>\n",
       "      <td>Santa Fé</td>\n",
       "      <td>Guayabal</td>\n",
       "      <td>[-75.578180998, 6.21699243701]</td>\n",
       "    </tr>\n",
       "  </tbody>\n",
       "</table>\n",
       "</div>"
      ],
      "text/plain": [
       "    AÑO CLASE_ACCIDENTE      DIRECCION        DISEÑO      FECHA_ACCIDENTE  \\\n",
       "0  2015  Caida Ocupante    CR 46 CL 43  Tramo de via  21/10/2015 05:58:00   \n",
       "1  2015          Choque  CR 43 A CL 29  Tramo de via  05/11/2015 03:00:00   \n",
       "2  2015            Otro    CR 46 CL 37  Tramo de via  21/10/2015 07:40:00   \n",
       "3  2015       Atropello   CR 34 CL 112  Tramo de via  21/10/2015 12:00:00   \n",
       "4  2015          Choque    CR 50 CL 14  Tramo de via  03/11/2015 06:16:00   \n",
       "\n",
       "  GRAVEDAD_ACCIDENTE  MES NUMCOMUNA                     BARRIO         COMUNA  \\\n",
       "0        Con heridos   10        10               Barrio Colón  La Candelaria   \n",
       "1         Solo daños   11        10                  San Diego  La Candelaria   \n",
       "2        Con heridos   10        02                 La Francia     Santa Cruz   \n",
       "3        Con heridos   10        01  Santo Domingo Savio No. 1        Popular   \n",
       "4         Solo daños   11        15                   Santa Fé       Guayabal   \n",
       "\n",
       "                          LOCATION  \n",
       "0  [-75.5688011014, 6.24312304123]  \n",
       "1  [-75.5693883283, 6.22870030622]  \n",
       "2  [-75.5503911403, 6.29869502502]  \n",
       "3  [-75.5442195069, 6.30019383306]  \n",
       "4   [-75.578180998, 6.21699243701]  "
      ]
     },
     "execution_count": 11,
     "metadata": {},
     "output_type": "execute_result"
    }
   ],
   "source": [
    "#Mostrar el dataset sin las variables eliminadas\n",
    "df.head()"
   ]
  },
  {
   "cell_type": "markdown",
   "metadata": {},
   "source": [
    "<center>\n",
    "\n",
    "## 1.3 Imputacion de datos nulos\n",
    "</center>"
   ]
  },
  {
   "cell_type": "markdown",
   "metadata": {},
   "source": [
    "#### Se hara uso de la plataforma Mapas de Medellin para, mediante la direccion de los accidentes dispuesta en el dataset, extraer los valores faltantes en la variable BARRIO e imputarlos "
   ]
  },
  {
   "cell_type": "code",
   "execution_count": 12,
   "metadata": {},
   "outputs": [],
   "source": [
    "#Tomamos los datos de la variable direccion y lo guardamos en un nuevo dataset\n",
    "df_direccion = df[['DIRECCION']]"
   ]
  },
  {
   "cell_type": "code",
   "execution_count": 13,
   "metadata": {},
   "outputs": [],
   "source": [
    "#Guardamos este dataset en un archivo excel\n",
    "#df_direccion.to_excel('incidentes_viales.xlsx', index=False)"
   ]
  },
  {
   "cell_type": "code",
   "execution_count": 14,
   "metadata": {},
   "outputs": [
    {
     "name": "stderr",
     "output_type": "stream",
     "text": [
      "c:\\Users\\pixel\\anaconda3\\lib\\site-packages\\openpyxl\\styles\\stylesheet.py:226: UserWarning: Workbook contains no default style, apply openpyxl's default\n",
      "  warn(\"Workbook contains no default style, apply openpyxl's default\")\n"
     ]
    }
   ],
   "source": [
    "#Importamos el dataset creado por la plataforma Mapas de Medellin y lo guardamos en un nuevo dataset\n",
    "df_mapas = pd.read_excel('barrios_medellin_por_direccion.xlsx')"
   ]
  },
  {
   "cell_type": "code",
   "execution_count": 15,
   "metadata": {},
   "outputs": [],
   "source": [
    "#Extreamos los indices de los registros que no tienen barrio\n",
    "indices = df[df[['BARRIO']].isna().any(axis=1)].index"
   ]
  },
  {
   "cell_type": "code",
   "execution_count": 16,
   "metadata": {},
   "outputs": [],
   "source": [
    "#Pasamos los indices al dataframe de mapas y guardamos el resultado en un nuevo dataframe\n",
    "df_mapas_filtrado = df_mapas.loc[indices]"
   ]
  },
  {
   "cell_type": "code",
   "execution_count": 17,
   "metadata": {},
   "outputs": [],
   "source": [
    "#Extreamos los indices de los registros que tienen barrio y el barrio con el que se relaciona\n",
    "barrios_filtrados = df_mapas_filtrado[~(df_mapas.loc[indices][['Barrio Catastro']].isna().any(axis=1))][['Barrio Catastro']]\n",
    "indices_filtrados = barrios_filtrados.index"
   ]
  },
  {
   "cell_type": "code",
   "execution_count": 18,
   "metadata": {},
   "outputs": [],
   "source": [
    "#Se imputan los datos de barrio al dataset original\n",
    "for i in indices_filtrados:\n",
    "    df.loc[i, 'BARRIO'] = barrios_filtrados.loc[i, 'Barrio Catastro']"
   ]
  },
  {
   "cell_type": "code",
   "execution_count": 19,
   "metadata": {},
   "outputs": [
    {
     "data": {
      "text/plain": [
       "AÑO                       0\n",
       "CLASE_ACCIDENTE           6\n",
       "DIRECCION                 0\n",
       "DISEÑO                 1145\n",
       "FECHA_ACCIDENTE           0\n",
       "GRAVEDAD_ACCIDENTE        0\n",
       "MES                       0\n",
       "NUMCOMUNA                 0\n",
       "BARRIO                11887\n",
       "COMUNA                12798\n",
       "LOCATION                  0\n",
       "dtype: int64"
      ]
     },
     "execution_count": 19,
     "metadata": {},
     "output_type": "execute_result"
    }
   ],
   "source": [
    "#Verificamos que fueron imputados estos 7 mil datos correctamente. Como no se pudieron imputar la totalidad de los datos, se usara otra estrategia para imputar los restantes\n",
    "df.isna().sum()"
   ]
  },
  {
   "cell_type": "markdown",
   "metadata": {},
   "source": [
    "<center>\n",
    "\n",
    "## 1.4 Estandarizacion de valores por variable\n",
    "</center>"
   ]
  },
  {
   "cell_type": "markdown",
   "metadata": {},
   "source": [
    "### 1.4.1 Variable: Año"
   ]
  },
  {
   "cell_type": "code",
   "execution_count": 20,
   "metadata": {},
   "outputs": [
    {
     "data": {
      "text/plain": [
       "array(['2015', '2014', '2016', '2017', '2018', '2019\\\\r', '2019', '2020',\n",
       "       2020, 2015, 2014, 2016, 2017, 2018], dtype=object)"
      ]
     },
     "execution_count": 20,
     "metadata": {},
     "output_type": "execute_result"
    }
   ],
   "source": [
    "#Verificar los valores unicos de la variable AÑO \n",
    "df.AÑO.unique()"
   ]
  },
  {
   "cell_type": "code",
   "execution_count": 21,
   "metadata": {},
   "outputs": [],
   "source": [
    "#Estandarizar estos valores\n",
    "df.AÑO.replace({\n",
    "  2014: '2014',\n",
    "  2015: '2015',\n",
    "  2016: '2016',\n",
    "  2017: '2017',\n",
    "  2018: '2018', \n",
    "  2019: '2019', \n",
    "  2020: '2020',\n",
    "  '2019\\\\r': '2019'\n",
    "}, inplace=True)"
   ]
  },
  {
   "cell_type": "code",
   "execution_count": 22,
   "metadata": {},
   "outputs": [
    {
     "data": {
      "text/plain": [
       "array(['2015', '2014', '2016', '2017', '2018', '2019', '2020'],\n",
       "      dtype=object)"
      ]
     },
     "execution_count": 22,
     "metadata": {},
     "output_type": "execute_result"
    }
   ],
   "source": [
    "#Verificar la estandarizacion\n",
    "df.AÑO.unique()"
   ]
  },
  {
   "cell_type": "markdown",
   "metadata": {},
   "source": [
    "### 1.4.2 Variable: Clase de accidente"
   ]
  },
  {
   "cell_type": "code",
   "execution_count": 23,
   "metadata": {},
   "outputs": [],
   "source": [
    "#Eliminar valores nulos de la variable CLASE_ACCIDENTE\n",
    "df.dropna(subset=['CLASE_ACCIDENTE'], inplace=True)"
   ]
  },
  {
   "cell_type": "code",
   "execution_count": 24,
   "metadata": {},
   "outputs": [
    {
     "data": {
      "text/plain": [
       "array(['Caida Ocupante', 'Choque', 'Otro', 'Atropello', 'Volcamiento',\n",
       "       'Caída de Ocupante', 'Caída Ocupante', 'Incendio',\n",
       "       'Caida de Ocupante'], dtype=object)"
      ]
     },
     "execution_count": 24,
     "metadata": {},
     "output_type": "execute_result"
    }
   ],
   "source": [
    "#Verificar los valores unicos de la variable CLASE_ACCIDENTE\n",
    "df.CLASE_ACCIDENTE.unique() "
   ]
  },
  {
   "cell_type": "code",
   "execution_count": 25,
   "metadata": {},
   "outputs": [],
   "source": [
    "#Estandarizar estos valores\n",
    "df.CLASE_ACCIDENTE.replace({\n",
    "  'Caída de Ocupante': 'Caida Ocupante',\n",
    "  'Caída Ocupante': 'Caida Ocupante',\n",
    "  'Caida de Ocupante': 'Caida Ocupante',\n",
    "}, inplace=True)"
   ]
  },
  {
   "cell_type": "code",
   "execution_count": 26,
   "metadata": {},
   "outputs": [
    {
     "data": {
      "text/plain": [
       "array(['Caida Ocupante', 'Choque', 'Otro', 'Atropello', 'Volcamiento',\n",
       "       'Incendio'], dtype=object)"
      ]
     },
     "execution_count": 26,
     "metadata": {},
     "output_type": "execute_result"
    }
   ],
   "source": [
    "#Verificar la estandarizacion\n",
    "df.CLASE_ACCIDENTE.unique()"
   ]
  },
  {
   "cell_type": "markdown",
   "metadata": {},
   "source": [
    "### 1.4.3 Variable: Diseño"
   ]
  },
  {
   "cell_type": "code",
   "execution_count": 27,
   "metadata": {},
   "outputs": [],
   "source": [
    "#Eliminar valores nulos de la variable DISEÑO \n",
    "df.dropna(subset='DISEÑO', inplace=True)"
   ]
  },
  {
   "cell_type": "code",
   "execution_count": 28,
   "metadata": {},
   "outputs": [
    {
     "data": {
      "text/plain": [
       "array(['Tramo de via', 'Interseccion', 'Glorieta', 'Lote o Predio',\n",
       "       'Paso a Nivel', 'Puente', 'Paso Elevado', 'Ciclo Ruta',\n",
       "       'Paso Inferior', 'Via peatonal', 'Pontón', 'Tunel', 'Pont\\\\xF3n'],\n",
       "      dtype=object)"
      ]
     },
     "execution_count": 28,
     "metadata": {},
     "output_type": "execute_result"
    }
   ],
   "source": [
    "#Verificar los valores unicos de la variable DISEÑO \n",
    "df.DISEÑO.unique()"
   ]
  },
  {
   "cell_type": "code",
   "execution_count": 29,
   "metadata": {},
   "outputs": [],
   "source": [
    "#Estandarizar estos valores\n",
    "df.DISEÑO.replace({\n",
    "  'Pont\\\\xF3n': 'Pontón'\n",
    "}, inplace=True) "
   ]
  },
  {
   "cell_type": "code",
   "execution_count": 30,
   "metadata": {},
   "outputs": [
    {
     "data": {
      "text/plain": [
       "array(['Tramo de via', 'Interseccion', 'Glorieta', 'Lote o Predio',\n",
       "       'Paso a Nivel', 'Puente', 'Paso Elevado', 'Ciclo Ruta',\n",
       "       'Paso Inferior', 'Via peatonal', 'Pontón', 'Tunel'], dtype=object)"
      ]
     },
     "execution_count": 30,
     "metadata": {},
     "output_type": "execute_result"
    }
   ],
   "source": [
    "#Verificar la estandarizacion\n",
    "df.DISEÑO.unique()"
   ]
  },
  {
   "cell_type": "markdown",
   "metadata": {},
   "source": [
    "### 1.4.4 Variable: Gravedad del accidente"
   ]
  },
  {
   "cell_type": "code",
   "execution_count": 31,
   "metadata": {},
   "outputs": [
    {
     "data": {
      "text/plain": [
       "array(['Con heridos', 'Solo daños', 'Solo da\\\\xF1os', 'Con muertos'],\n",
       "      dtype=object)"
      ]
     },
     "execution_count": 31,
     "metadata": {},
     "output_type": "execute_result"
    }
   ],
   "source": [
    "#Verificar los valores unicos de la variable Gravedad del accidente\n",
    "df.GRAVEDAD_ACCIDENTE.unique()"
   ]
  },
  {
   "cell_type": "code",
   "execution_count": 32,
   "metadata": {},
   "outputs": [],
   "source": [
    "#Estandarizas estos valores\n",
    "df.GRAVEDAD_ACCIDENTE.replace({\n",
    "  'Solo da\\\\xF1os': 'Solo daños',\n",
    "}, inplace=True)"
   ]
  },
  {
   "cell_type": "code",
   "execution_count": 33,
   "metadata": {},
   "outputs": [
    {
     "data": {
      "text/plain": [
       "array(['Con heridos', 'Solo daños', 'Con muertos'], dtype=object)"
      ]
     },
     "execution_count": 33,
     "metadata": {},
     "output_type": "execute_result"
    }
   ],
   "source": [
    "#Verificar la estandarizacion\n",
    "df.GRAVEDAD_ACCIDENTE.unique()"
   ]
  },
  {
   "cell_type": "markdown",
   "metadata": {},
   "source": [
    "### 1.4.5 Variable: Numero de la comuna"
   ]
  },
  {
   "cell_type": "code",
   "execution_count": 34,
   "metadata": {},
   "outputs": [
    {
     "data": {
      "text/plain": [
       "array(['10', '02', '01', '15', '14', '11', '07', '06', '04', '09', '05',\n",
       "       '80', 'Sin Inf', '13', '08', '16', '03', '12', '70', '60', '90',\n",
       "       'In', 'SN', '0', '50', 'AU', '5', '7', '9', '4', '3', '1', '2',\n",
       "       '8', '6'], dtype=object)"
      ]
     },
     "execution_count": 34,
     "metadata": {},
     "output_type": "execute_result"
    }
   ],
   "source": [
    "#Verificar los valores unicos de la variable NUMCOMUNA\n",
    "df.NUMCOMUNA.unique()"
   ]
  },
  {
   "cell_type": "code",
   "execution_count": 35,
   "metadata": {},
   "outputs": [],
   "source": [
    "#Estandarizar estos valores\n",
    "df.NUMCOMUNA.replace({\n",
    "  'In': np.nan,\n",
    "  'SN': np.nan,\n",
    "  'AU': np.nan,\n",
    "  'Sin Inf': np.nan,\n",
    "  '0': np.nan,\n",
    "  '01': '1',\n",
    "  '02': '2',\n",
    "  '03': '3',\n",
    "  '04': '4',\n",
    "  '05': '5',\n",
    "  '06': '6',\n",
    "  '07': '7',\n",
    "  '08': '8',\n",
    "  '09': '9',\n",
    "}, inplace=True)"
   ]
  },
  {
   "cell_type": "code",
   "execution_count": 36,
   "metadata": {},
   "outputs": [
    {
     "data": {
      "text/plain": [
       "array(['10', '2', '1', '15', '14', '11', '7', '6', '4', '9', '5', '80',\n",
       "       nan, '13', '8', '16', '3', '12', '70', '60', '90', '50'],\n",
       "      dtype=object)"
      ]
     },
     "execution_count": 36,
     "metadata": {},
     "output_type": "execute_result"
    }
   ],
   "source": [
    "#Verificar la estandarizacion\n",
    "df.NUMCOMUNA.unique()"
   ]
  },
  {
   "cell_type": "markdown",
   "metadata": {},
   "source": [
    "### 1.4.6 Variable: Comuna"
   ]
  },
  {
   "cell_type": "code",
   "execution_count": 37,
   "metadata": {},
   "outputs": [
    {
     "data": {
      "text/plain": [
       "array(['La Candelaria', 'Santa Cruz', 'Popular', 'Guayabal', 'El Poblado',\n",
       "       'Laureles Estadio', 'Robledo', 'Doce de Octubre', 'Aranjuez',\n",
       "       'Buenos Aires', 'Castilla',\n",
       "       'Corregimiento de San Antonio de Prado', nan, 'San Javier',\n",
       "       'Villa Hermosa', 'Belén', 'Manrique', 'La América',\n",
       "       'Corregimiento de Altavista', 'Corregimiento de San Cristóbal',\n",
       "       'Corregimiento de Santa Elena', 'In', 'SN', 'No Georef',\n",
       "       'Corregimiento de San Sebastián de Palmitas', 'Bel\\\\xE9n',\n",
       "       'La Am\\\\xE9rica', 'Corregimiento de San Crist\\\\xF3bal',\n",
       "       'Corregimiento de San Sebasti\\\\xE1n de Palmitas', 'Sin Inf', '0',\n",
       "       'AU'], dtype=object)"
      ]
     },
     "execution_count": 37,
     "metadata": {},
     "output_type": "execute_result"
    }
   ],
   "source": [
    "#Verificar los valores unicos de la variable COMUNA\n",
    "df.COMUNA.unique()"
   ]
  },
  {
   "cell_type": "code",
   "execution_count": 38,
   "metadata": {},
   "outputs": [],
   "source": [
    "#Estandarizar estos valores\n",
    "df.COMUNA.replace({\n",
    "  'Corregimiento de San Crist\\\\xF3bal': 'Corregimiento de San Cristóbal',\n",
    "  'Corregimiento de San Sebasti\\\\xE1n de Palmitas': 'Corregimiento de San Sebastián de Palmitas',\n",
    "  'La Am\\\\xE9rica': 'La América',\n",
    "  'AU': np.nan,\n",
    "  'In': np.nan,\n",
    "  'Bel\\\\xE9n': 'Belén',\n",
    "}, inplace=True)"
   ]
  },
  {
   "cell_type": "code",
   "execution_count": 39,
   "metadata": {},
   "outputs": [
    {
     "data": {
      "text/plain": [
       "array(['La Candelaria', 'Santa Cruz', 'Popular', 'Guayabal', 'El Poblado',\n",
       "       'Laureles Estadio', 'Robledo', 'Doce de Octubre', 'Aranjuez',\n",
       "       'Buenos Aires', 'Castilla',\n",
       "       'Corregimiento de San Antonio de Prado', nan, 'San Javier',\n",
       "       'Villa Hermosa', 'Belén', 'Manrique', 'La América',\n",
       "       'Corregimiento de Altavista', 'Corregimiento de San Cristóbal',\n",
       "       'Corregimiento de Santa Elena', 'SN', 'No Georef',\n",
       "       'Corregimiento de San Sebastián de Palmitas', 'Sin Inf', '0'],\n",
       "      dtype=object)"
      ]
     },
     "execution_count": 39,
     "metadata": {},
     "output_type": "execute_result"
    }
   ],
   "source": [
    "#Verificar la estandarizacion\n",
    "df.COMUNA.unique()"
   ]
  },
  {
   "cell_type": "markdown",
   "metadata": {},
   "source": [
    "##### Al tener una variable llamada NUMCOMUNA y esta estar directamente relacionado con la variable COMUNA, podemos imputar los datos faltantes usando esta informacion "
   ]
  },
  {
   "cell_type": "markdown",
   "metadata": {},
   "source": [
    "#### 1.4.6.1 Imputacion de datos para la variable COMUNA"
   ]
  },
  {
   "cell_type": "code",
   "execution_count": 40,
   "metadata": {},
   "outputs": [],
   "source": [
    "#Creacion de diccionario con el numero de comuna y su respectivo nombre\n",
    "dict_comuna = {\n",
    "  '1': 'Popular',\n",
    "  '2': 'Santa Cruz',\n",
    "  '3': 'Manrique',\n",
    "  '4': 'Aranjuez',\n",
    "  '5': 'Castilla',\n",
    "  '6': 'Doce de Octubre',\n",
    "  '7': 'Robledo',\n",
    "  '8': 'Villa Hermosa',\n",
    "  '9': 'Buenos Aires',\n",
    "  np.nan: np.nan,\n",
    "  '10': 'La Candelaria',\n",
    "  '11': 'Laureles Estadio',\n",
    "  '12': 'La América',\n",
    "  '13': 'San Javier',\n",
    "  '14': 'El Poblado',\n",
    "  '15': 'Guayabal',\n",
    "  '16': 'Belén',\n",
    "  '50': 'Corregimiento de San Sebastián de Palmitas',\n",
    "  '60': 'Corregimiento de San Cristóbal',\n",
    "  '70': 'Corregimiento de Altavista',\n",
    "  '80': 'Corregimiento de San Antonio de Prado',\n",
    "  '90': 'Corregimiento de Santa Elena',\n",
    "}"
   ]
  },
  {
   "cell_type": "code",
   "execution_count": 41,
   "metadata": {},
   "outputs": [],
   "source": [
    "#Aplicacion del diccionario a la variable COMUNA\n",
    "df['COMUNA'] = df['NUMCOMUNA'].apply(lambda x: dict_comuna[x])"
   ]
  },
  {
   "cell_type": "code",
   "execution_count": 42,
   "metadata": {},
   "outputs": [],
   "source": [
    "#Eliminar los valores nulos de la variable COMUNA\n",
    "df.dropna(subset=['COMUNA'], inplace=True)"
   ]
  },
  {
   "cell_type": "markdown",
   "metadata": {},
   "source": [
    "#### 1.4.6.2 Eliminar variable numero de comuna "
   ]
  },
  {
   "cell_type": "code",
   "execution_count": 43,
   "metadata": {},
   "outputs": [],
   "source": [
    "#Eliminar la variable NUMCOMUNA\n",
    "df.drop(axis=1, columns=['NUMCOMUNA'], inplace=True)"
   ]
  },
  {
   "cell_type": "code",
   "execution_count": 44,
   "metadata": {},
   "outputs": [
    {
     "data": {
      "text/html": [
       "<div>\n",
       "<style scoped>\n",
       "    .dataframe tbody tr th:only-of-type {\n",
       "        vertical-align: middle;\n",
       "    }\n",
       "\n",
       "    .dataframe tbody tr th {\n",
       "        vertical-align: top;\n",
       "    }\n",
       "\n",
       "    .dataframe thead th {\n",
       "        text-align: right;\n",
       "    }\n",
       "</style>\n",
       "<table border=\"1\" class=\"dataframe\">\n",
       "  <thead>\n",
       "    <tr style=\"text-align: right;\">\n",
       "      <th></th>\n",
       "      <th>AÑO</th>\n",
       "      <th>CLASE_ACCIDENTE</th>\n",
       "      <th>DIRECCION</th>\n",
       "      <th>DISEÑO</th>\n",
       "      <th>FECHA_ACCIDENTE</th>\n",
       "      <th>GRAVEDAD_ACCIDENTE</th>\n",
       "      <th>MES</th>\n",
       "      <th>BARRIO</th>\n",
       "      <th>COMUNA</th>\n",
       "      <th>LOCATION</th>\n",
       "    </tr>\n",
       "  </thead>\n",
       "  <tbody>\n",
       "    <tr>\n",
       "      <th>0</th>\n",
       "      <td>2015</td>\n",
       "      <td>Caida Ocupante</td>\n",
       "      <td>CR 46 CL 43</td>\n",
       "      <td>Tramo de via</td>\n",
       "      <td>21/10/2015 05:58:00</td>\n",
       "      <td>Con heridos</td>\n",
       "      <td>10</td>\n",
       "      <td>Barrio Colón</td>\n",
       "      <td>La Candelaria</td>\n",
       "      <td>[-75.5688011014, 6.24312304123]</td>\n",
       "    </tr>\n",
       "    <tr>\n",
       "      <th>1</th>\n",
       "      <td>2015</td>\n",
       "      <td>Choque</td>\n",
       "      <td>CR 43 A CL 29</td>\n",
       "      <td>Tramo de via</td>\n",
       "      <td>05/11/2015 03:00:00</td>\n",
       "      <td>Solo daños</td>\n",
       "      <td>11</td>\n",
       "      <td>San Diego</td>\n",
       "      <td>La Candelaria</td>\n",
       "      <td>[-75.5693883283, 6.22870030622]</td>\n",
       "    </tr>\n",
       "    <tr>\n",
       "      <th>2</th>\n",
       "      <td>2015</td>\n",
       "      <td>Otro</td>\n",
       "      <td>CR 46 CL 37</td>\n",
       "      <td>Tramo de via</td>\n",
       "      <td>21/10/2015 07:40:00</td>\n",
       "      <td>Con heridos</td>\n",
       "      <td>10</td>\n",
       "      <td>La Francia</td>\n",
       "      <td>Santa Cruz</td>\n",
       "      <td>[-75.5503911403, 6.29869502502]</td>\n",
       "    </tr>\n",
       "    <tr>\n",
       "      <th>3</th>\n",
       "      <td>2015</td>\n",
       "      <td>Atropello</td>\n",
       "      <td>CR 34 CL 112</td>\n",
       "      <td>Tramo de via</td>\n",
       "      <td>21/10/2015 12:00:00</td>\n",
       "      <td>Con heridos</td>\n",
       "      <td>10</td>\n",
       "      <td>Santo Domingo Savio No. 1</td>\n",
       "      <td>Popular</td>\n",
       "      <td>[-75.5442195069, 6.30019383306]</td>\n",
       "    </tr>\n",
       "    <tr>\n",
       "      <th>4</th>\n",
       "      <td>2015</td>\n",
       "      <td>Choque</td>\n",
       "      <td>CR 50 CL 14</td>\n",
       "      <td>Tramo de via</td>\n",
       "      <td>03/11/2015 06:16:00</td>\n",
       "      <td>Solo daños</td>\n",
       "      <td>11</td>\n",
       "      <td>Santa Fé</td>\n",
       "      <td>Guayabal</td>\n",
       "      <td>[-75.578180998, 6.21699243701]</td>\n",
       "    </tr>\n",
       "  </tbody>\n",
       "</table>\n",
       "</div>"
      ],
      "text/plain": [
       "    AÑO CLASE_ACCIDENTE      DIRECCION        DISEÑO      FECHA_ACCIDENTE  \\\n",
       "0  2015  Caida Ocupante    CR 46 CL 43  Tramo de via  21/10/2015 05:58:00   \n",
       "1  2015          Choque  CR 43 A CL 29  Tramo de via  05/11/2015 03:00:00   \n",
       "2  2015            Otro    CR 46 CL 37  Tramo de via  21/10/2015 07:40:00   \n",
       "3  2015       Atropello   CR 34 CL 112  Tramo de via  21/10/2015 12:00:00   \n",
       "4  2015          Choque    CR 50 CL 14  Tramo de via  03/11/2015 06:16:00   \n",
       "\n",
       "  GRAVEDAD_ACCIDENTE  MES                     BARRIO         COMUNA  \\\n",
       "0        Con heridos   10               Barrio Colón  La Candelaria   \n",
       "1         Solo daños   11                  San Diego  La Candelaria   \n",
       "2        Con heridos   10                 La Francia     Santa Cruz   \n",
       "3        Con heridos   10  Santo Domingo Savio No. 1        Popular   \n",
       "4         Solo daños   11                   Santa Fé       Guayabal   \n",
       "\n",
       "                          LOCATION  \n",
       "0  [-75.5688011014, 6.24312304123]  \n",
       "1  [-75.5693883283, 6.22870030622]  \n",
       "2  [-75.5503911403, 6.29869502502]  \n",
       "3  [-75.5442195069, 6.30019383306]  \n",
       "4   [-75.578180998, 6.21699243701]  "
      ]
     },
     "execution_count": 44,
     "metadata": {},
     "output_type": "execute_result"
    }
   ],
   "source": [
    "#verificar que la variable NUMCOMUNA haya sido eliminada correctamente\n",
    "df.head()"
   ]
  },
  {
   "cell_type": "markdown",
   "metadata": {},
   "source": [
    "### 1.4.7 Variable: Barrio"
   ]
  },
  {
   "cell_type": "code",
   "execution_count": 45,
   "metadata": {},
   "outputs": [],
   "source": [
    "dic_tildes = {\n",
    "  '\\\\xED': 'í',\n",
    "  '\\\\xF3': 'ó',\n",
    "  '\\\\xF1': 'ñ',\n",
    "  '\\\\xE9': 'é',\n",
    "  '\\\\xE1': 'á',\n",
    "  '\\\\xFA': 'ú',\n",
    "  '\\\\xC1': 'Á',\n",
    "  '\\\\xC9': 'É',\n",
    "}"
   ]
  },
  {
   "cell_type": "code",
   "execution_count": 46,
   "metadata": {},
   "outputs": [],
   "source": [
    "def barrios_auxiliar(dato):\n",
    "    if type(dato) == str:\n",
    "        for i in dic_tildes:\n",
    "            if i in dato:\n",
    "                dato = dato.replace(i, dic_tildes[i])\n",
    "    return dato"
   ]
  },
  {
   "cell_type": "code",
   "execution_count": 47,
   "metadata": {},
   "outputs": [],
   "source": [
    "df.BARRIO = df.BARRIO.apply(barrios_auxiliar)"
   ]
  },
  {
   "cell_type": "code",
   "execution_count": 48,
   "metadata": {},
   "outputs": [],
   "source": [
    "def notNumber(dato):\n",
    "  if type(dato) == int or type(dato) == float:\n",
    "    return np.nan\n",
    "  return dato"
   ]
  },
  {
   "cell_type": "code",
   "execution_count": 49,
   "metadata": {},
   "outputs": [],
   "source": [
    "df.BARRIO = df.BARRIO.apply(notNumber)"
   ]
  },
  {
   "cell_type": "code",
   "execution_count": 50,
   "metadata": {},
   "outputs": [],
   "source": [
    "def notDigit(dato):\n",
    "  if type(dato) == str:\n",
    "    if dato.isdigit():\n",
    "      return np.nan\n",
    "  return dato"
   ]
  },
  {
   "cell_type": "code",
   "execution_count": 51,
   "metadata": {},
   "outputs": [],
   "source": [
    "df.BARRIO = df.BARRIO.apply(notDigit)"
   ]
  },
  {
   "cell_type": "code",
   "execution_count": 52,
   "metadata": {},
   "outputs": [],
   "source": [
    "dict_barrios = {\n",
    "  'Aldea Pablo Vi': 'Aldea Pablo VI',\n",
    "  'Altavista Sector Central': 'Altavista Sectro Central',\n",
    "  'Asomadera No. 2': 'Asomadera No.2',\n",
    "  'Asomadera No. 3': 'Asomadera No.3',\n",
    "  'Aures No. 2': 'Aures No.2',\n",
    "  'AUC1': np.nan,\n",
    "  'AUC2': np.nan,\n",
    "  'Aguas frias': 'Aguas Frias',\n",
    "  'Area De Expansion Altavista': 'Área De Expansion Altavista',\n",
    "  'Area De Expansion Belen Rincon': 'Área De Expansion Belén Rincon',\n",
    "}"
   ]
  },
  {
   "cell_type": "code",
   "execution_count": 53,
   "metadata": {},
   "outputs": [],
   "source": [
    "df.BARRIO = df.BARRIO.replace(dict_barrios)"
   ]
  },
  {
   "cell_type": "code",
   "execution_count": 54,
   "metadata": {},
   "outputs": [],
   "source": [
    "#Se carga el dataset de barrios de Medellin\n",
    "df_barrios = pd.read_csv('barrios_medellin.csv', encoding='utf-8')"
   ]
  },
  {
   "cell_type": "code",
   "execution_count": 55,
   "metadata": {},
   "outputs": [],
   "source": [
    "def todo_minusculas(dato):\n",
    "  if type(dato) == str:\n",
    "    return dato.lower()\n",
    "  return dato"
   ]
  },
  {
   "cell_type": "code",
   "execution_count": 56,
   "metadata": {},
   "outputs": [],
   "source": [
    "def todo_sin_tilde(dato):\n",
    "  if type(dato) == str:\n",
    "    return unidecode(dato)\n",
    "  return dato"
   ]
  },
  {
   "cell_type": "code",
   "execution_count": 57,
   "metadata": {},
   "outputs": [],
   "source": [
    "df.BARRIO = df.BARRIO.apply(todo_minusculas)\n",
    "df.BARRIO = df.BARRIO.apply(todo_sin_tilde)"
   ]
  },
  {
   "cell_type": "code",
   "execution_count": 58,
   "metadata": {},
   "outputs": [],
   "source": [
    "df_barrios.Name = df_barrios.Name.apply(todo_minusculas)\n",
    "df_barrios.Name = df_barrios.Name.apply(todo_sin_tilde)"
   ]
  },
  {
   "cell_type": "code",
   "execution_count": 59,
   "metadata": {},
   "outputs": [],
   "source": [
    "dict_barrios_2 = {\n",
    "  'area de expansion altos de calasanz': 'calasanz parte alta',\n",
    "  'asomadera no. 1': 'asomadera no.1',\n",
    "  'b. cerro  el volador': 'b. cerro el volador',\n",
    "  'barrio caicedo': 'barrio caycedo',\n",
    "  'barrio de jesus': 'barrios de jesus',\n",
    "  'bombona no. 1': 'bombona no.1',\n",
    "  'bombona no. 2': 'bombona no.2',\n",
    "  'cabecera san antonio de prado': 'san antonio de prado',\n",
    "  'cabecera urbana san cristobal': 'cabecera urbana corregimiento san cristobal',\n",
    "  'campo valdes no. 1': 'campo valdes no.1',\n",
    "  'el corazon el morro ': 'el corazon el morro',\n",
    "  'el progreso no.2': 'progreso no.2',\n",
    "  'el salado ': 'el salado',\n",
    "  'el vergel': np.nan,\n",
    "  'inst': np.nan,\n",
    "  'el estadio': 'estadio',\n",
    "  'la loma oriental': 'la loma',\n",
    "  'loma de los bernal': 'la loma de los bernal',\n",
    "  'la oculta': np.nan,\n",
    "  'lopez de mesa': 'lopez de  mesa',\n",
    "  'maria cano carambolas': 'maria cano-carambolas',\n",
    "  'nueva villa de aburra': 'nueva villa del aburra',\n",
    "  'pedregal bajo': 'pedregal',\n",
    "  'piedras blancas': 'piedras blancas - matasano',\n",
    "  'piedras blancas represa': 'piedras blancas - matasano',\n",
    "  'sin inf': np.nan,\n",
    "  'suburb el plan': 'el plan',\n",
    "  'suburbano aguas frias': 'aguas frias',\n",
    "  'suburbano altavista': 'altavista',\n",
    "  'suburbano el llano': 'el llano',\n",
    "  'suburbano el plan': 'el plan',\n",
    "  'suburbano el tesoro': 'el tesoro',\n",
    "  'suburbano la cuchilla': np.nan,\n",
    "  'suburbano la loma': 'la loma',\n",
    "  'suburbano la palma-el patio': 'la palma',\n",
    "  'suburbano mirador del poblado': 'el poblado',\n",
    "  'suburbano palma patio': 'la palma',\n",
    "  'suburbano palmitas': 'las palmas',\n",
    "  'suburbano pedregal alto': 'pedregal alto',\n",
    "  'suburbano piedra gorda': 'piedra gorda',\n",
    "  'suburbano potrerito': 'potrerito',\n",
    "  'suburbano travesias': 'travesias',\n",
    "  'u.p.b.': 'u.p.b',\n",
    "  'villa liliam': 'villa lilliam',\n",
    "  'suburbano chacaltaya': 'el poblado',\n",
    "  'suburbano el cerro': 'el cerro',\n",
    "  'sin nombre': np.nan\n",
    "}"
   ]
  },
  {
   "cell_type": "code",
   "execution_count": 60,
   "metadata": {},
   "outputs": [],
   "source": [
    "df.BARRIO = df.BARRIO.replace(dict_barrios_2)"
   ]
  },
  {
   "cell_type": "code",
   "execution_count": 61,
   "metadata": {},
   "outputs": [],
   "source": [
    "def cambiar_formato(cadena):\n",
    "    if type(cadena) == str:\n",
    "        patron = re.compile(r'no\\. (\\d+)')\n",
    "        # Reemplazamos por \"n.numero\"\n",
    "        nueva_cadena = re.sub(patron, r'no.\\1', cadena)\n",
    "        return nueva_cadena\n",
    "    return cadena"
   ]
  },
  {
   "cell_type": "code",
   "execution_count": 62,
   "metadata": {},
   "outputs": [],
   "source": [
    "df['BARRIO'] = df['BARRIO'].apply(cambiar_formato)"
   ]
  },
  {
   "cell_type": "code",
   "execution_count": 63,
   "metadata": {},
   "outputs": [],
   "source": [
    "#Eliminar los valores nulos de la variable BARRIO\n",
    "df.dropna(subset=['BARRIO'], inplace=True)"
   ]
  },
  {
   "cell_type": "markdown",
   "metadata": {},
   "source": [
    "<center>\n",
    "\n",
    "## 1.5 Creacion de nuevas variables mediante extracion de datos de variables existentes\n",
    "</center>"
   ]
  },
  {
   "cell_type": "markdown",
   "metadata": {},
   "source": [
    "### 1.5.1 Separacion de la variable FECHA_ACCIDENTE en las nuevas variables FECHA, SEMANA, DIA y HORA"
   ]
  },
  {
   "cell_type": "code",
   "execution_count": 64,
   "metadata": {},
   "outputs": [],
   "source": [
    "#Extaccion de los datos de la variable FECHA_ACCIDENTE\n",
    "fechas_horas = df.FECHA_ACCIDENTE.values\n",
    "fechas = []\n",
    "horas = []\n",
    "for i in fechas_horas:\n",
    "  fechas.append(i.split(' ')[0])\n",
    "  horas.append(i.split(' ')[1])"
   ]
  },
  {
   "cell_type": "code",
   "execution_count": 65,
   "metadata": {},
   "outputs": [],
   "source": [
    "#Creacion de la variable FECHA\n",
    "df['FECHA'] = fechas"
   ]
  },
  {
   "cell_type": "code",
   "execution_count": 66,
   "metadata": {},
   "outputs": [],
   "source": [
    "#Creacion de la variable SEMANA\n",
    "semana = []\n",
    "\n",
    "for i in fechas:\n",
    "  semana.append(datetime.strptime(i, '%d/%m/%Y').strftime('%U'))\n",
    "  \n",
    "df['SEMANA'] = semana"
   ]
  },
  {
   "cell_type": "code",
   "execution_count": 67,
   "metadata": {},
   "outputs": [],
   "source": [
    "#Creacion de la variable DIA_SEMANA\n",
    "dict_dia = {\n",
    "  'Monday': 'Lunes',\n",
    "  'Tuesday': 'Martes',\n",
    "  'Wednesday': 'Miercoles',\n",
    "  'Thursday': 'Jueves',\n",
    "  'Friday': 'Viernes',\n",
    "  'Saturday': 'Sabado',\n",
    "  'Sunday': 'Domingo',\n",
    "}\n",
    "\n",
    "dia_semana = []\n",
    "\n",
    "for i in fechas:\n",
    "  dia_semana.append(dict_dia[datetime.strptime(i, '%d/%m/%Y').strftime('%A')])\n",
    "\n",
    "df['DIA_SEMANA'] = dia_semana"
   ]
  },
  {
   "cell_type": "code",
   "execution_count": 68,
   "metadata": {},
   "outputs": [],
   "source": [
    "#Creacion de la variable TIPO_DIA\n",
    "df['TIPO_DIA'] = df['DIA_SEMANA'].apply(lambda x: 'Semana' if x in ['Lunes', 'Martes', 'Miercoles', 'Jueves', 'Viernes'] else 'Fin de semana')"
   ]
  },
  {
   "cell_type": "code",
   "execution_count": 69,
   "metadata": {},
   "outputs": [],
   "source": [
    "#Creacion de la variable DIA\n",
    "dia = []\n",
    "\n",
    "for i in fechas:\n",
    "  dia.append(int(i[:2]))\n",
    "  \n",
    "df['DIA'] = dia"
   ]
  },
  {
   "cell_type": "code",
   "execution_count": 70,
   "metadata": {},
   "outputs": [
    {
     "data": {
      "text/html": [
       "<div>\n",
       "<style scoped>\n",
       "    .dataframe tbody tr th:only-of-type {\n",
       "        vertical-align: middle;\n",
       "    }\n",
       "\n",
       "    .dataframe tbody tr th {\n",
       "        vertical-align: top;\n",
       "    }\n",
       "\n",
       "    .dataframe thead th {\n",
       "        text-align: right;\n",
       "    }\n",
       "</style>\n",
       "<table border=\"1\" class=\"dataframe\">\n",
       "  <thead>\n",
       "    <tr style=\"text-align: right;\">\n",
       "      <th></th>\n",
       "      <th>AÑO</th>\n",
       "      <th>CLASE_ACCIDENTE</th>\n",
       "      <th>DIRECCION</th>\n",
       "      <th>DISEÑO</th>\n",
       "      <th>FECHA_ACCIDENTE</th>\n",
       "      <th>GRAVEDAD_ACCIDENTE</th>\n",
       "      <th>MES</th>\n",
       "      <th>BARRIO</th>\n",
       "      <th>COMUNA</th>\n",
       "      <th>LOCATION</th>\n",
       "      <th>FECHA</th>\n",
       "      <th>SEMANA</th>\n",
       "      <th>DIA_SEMANA</th>\n",
       "      <th>TIPO_DIA</th>\n",
       "      <th>DIA</th>\n",
       "    </tr>\n",
       "  </thead>\n",
       "  <tbody>\n",
       "    <tr>\n",
       "      <th>0</th>\n",
       "      <td>2015</td>\n",
       "      <td>Caida Ocupante</td>\n",
       "      <td>CR 46 CL 43</td>\n",
       "      <td>Tramo de via</td>\n",
       "      <td>21/10/2015 05:58:00</td>\n",
       "      <td>Con heridos</td>\n",
       "      <td>10</td>\n",
       "      <td>barrio colon</td>\n",
       "      <td>La Candelaria</td>\n",
       "      <td>[-75.5688011014, 6.24312304123]</td>\n",
       "      <td>21/10/2015</td>\n",
       "      <td>42</td>\n",
       "      <td>Miercoles</td>\n",
       "      <td>Semana</td>\n",
       "      <td>21</td>\n",
       "    </tr>\n",
       "    <tr>\n",
       "      <th>1</th>\n",
       "      <td>2015</td>\n",
       "      <td>Choque</td>\n",
       "      <td>CR 43 A CL 29</td>\n",
       "      <td>Tramo de via</td>\n",
       "      <td>05/11/2015 03:00:00</td>\n",
       "      <td>Solo daños</td>\n",
       "      <td>11</td>\n",
       "      <td>san diego</td>\n",
       "      <td>La Candelaria</td>\n",
       "      <td>[-75.5693883283, 6.22870030622]</td>\n",
       "      <td>05/11/2015</td>\n",
       "      <td>44</td>\n",
       "      <td>Jueves</td>\n",
       "      <td>Semana</td>\n",
       "      <td>5</td>\n",
       "    </tr>\n",
       "    <tr>\n",
       "      <th>2</th>\n",
       "      <td>2015</td>\n",
       "      <td>Otro</td>\n",
       "      <td>CR 46 CL 37</td>\n",
       "      <td>Tramo de via</td>\n",
       "      <td>21/10/2015 07:40:00</td>\n",
       "      <td>Con heridos</td>\n",
       "      <td>10</td>\n",
       "      <td>la francia</td>\n",
       "      <td>Santa Cruz</td>\n",
       "      <td>[-75.5503911403, 6.29869502502]</td>\n",
       "      <td>21/10/2015</td>\n",
       "      <td>42</td>\n",
       "      <td>Miercoles</td>\n",
       "      <td>Semana</td>\n",
       "      <td>21</td>\n",
       "    </tr>\n",
       "    <tr>\n",
       "      <th>3</th>\n",
       "      <td>2015</td>\n",
       "      <td>Atropello</td>\n",
       "      <td>CR 34 CL 112</td>\n",
       "      <td>Tramo de via</td>\n",
       "      <td>21/10/2015 12:00:00</td>\n",
       "      <td>Con heridos</td>\n",
       "      <td>10</td>\n",
       "      <td>santo domingo savio no.1</td>\n",
       "      <td>Popular</td>\n",
       "      <td>[-75.5442195069, 6.30019383306]</td>\n",
       "      <td>21/10/2015</td>\n",
       "      <td>42</td>\n",
       "      <td>Miercoles</td>\n",
       "      <td>Semana</td>\n",
       "      <td>21</td>\n",
       "    </tr>\n",
       "    <tr>\n",
       "      <th>4</th>\n",
       "      <td>2015</td>\n",
       "      <td>Choque</td>\n",
       "      <td>CR 50 CL 14</td>\n",
       "      <td>Tramo de via</td>\n",
       "      <td>03/11/2015 06:16:00</td>\n",
       "      <td>Solo daños</td>\n",
       "      <td>11</td>\n",
       "      <td>santa fe</td>\n",
       "      <td>Guayabal</td>\n",
       "      <td>[-75.578180998, 6.21699243701]</td>\n",
       "      <td>03/11/2015</td>\n",
       "      <td>44</td>\n",
       "      <td>Martes</td>\n",
       "      <td>Semana</td>\n",
       "      <td>3</td>\n",
       "    </tr>\n",
       "  </tbody>\n",
       "</table>\n",
       "</div>"
      ],
      "text/plain": [
       "    AÑO CLASE_ACCIDENTE      DIRECCION        DISEÑO      FECHA_ACCIDENTE  \\\n",
       "0  2015  Caida Ocupante    CR 46 CL 43  Tramo de via  21/10/2015 05:58:00   \n",
       "1  2015          Choque  CR 43 A CL 29  Tramo de via  05/11/2015 03:00:00   \n",
       "2  2015            Otro    CR 46 CL 37  Tramo de via  21/10/2015 07:40:00   \n",
       "3  2015       Atropello   CR 34 CL 112  Tramo de via  21/10/2015 12:00:00   \n",
       "4  2015          Choque    CR 50 CL 14  Tramo de via  03/11/2015 06:16:00   \n",
       "\n",
       "  GRAVEDAD_ACCIDENTE  MES                    BARRIO         COMUNA  \\\n",
       "0        Con heridos   10              barrio colon  La Candelaria   \n",
       "1         Solo daños   11                 san diego  La Candelaria   \n",
       "2        Con heridos   10                la francia     Santa Cruz   \n",
       "3        Con heridos   10  santo domingo savio no.1        Popular   \n",
       "4         Solo daños   11                  santa fe       Guayabal   \n",
       "\n",
       "                          LOCATION       FECHA SEMANA DIA_SEMANA TIPO_DIA  DIA  \n",
       "0  [-75.5688011014, 6.24312304123]  21/10/2015     42  Miercoles   Semana   21  \n",
       "1  [-75.5693883283, 6.22870030622]  05/11/2015     44     Jueves   Semana    5  \n",
       "2  [-75.5503911403, 6.29869502502]  21/10/2015     42  Miercoles   Semana   21  \n",
       "3  [-75.5442195069, 6.30019383306]  21/10/2015     42  Miercoles   Semana   21  \n",
       "4   [-75.578180998, 6.21699243701]  03/11/2015     44     Martes   Semana    3  "
      ]
     },
     "execution_count": 70,
     "metadata": {},
     "output_type": "execute_result"
    }
   ],
   "source": [
    "df.head()"
   ]
  },
  {
   "cell_type": "code",
   "execution_count": 71,
   "metadata": {},
   "outputs": [],
   "source": [
    "#Creacion de la variable HORA\n",
    "df['HORA'] = horas"
   ]
  },
  {
   "cell_type": "code",
   "execution_count": 72,
   "metadata": {},
   "outputs": [],
   "source": [
    "#Eliminar la variable FECHA_ACCIDENTE\n",
    "df.drop(columns=['FECHA_ACCIDENTE'], inplace=True)"
   ]
  },
  {
   "cell_type": "code",
   "execution_count": 73,
   "metadata": {},
   "outputs": [
    {
     "data": {
      "text/html": [
       "<div>\n",
       "<style scoped>\n",
       "    .dataframe tbody tr th:only-of-type {\n",
       "        vertical-align: middle;\n",
       "    }\n",
       "\n",
       "    .dataframe tbody tr th {\n",
       "        vertical-align: top;\n",
       "    }\n",
       "\n",
       "    .dataframe thead th {\n",
       "        text-align: right;\n",
       "    }\n",
       "</style>\n",
       "<table border=\"1\" class=\"dataframe\">\n",
       "  <thead>\n",
       "    <tr style=\"text-align: right;\">\n",
       "      <th></th>\n",
       "      <th>FECHA</th>\n",
       "      <th>SEMANA</th>\n",
       "      <th>DIA_SEMANA</th>\n",
       "      <th>HORA</th>\n",
       "      <th>DIA</th>\n",
       "      <th>TIPO_DIA</th>\n",
       "    </tr>\n",
       "  </thead>\n",
       "  <tbody>\n",
       "    <tr>\n",
       "      <th>0</th>\n",
       "      <td>21/10/2015</td>\n",
       "      <td>42</td>\n",
       "      <td>Miercoles</td>\n",
       "      <td>05:58:00</td>\n",
       "      <td>21</td>\n",
       "      <td>Semana</td>\n",
       "    </tr>\n",
       "    <tr>\n",
       "      <th>1</th>\n",
       "      <td>05/11/2015</td>\n",
       "      <td>44</td>\n",
       "      <td>Jueves</td>\n",
       "      <td>03:00:00</td>\n",
       "      <td>5</td>\n",
       "      <td>Semana</td>\n",
       "    </tr>\n",
       "    <tr>\n",
       "      <th>2</th>\n",
       "      <td>21/10/2015</td>\n",
       "      <td>42</td>\n",
       "      <td>Miercoles</td>\n",
       "      <td>07:40:00</td>\n",
       "      <td>21</td>\n",
       "      <td>Semana</td>\n",
       "    </tr>\n",
       "    <tr>\n",
       "      <th>3</th>\n",
       "      <td>21/10/2015</td>\n",
       "      <td>42</td>\n",
       "      <td>Miercoles</td>\n",
       "      <td>12:00:00</td>\n",
       "      <td>21</td>\n",
       "      <td>Semana</td>\n",
       "    </tr>\n",
       "    <tr>\n",
       "      <th>4</th>\n",
       "      <td>03/11/2015</td>\n",
       "      <td>44</td>\n",
       "      <td>Martes</td>\n",
       "      <td>06:16:00</td>\n",
       "      <td>3</td>\n",
       "      <td>Semana</td>\n",
       "    </tr>\n",
       "  </tbody>\n",
       "</table>\n",
       "</div>"
      ],
      "text/plain": [
       "        FECHA SEMANA DIA_SEMANA      HORA  DIA TIPO_DIA\n",
       "0  21/10/2015     42  Miercoles  05:58:00   21   Semana\n",
       "1  05/11/2015     44     Jueves  03:00:00    5   Semana\n",
       "2  21/10/2015     42  Miercoles  07:40:00   21   Semana\n",
       "3  21/10/2015     42  Miercoles  12:00:00   21   Semana\n",
       "4  03/11/2015     44     Martes  06:16:00    3   Semana"
      ]
     },
     "execution_count": 73,
     "metadata": {},
     "output_type": "execute_result"
    }
   ],
   "source": [
    "#Verificar que las variables se hayan creado correctamente\n",
    "df[['FECHA', 'SEMANA', 'DIA_SEMANA', 'HORA', 'DIA', 'TIPO_DIA']].head()"
   ]
  },
  {
   "cell_type": "code",
   "execution_count": 74,
   "metadata": {},
   "outputs": [
    {
     "data": {
      "text/plain": [
       "(248840, 15)"
      ]
     },
     "execution_count": 74,
     "metadata": {},
     "output_type": "execute_result"
    }
   ],
   "source": [
    "#Verificar que no ha habido perdida de datos\n",
    "df.shape"
   ]
  },
  {
   "cell_type": "code",
   "execution_count": 75,
   "metadata": {},
   "outputs": [
    {
     "data": {
      "text/plain": [
       "AÑO                   0\n",
       "CLASE_ACCIDENTE       0\n",
       "DIRECCION             0\n",
       "DISEÑO                0\n",
       "GRAVEDAD_ACCIDENTE    0\n",
       "MES                   0\n",
       "BARRIO                0\n",
       "COMUNA                0\n",
       "LOCATION              0\n",
       "FECHA                 0\n",
       "SEMANA                0\n",
       "DIA_SEMANA            0\n",
       "TIPO_DIA              0\n",
       "DIA                   0\n",
       "HORA                  0\n",
       "dtype: int64"
      ]
     },
     "execution_count": 75,
     "metadata": {},
     "output_type": "execute_result"
    }
   ],
   "source": [
    "#Verificar que no hay valores nulos en las nuevas variables\n",
    "df.isna().sum()"
   ]
  },
  {
   "cell_type": "markdown",
   "metadata": {},
   "source": [
    "### 1.5.2 Separacion de la variable LOCATION en las nuevas variables LATITUD Y LONGITUD"
   ]
  },
  {
   "cell_type": "code",
   "execution_count": 76,
   "metadata": {},
   "outputs": [],
   "source": [
    "#Extraccion de los datos de la variable LOCATION\n",
    "location = df.LOCATION.values"
   ]
  },
  {
   "cell_type": "code",
   "execution_count": 77,
   "metadata": {},
   "outputs": [],
   "source": [
    "#Extraccion de los datos de la variable LOCATION\n",
    "location = [ast.literal_eval(i) for i in location]"
   ]
  },
  {
   "cell_type": "code",
   "execution_count": 78,
   "metadata": {},
   "outputs": [],
   "source": [
    "#Creacion de las variables LATITUD y LONGITUD\n",
    "latitud = []\n",
    "longitud = []\n",
    "\n",
    "for i, j in location:\n",
    "  longitud.append(i)\n",
    "  latitud.append(j)\n",
    "  \n",
    "df['LATITUD'] = latitud\n",
    "df['LONGITUD'] = longitud"
   ]
  },
  {
   "cell_type": "code",
   "execution_count": 79,
   "metadata": {},
   "outputs": [],
   "source": [
    "#Eliminar la variable LOCATION\n",
    "df.drop(columns=['LOCATION'], inplace=True)"
   ]
  },
  {
   "cell_type": "code",
   "execution_count": 80,
   "metadata": {},
   "outputs": [
    {
     "data": {
      "text/html": [
       "<div>\n",
       "<style scoped>\n",
       "    .dataframe tbody tr th:only-of-type {\n",
       "        vertical-align: middle;\n",
       "    }\n",
       "\n",
       "    .dataframe tbody tr th {\n",
       "        vertical-align: top;\n",
       "    }\n",
       "\n",
       "    .dataframe thead th {\n",
       "        text-align: right;\n",
       "    }\n",
       "</style>\n",
       "<table border=\"1\" class=\"dataframe\">\n",
       "  <thead>\n",
       "    <tr style=\"text-align: right;\">\n",
       "      <th></th>\n",
       "      <th>LATITUD</th>\n",
       "      <th>LONGITUD</th>\n",
       "    </tr>\n",
       "  </thead>\n",
       "  <tbody>\n",
       "    <tr>\n",
       "      <th>0</th>\n",
       "      <td>6.243123</td>\n",
       "      <td>-75.568801</td>\n",
       "    </tr>\n",
       "    <tr>\n",
       "      <th>1</th>\n",
       "      <td>6.228700</td>\n",
       "      <td>-75.569388</td>\n",
       "    </tr>\n",
       "    <tr>\n",
       "      <th>2</th>\n",
       "      <td>6.298695</td>\n",
       "      <td>-75.550391</td>\n",
       "    </tr>\n",
       "    <tr>\n",
       "      <th>3</th>\n",
       "      <td>6.300194</td>\n",
       "      <td>-75.544220</td>\n",
       "    </tr>\n",
       "    <tr>\n",
       "      <th>4</th>\n",
       "      <td>6.216992</td>\n",
       "      <td>-75.578181</td>\n",
       "    </tr>\n",
       "  </tbody>\n",
       "</table>\n",
       "</div>"
      ],
      "text/plain": [
       "    LATITUD   LONGITUD\n",
       "0  6.243123 -75.568801\n",
       "1  6.228700 -75.569388\n",
       "2  6.298695 -75.550391\n",
       "3  6.300194 -75.544220\n",
       "4  6.216992 -75.578181"
      ]
     },
     "execution_count": 80,
     "metadata": {},
     "output_type": "execute_result"
    }
   ],
   "source": [
    "#Verificar que las variables se hayan creado correctamente\n",
    "df[['LATITUD', 'LONGITUD']].head()"
   ]
  },
  {
   "cell_type": "code",
   "execution_count": 81,
   "metadata": {},
   "outputs": [
    {
     "data": {
      "text/plain": [
       "(248840, 16)"
      ]
     },
     "execution_count": 81,
     "metadata": {},
     "output_type": "execute_result"
    }
   ],
   "source": [
    "#Verificar que no ha habido perdida de datos\n",
    "df.shape"
   ]
  },
  {
   "cell_type": "code",
   "execution_count": 82,
   "metadata": {},
   "outputs": [
    {
     "data": {
      "text/plain": [
       "AÑO                   0\n",
       "CLASE_ACCIDENTE       0\n",
       "DIRECCION             0\n",
       "DISEÑO                0\n",
       "GRAVEDAD_ACCIDENTE    0\n",
       "MES                   0\n",
       "BARRIO                0\n",
       "COMUNA                0\n",
       "FECHA                 0\n",
       "SEMANA                0\n",
       "DIA_SEMANA            0\n",
       "TIPO_DIA              0\n",
       "DIA                   0\n",
       "HORA                  0\n",
       "LATITUD               0\n",
       "LONGITUD              0\n",
       "dtype: int64"
      ]
     },
     "execution_count": 82,
     "metadata": {},
     "output_type": "execute_result"
    }
   ],
   "source": [
    "#Verificar que no hay valores nulos en las nuevas variables\n",
    "df.isna().sum()"
   ]
  },
  {
   "cell_type": "markdown",
   "metadata": {},
   "source": [
    "### 1.5.3 Creacion de la variable fechas festivas"
   ]
  },
  {
   "cell_type": "code",
   "execution_count": 83,
   "metadata": {},
   "outputs": [],
   "source": [
    "#Uso de la libreria holidays para identificar los dias festivos en Colombia\n",
    "dias_festivos = holidays.country_holidays('CO', years=[2014, 2015, 2016, 2017, 2018, 2019, 2020])"
   ]
  },
  {
   "cell_type": "code",
   "execution_count": 84,
   "metadata": {},
   "outputs": [],
   "source": [
    "#Formateo de la variable FECHA para que sea reconocida por la libreria holidays\n",
    "fechas_formateadas = [datetime.strptime(i, '%d/%m/%Y').strftime(\"%Y/%m/%d\") for i in fechas]"
   ]
  },
  {
   "cell_type": "code",
   "execution_count": 85,
   "metadata": {},
   "outputs": [],
   "source": [
    "#extraccion de las fechas festivas en el dataset \n",
    "fechas_festivas_extraidas = []\n",
    "\n",
    "for i in fechas_formateadas:\n",
    "  if i in dias_festivos:\n",
    "    if i not in fechas_festivas_extraidas:\n",
    "      fechas_festivas_extraidas.append(i)"
   ]
  },
  {
   "cell_type": "code",
   "execution_count": 86,
   "metadata": {},
   "outputs": [],
   "source": [
    "#Formateo de la variable fechas_festivas_extraidas para que concuerde con el dataset\n",
    "fechas_festivas_extraidas = [datetime.strptime(i, '%Y/%m/%d').strftime(\"%d/%m/%Y\") for i in fechas_festivas_extraidas]"
   ]
  },
  {
   "cell_type": "code",
   "execution_count": 87,
   "metadata": {},
   "outputs": [],
   "source": [
    "#Automatizar la creacion de fechas festivas que no son marcadas por la libreria holidays para cada año\n",
    "years=[\"2014\", \"2015\", \"2016\", \"2017\", \"2018\", \"2019\", \"2020\"]\n",
    "fechas_sin_año = [\"31/12\", \"24/12\", \"31/10\", \"16/09\", \"07/12\"]\n",
    "\n",
    "fechas_festivas = {}\n",
    "\n",
    "for i in years:\n",
    "  for j in fechas_sin_año:\n",
    "    fechas_festivas[j + '/' + i] = 'Fecha Festiva'\n"
   ]
  },
  {
   "cell_type": "code",
   "execution_count": 88,
   "metadata": {},
   "outputs": [],
   "source": [
    "#Agregar las otras fechas festivas al diccionario\n",
    "for i in fechas_festivas_extraidas:\n",
    "  fechas_festivas[i] = 'Fecha Festiva'"
   ]
  },
  {
   "cell_type": "code",
   "execution_count": 89,
   "metadata": {},
   "outputs": [],
   "source": [
    "#Creacion de la variable FECHA_FESTIVA en el dataset\n",
    "df['FECHA_FESTIVA'] = df['FECHA'].apply(lambda x: fechas_festivas[x] if x in fechas_festivas else 'Fecha Normal')"
   ]
  },
  {
   "cell_type": "code",
   "execution_count": 90,
   "metadata": {},
   "outputs": [
    {
     "data": {
      "text/html": [
       "<div>\n",
       "<style scoped>\n",
       "    .dataframe tbody tr th:only-of-type {\n",
       "        vertical-align: middle;\n",
       "    }\n",
       "\n",
       "    .dataframe tbody tr th {\n",
       "        vertical-align: top;\n",
       "    }\n",
       "\n",
       "    .dataframe thead th {\n",
       "        text-align: right;\n",
       "    }\n",
       "</style>\n",
       "<table border=\"1\" class=\"dataframe\">\n",
       "  <thead>\n",
       "    <tr style=\"text-align: right;\">\n",
       "      <th></th>\n",
       "      <th>FECHA</th>\n",
       "      <th>FECHA_FESTIVA</th>\n",
       "    </tr>\n",
       "  </thead>\n",
       "  <tbody>\n",
       "    <tr>\n",
       "      <th>0</th>\n",
       "      <td>21/10/2015</td>\n",
       "      <td>Fecha Normal</td>\n",
       "    </tr>\n",
       "    <tr>\n",
       "      <th>1</th>\n",
       "      <td>05/11/2015</td>\n",
       "      <td>Fecha Normal</td>\n",
       "    </tr>\n",
       "    <tr>\n",
       "      <th>2</th>\n",
       "      <td>21/10/2015</td>\n",
       "      <td>Fecha Normal</td>\n",
       "    </tr>\n",
       "    <tr>\n",
       "      <th>3</th>\n",
       "      <td>21/10/2015</td>\n",
       "      <td>Fecha Normal</td>\n",
       "    </tr>\n",
       "    <tr>\n",
       "      <th>4</th>\n",
       "      <td>03/11/2015</td>\n",
       "      <td>Fecha Normal</td>\n",
       "    </tr>\n",
       "  </tbody>\n",
       "</table>\n",
       "</div>"
      ],
      "text/plain": [
       "        FECHA FECHA_FESTIVA\n",
       "0  21/10/2015  Fecha Normal\n",
       "1  05/11/2015  Fecha Normal\n",
       "2  21/10/2015  Fecha Normal\n",
       "3  21/10/2015  Fecha Normal\n",
       "4  03/11/2015  Fecha Normal"
      ]
     },
     "execution_count": 90,
     "metadata": {},
     "output_type": "execute_result"
    }
   ],
   "source": [
    "#Verificar que la variable fue creada correctamente\n",
    "df[['FECHA', 'FECHA_FESTIVA']].head()"
   ]
  },
  {
   "cell_type": "code",
   "execution_count": 91,
   "metadata": {},
   "outputs": [
    {
     "data": {
      "text/plain": [
       "(248840, 17)"
      ]
     },
     "execution_count": 91,
     "metadata": {},
     "output_type": "execute_result"
    }
   ],
   "source": [
    "#Verificar que no hay perdida de datos\n",
    "df.shape"
   ]
  },
  {
   "cell_type": "code",
   "execution_count": 92,
   "metadata": {},
   "outputs": [
    {
     "data": {
      "text/plain": [
       "AÑO                   0\n",
       "CLASE_ACCIDENTE       0\n",
       "DIRECCION             0\n",
       "DISEÑO                0\n",
       "GRAVEDAD_ACCIDENTE    0\n",
       "MES                   0\n",
       "BARRIO                0\n",
       "COMUNA                0\n",
       "FECHA                 0\n",
       "SEMANA                0\n",
       "DIA_SEMANA            0\n",
       "TIPO_DIA              0\n",
       "DIA                   0\n",
       "HORA                  0\n",
       "LATITUD               0\n",
       "LONGITUD              0\n",
       "FECHA_FESTIVA         0\n",
       "dtype: int64"
      ]
     },
     "execution_count": 92,
     "metadata": {},
     "output_type": "execute_result"
    }
   ],
   "source": [
    "#Verificar que no hay valores nulos en la nueva variable\n",
    "df.isna().sum()"
   ]
  },
  {
   "cell_type": "code",
   "execution_count": 93,
   "metadata": {},
   "outputs": [
    {
     "data": {
      "text/html": [
       "<div>\n",
       "<style scoped>\n",
       "    .dataframe tbody tr th:only-of-type {\n",
       "        vertical-align: middle;\n",
       "    }\n",
       "\n",
       "    .dataframe tbody tr th {\n",
       "        vertical-align: top;\n",
       "    }\n",
       "\n",
       "    .dataframe thead th {\n",
       "        text-align: right;\n",
       "    }\n",
       "</style>\n",
       "<table border=\"1\" class=\"dataframe\">\n",
       "  <thead>\n",
       "    <tr style=\"text-align: right;\">\n",
       "      <th></th>\n",
       "      <th>AÑO</th>\n",
       "      <th>CLASE_ACCIDENTE</th>\n",
       "      <th>DIRECCION</th>\n",
       "      <th>DISEÑO</th>\n",
       "      <th>GRAVEDAD_ACCIDENTE</th>\n",
       "      <th>MES</th>\n",
       "      <th>BARRIO</th>\n",
       "      <th>COMUNA</th>\n",
       "      <th>FECHA</th>\n",
       "      <th>SEMANA</th>\n",
       "      <th>DIA_SEMANA</th>\n",
       "      <th>TIPO_DIA</th>\n",
       "      <th>DIA</th>\n",
       "      <th>HORA</th>\n",
       "      <th>LATITUD</th>\n",
       "      <th>LONGITUD</th>\n",
       "      <th>FECHA_FESTIVA</th>\n",
       "    </tr>\n",
       "  </thead>\n",
       "  <tbody>\n",
       "    <tr>\n",
       "      <th>0</th>\n",
       "      <td>2015</td>\n",
       "      <td>Caida Ocupante</td>\n",
       "      <td>CR 46 CL 43</td>\n",
       "      <td>Tramo de via</td>\n",
       "      <td>Con heridos</td>\n",
       "      <td>10</td>\n",
       "      <td>barrio colon</td>\n",
       "      <td>La Candelaria</td>\n",
       "      <td>21/10/2015</td>\n",
       "      <td>42</td>\n",
       "      <td>Miercoles</td>\n",
       "      <td>Semana</td>\n",
       "      <td>21</td>\n",
       "      <td>05:58:00</td>\n",
       "      <td>6.243123</td>\n",
       "      <td>-75.568801</td>\n",
       "      <td>Fecha Normal</td>\n",
       "    </tr>\n",
       "    <tr>\n",
       "      <th>1</th>\n",
       "      <td>2015</td>\n",
       "      <td>Choque</td>\n",
       "      <td>CR 43 A CL 29</td>\n",
       "      <td>Tramo de via</td>\n",
       "      <td>Solo daños</td>\n",
       "      <td>11</td>\n",
       "      <td>san diego</td>\n",
       "      <td>La Candelaria</td>\n",
       "      <td>05/11/2015</td>\n",
       "      <td>44</td>\n",
       "      <td>Jueves</td>\n",
       "      <td>Semana</td>\n",
       "      <td>5</td>\n",
       "      <td>03:00:00</td>\n",
       "      <td>6.228700</td>\n",
       "      <td>-75.569388</td>\n",
       "      <td>Fecha Normal</td>\n",
       "    </tr>\n",
       "    <tr>\n",
       "      <th>2</th>\n",
       "      <td>2015</td>\n",
       "      <td>Otro</td>\n",
       "      <td>CR 46 CL 37</td>\n",
       "      <td>Tramo de via</td>\n",
       "      <td>Con heridos</td>\n",
       "      <td>10</td>\n",
       "      <td>la francia</td>\n",
       "      <td>Santa Cruz</td>\n",
       "      <td>21/10/2015</td>\n",
       "      <td>42</td>\n",
       "      <td>Miercoles</td>\n",
       "      <td>Semana</td>\n",
       "      <td>21</td>\n",
       "      <td>07:40:00</td>\n",
       "      <td>6.298695</td>\n",
       "      <td>-75.550391</td>\n",
       "      <td>Fecha Normal</td>\n",
       "    </tr>\n",
       "    <tr>\n",
       "      <th>3</th>\n",
       "      <td>2015</td>\n",
       "      <td>Atropello</td>\n",
       "      <td>CR 34 CL 112</td>\n",
       "      <td>Tramo de via</td>\n",
       "      <td>Con heridos</td>\n",
       "      <td>10</td>\n",
       "      <td>santo domingo savio no.1</td>\n",
       "      <td>Popular</td>\n",
       "      <td>21/10/2015</td>\n",
       "      <td>42</td>\n",
       "      <td>Miercoles</td>\n",
       "      <td>Semana</td>\n",
       "      <td>21</td>\n",
       "      <td>12:00:00</td>\n",
       "      <td>6.300194</td>\n",
       "      <td>-75.544220</td>\n",
       "      <td>Fecha Normal</td>\n",
       "    </tr>\n",
       "    <tr>\n",
       "      <th>4</th>\n",
       "      <td>2015</td>\n",
       "      <td>Choque</td>\n",
       "      <td>CR 50 CL 14</td>\n",
       "      <td>Tramo de via</td>\n",
       "      <td>Solo daños</td>\n",
       "      <td>11</td>\n",
       "      <td>santa fe</td>\n",
       "      <td>Guayabal</td>\n",
       "      <td>03/11/2015</td>\n",
       "      <td>44</td>\n",
       "      <td>Martes</td>\n",
       "      <td>Semana</td>\n",
       "      <td>3</td>\n",
       "      <td>06:16:00</td>\n",
       "      <td>6.216992</td>\n",
       "      <td>-75.578181</td>\n",
       "      <td>Fecha Normal</td>\n",
       "    </tr>\n",
       "  </tbody>\n",
       "</table>\n",
       "</div>"
      ],
      "text/plain": [
       "    AÑO CLASE_ACCIDENTE      DIRECCION        DISEÑO GRAVEDAD_ACCIDENTE  MES  \\\n",
       "0  2015  Caida Ocupante    CR 46 CL 43  Tramo de via        Con heridos   10   \n",
       "1  2015          Choque  CR 43 A CL 29  Tramo de via         Solo daños   11   \n",
       "2  2015            Otro    CR 46 CL 37  Tramo de via        Con heridos   10   \n",
       "3  2015       Atropello   CR 34 CL 112  Tramo de via        Con heridos   10   \n",
       "4  2015          Choque    CR 50 CL 14  Tramo de via         Solo daños   11   \n",
       "\n",
       "                     BARRIO         COMUNA       FECHA SEMANA DIA_SEMANA  \\\n",
       "0              barrio colon  La Candelaria  21/10/2015     42  Miercoles   \n",
       "1                 san diego  La Candelaria  05/11/2015     44     Jueves   \n",
       "2                la francia     Santa Cruz  21/10/2015     42  Miercoles   \n",
       "3  santo domingo savio no.1        Popular  21/10/2015     42  Miercoles   \n",
       "4                  santa fe       Guayabal  03/11/2015     44     Martes   \n",
       "\n",
       "  TIPO_DIA  DIA      HORA   LATITUD   LONGITUD FECHA_FESTIVA  \n",
       "0   Semana   21  05:58:00  6.243123 -75.568801  Fecha Normal  \n",
       "1   Semana    5  03:00:00  6.228700 -75.569388  Fecha Normal  \n",
       "2   Semana   21  07:40:00  6.298695 -75.550391  Fecha Normal  \n",
       "3   Semana   21  12:00:00  6.300194 -75.544220  Fecha Normal  \n",
       "4   Semana    3  06:16:00  6.216992 -75.578181  Fecha Normal  "
      ]
     },
     "execution_count": 93,
     "metadata": {},
     "output_type": "execute_result"
    }
   ],
   "source": [
    "#Vistazo al dataset procesado\n",
    "df.head()"
   ]
  },
  {
   "cell_type": "code",
   "execution_count": 94,
   "metadata": {},
   "outputs": [],
   "source": [
    "#Guardar el dataset procesado\n",
    "df.to_csv('incidentes_viales_procesado.csv', sep=',', encoding='utf-8', index=False)"
   ]
  },
  {
   "cell_type": "markdown",
   "metadata": {},
   "source": []
  },
  {
   "cell_type": "markdown",
   "metadata": {},
   "source": [
    "<center>\n",
    "\n",
    "# 2. Analisis exploratorio de datos\n",
    "</center>"
   ]
  },
  {
   "cell_type": "code",
   "execution_count": 95,
   "metadata": {},
   "outputs": [],
   "source": [
    "#Carga del dataset procesado\n",
    "df = pd.read_csv('incidentes_viales_procesado.csv', sep=',', encoding='utf-8')"
   ]
  },
  {
   "cell_type": "markdown",
   "metadata": {},
   "source": [
    "\n",
    "\n",
    "## 2.1 Accidentes por dia de la semana\n"
   ]
  },
  {
   "cell_type": "code",
   "execution_count": 96,
   "metadata": {},
   "outputs": [
    {
     "data": {
      "image/png": "[encoded data removed]",
      "text/plain": [
       "<Figure size 1152x576 with 1 Axes>"
      ]
     },
     "metadata": {},
     "output_type": "display_data"
    }
   ],
   "source": [
    "#Cantidad de accidentes por dia de la semana \n",
    "fig, ax = plt.subplots(figsize=(16, 8))\n",
    "sns.countplot(data=df, x='DIA_SEMANA', order=['Lunes', 'Martes', 'Miercoles', 'Jueves', 'Viernes', 'Sabado', 'Domingo'], saturation=1)\n",
    "plt.title('Cantidad de accidentes por dia de la semana', pad=20)\n",
    "plt.xlabel('Dia de la semana', labelpad=20)\n",
    "plt.ylabel('Cantidad de accidentes', labelpad=20)\n",
    "plt.show()"
   ]
  },
  {
   "cell_type": "markdown",
   "metadata": {},
   "source": [
    "## 2.2 Accidentes por mes"
   ]
  },
  {
   "cell_type": "code",
   "execution_count": 97,
   "metadata": {},
   "outputs": [
    {
     "data": {
      "image/png": "[encoded data removed]",
      "text/plain": [
       "<Figure size 1152x576 with 1 Axes>"
      ]
     },
     "metadata": {},
     "output_type": "display_data"
    }
   ],
   "source": [
    "#Cantidad de accidentes por mes\n",
    "fig, ax = plt.subplots(figsize=(16, 8))\n",
    "ax = sns.countplot(data=df, x='MES', saturation=1)\n",
    "plt.title('Cantidad de accidentes por mes', pad=20)\n",
    "plt.xlabel('Mes', labelpad=20)\n",
    "plt.ylabel('Cantidad de accidentes', labelpad=20)\n",
    "_ = ax.set_xticklabels(['Enero', 'Febrero', 'Marzo', 'Abril', 'Mayo', 'Junio', 'Julio','Agosto', 'Septiembre', 'Octubre', 'Noviembre', 'Diciembre'])\n",
    "plt.show()"
   ]
  },
  {
   "cell_type": "markdown",
   "metadata": {},
   "source": [
    "## 2.3 Accidentes por año"
   ]
  },
  {
   "cell_type": "code",
   "execution_count": 98,
   "metadata": {},
   "outputs": [
    {
     "data": {
      "image/png": "[encoded data removed]",
      "text/plain": [
       "<Figure size 1152x576 with 1 Axes>"
      ]
     },
     "metadata": {},
     "output_type": "display_data"
    }
   ],
   "source": [
    "#Cantidad de accidentes por año\n",
    "fig, ax = plt.subplots(figsize=(16, 8))\n",
    "sns.countplot(data=df, x='AÑO', saturation=1)\n",
    "plt.title('Cantidad de accidentes por año', pad=20)\n",
    "plt.xlabel('Año', labelpad=20)\n",
    "plt.ylabel('Cantidad de accidentes', labelpad=20)\n",
    "plt.show()"
   ]
  },
  {
   "cell_type": "markdown",
   "metadata": {},
   "source": [
    "## 2.4 Accidentes por comuna"
   ]
  },
  {
   "cell_type": "code",
   "execution_count": 99,
   "metadata": {},
   "outputs": [
    {
     "data": {
      "image/png": "[encoded data removed]",
      "text/plain": [
       "<Figure size 1152x576 with 1 Axes>"
      ]
     },
     "metadata": {},
     "output_type": "display_data"
    }
   ],
   "source": [
    "#Cantidad de accidentes por comuna\n",
    "fig, ax = plt.subplots(figsize=(16, 8))\n",
    "sns.countplot(data=df, y='COMUNA', saturation=1)\n",
    "plt.title('Cantidad de accidentes por comuna', pad=20)\n",
    "plt.xlabel('Cantidad de accidentes', labelpad=20)\n",
    "plt.ylabel('Comuna', labelpad=20)\n",
    "plt.show()"
   ]
  },
  {
   "cell_type": "markdown",
   "metadata": {},
   "source": [
    "## 2.5 Accidentes por clase"
   ]
  },
  {
   "cell_type": "code",
   "execution_count": 100,
   "metadata": {},
   "outputs": [
    {
     "data": {
      "image/png": "[encoded data removed]",
      "text/plain": [
       "<Figure size 1152x576 with 1 Axes>"
      ]
     },
     "metadata": {},
     "output_type": "display_data"
    }
   ],
   "source": [
    "#Cantidad de accidentes por clase\n",
    "fig, ax = plt.subplots(figsize=(16, 8))\n",
    "sns.countplot(data=df, x='CLASE_ACCIDENTE', saturation=1)\n",
    "plt.title('Cantidad de accidentes por clase', pad=20)\n",
    "plt.xlabel('Clase', labelpad=20)\n",
    "plt.ylabel('Cantidad de accidentes', labelpad=20)\n",
    "plt.show()"
   ]
  },
  {
   "cell_type": "markdown",
   "metadata": {},
   "source": [
    "## 2.6 Accidentes por gravedad"
   ]
  },
  {
   "cell_type": "code",
   "execution_count": 101,
   "metadata": {},
   "outputs": [
    {
     "data": {
      "image/png": "[encoded data removed]",
      "text/plain": [
       "<Figure size 1152x576 with 1 Axes>"
      ]
     },
     "metadata": {},
     "output_type": "display_data"
    }
   ],
   "source": [
    "#Cantidad de accidentes por gravedad\n",
    "fig, ax = plt.subplots(figsize=(16, 8))\n",
    "sns.countplot(data=df, x='GRAVEDAD_ACCIDENTE', saturation=1)\n",
    "plt.title('Cantidad de accidentes por gravedad', pad=20)\n",
    "plt.xlabel('Gravedad', labelpad=20)\n",
    "plt.ylabel('Cantidad de accidentes', labelpad=20)\n",
    "plt.show()"
   ]
  },
  {
   "cell_type": "markdown",
   "metadata": {},
   "source": [
    "## 2.7 Accidentes por diseño de via"
   ]
  },
  {
   "cell_type": "code",
   "execution_count": 102,
   "metadata": {},
   "outputs": [
    {
     "data": {
      "image/png": "[encoded data removed]",
      "text/plain": [
       "<Figure size 1152x576 with 1 Axes>"
      ]
     },
     "metadata": {},
     "output_type": "display_data"
    }
   ],
   "source": [
    "#Cantidad de accidentes por diseño de via\n",
    "fig, ax = plt.subplots(figsize=(16, 8))\n",
    "sns.countplot(data=df, x='DISEÑO', saturation=1)\n",
    "plt.title('Cantidad de accidentes por diseño de via', pad=20)\n",
    "plt.xlabel('Diseño', labelpad=20)\n",
    "plt.ylabel('Cantidad de accidentes', labelpad=20)\n",
    "plt.show()"
   ]
  },
  {
   "cell_type": "markdown",
   "metadata": {},
   "source": [
    "<center>\n",
    "\n",
    "# 3. Agrupamiento\n",
    "</center>"
   ]
  },
  {
   "cell_type": "markdown",
   "metadata": {},
   "source": [
    "### 3.1 Agrupacion por numero de accidentes en comunas"
   ]
  },
  {
   "cell_type": "code",
   "execution_count": 103,
   "metadata": {},
   "outputs": [],
   "source": [
    "#agrupacion de la cantidad de accidentes por comuna\n",
    "accidentes_comuna = pd.crosstab(df['COMUNA'], 'conteo').reset_index()\n",
    "accidentes_comuna.rename_axis(None, axis=1, inplace=True)\n",
    "accidentes_comuna.sort_values(by='conteo', ascending=False, inplace=True)\n",
    "accidentes_comuna.reset_index(drop=True, inplace=True)"
   ]
  },
  {
   "cell_type": "code",
   "execution_count": 104,
   "metadata": {},
   "outputs": [
    {
     "data": {
      "text/html": [
       "<div>\n",
       "<style scoped>\n",
       "    .dataframe tbody tr th:only-of-type {\n",
       "        vertical-align: middle;\n",
       "    }\n",
       "\n",
       "    .dataframe tbody tr th {\n",
       "        vertical-align: top;\n",
       "    }\n",
       "\n",
       "    .dataframe thead th {\n",
       "        text-align: right;\n",
       "    }\n",
       "</style>\n",
       "<table border=\"1\" class=\"dataframe\">\n",
       "  <thead>\n",
       "    <tr style=\"text-align: right;\">\n",
       "      <th></th>\n",
       "      <th>COMUNA</th>\n",
       "      <th>conteo</th>\n",
       "    </tr>\n",
       "  </thead>\n",
       "  <tbody>\n",
       "    <tr>\n",
       "      <th>0</th>\n",
       "      <td>La Candelaria</td>\n",
       "      <td>51783</td>\n",
       "    </tr>\n",
       "    <tr>\n",
       "      <th>1</th>\n",
       "      <td>Laureles Estadio</td>\n",
       "      <td>26869</td>\n",
       "    </tr>\n",
       "    <tr>\n",
       "      <th>2</th>\n",
       "      <td>Castilla</td>\n",
       "      <td>24787</td>\n",
       "    </tr>\n",
       "    <tr>\n",
       "      <th>3</th>\n",
       "      <td>El Poblado</td>\n",
       "      <td>21556</td>\n",
       "    </tr>\n",
       "    <tr>\n",
       "      <th>4</th>\n",
       "      <td>Guayabal</td>\n",
       "      <td>18344</td>\n",
       "    </tr>\n",
       "  </tbody>\n",
       "</table>\n",
       "</div>"
      ],
      "text/plain": [
       "             COMUNA  conteo\n",
       "0     La Candelaria   51783\n",
       "1  Laureles Estadio   26869\n",
       "2          Castilla   24787\n",
       "3        El Poblado   21556\n",
       "4          Guayabal   18344"
      ]
     },
     "execution_count": 104,
     "metadata": {},
     "output_type": "execute_result"
    }
   ],
   "source": [
    "#Verificar la agrupacion creada\n",
    "accidentes_comuna.head()"
   ]
  },
  {
   "cell_type": "markdown",
   "metadata": {},
   "source": [
    "### 3.2 Agrupacion por numero de accidentes en barrios"
   ]
  },
  {
   "cell_type": "code",
   "execution_count": 105,
   "metadata": {},
   "outputs": [],
   "source": [
    "#Agrupacion de la cantidad de accidentes por Barrio\n",
    "accidentes_barrios = pd.crosstab(df['BARRIO'], 'conteo').reset_index()\n",
    "accidentes_barrios.rename_axis(None, axis=1, inplace=True)\n",
    "accidentes_barrios.sort_values(by='conteo', ascending=False, inplace=True)\n",
    "accidentes_barrios.reset_index(drop=True, inplace=True)"
   ]
  },
  {
   "cell_type": "code",
   "execution_count": 106,
   "metadata": {},
   "outputs": [
    {
     "data": {
      "text/html": [
       "<div>\n",
       "<style scoped>\n",
       "    .dataframe tbody tr th:only-of-type {\n",
       "        vertical-align: middle;\n",
       "    }\n",
       "\n",
       "    .dataframe tbody tr th {\n",
       "        vertical-align: top;\n",
       "    }\n",
       "\n",
       "    .dataframe thead th {\n",
       "        text-align: right;\n",
       "    }\n",
       "</style>\n",
       "<table border=\"1\" class=\"dataframe\">\n",
       "  <thead>\n",
       "    <tr style=\"text-align: right;\">\n",
       "      <th></th>\n",
       "      <th>BARRIO</th>\n",
       "      <th>conteo</th>\n",
       "    </tr>\n",
       "  </thead>\n",
       "  <tbody>\n",
       "    <tr>\n",
       "      <th>0</th>\n",
       "      <td>la candelaria</td>\n",
       "      <td>5882</td>\n",
       "    </tr>\n",
       "    <tr>\n",
       "      <th>1</th>\n",
       "      <td>campo amor</td>\n",
       "      <td>5121</td>\n",
       "    </tr>\n",
       "    <tr>\n",
       "      <th>2</th>\n",
       "      <td>perpetuo socorro</td>\n",
       "      <td>5080</td>\n",
       "    </tr>\n",
       "    <tr>\n",
       "      <th>3</th>\n",
       "      <td>caribe</td>\n",
       "      <td>4848</td>\n",
       "    </tr>\n",
       "    <tr>\n",
       "      <th>4</th>\n",
       "      <td>barrio colon</td>\n",
       "      <td>4476</td>\n",
       "    </tr>\n",
       "  </tbody>\n",
       "</table>\n",
       "</div>"
      ],
      "text/plain": [
       "             BARRIO  conteo\n",
       "0     la candelaria    5882\n",
       "1        campo amor    5121\n",
       "2  perpetuo socorro    5080\n",
       "3            caribe    4848\n",
       "4      barrio colon    4476"
      ]
     },
     "execution_count": 106,
     "metadata": {},
     "output_type": "execute_result"
    }
   ],
   "source": [
    "#Verificar la agrupacion creada\n",
    "accidentes_barrios.head()"
   ]
  },
  {
   "cell_type": "markdown",
   "metadata": {},
   "source": [
    "### 3.3 Agrupacion por gravedad del accidente, clase de accidente y dia de la semana para cada barrio"
   ]
  },
  {
   "cell_type": "code",
   "execution_count": 107,
   "metadata": {},
   "outputs": [],
   "source": [
    "#Extraer los barrios del dataset\n",
    "barrios = df.BARRIO.unique()"
   ]
  },
  {
   "cell_type": "code",
   "execution_count": 108,
   "metadata": {},
   "outputs": [],
   "source": [
    "#Funcion que retorna la cantidad de accidentes por gravedad del accidente por barrio\n",
    "def gravedadAccidenteBarrios(barrios: list[str]):\n",
    "  datos_barrios:list[int] = []\n",
    "  for barrio in barrios:\n",
    "    dataset =  df[df.BARRIO == barrio].groupby('GRAVEDAD_ACCIDENTE').size().reset_index(name='Conteo')\n",
    "    clase_accidente = df[df['BARRIO'] == barrio].GRAVEDAD_ACCIDENTE.unique()\n",
    "    for clase in ['Con heridos', 'Solo daños', 'Con muertos']:\n",
    "      if clase not in clase_accidente:\n",
    "        dataset.loc[len(dataset)] = [clase, 0]\n",
    "    dataset.sort_values(by='GRAVEDAD_ACCIDENTE', inplace=True)\n",
    "    datos_barrios.append(dataset.Conteo.values)\n",
    "  return datos_barrios"
   ]
  },
  {
   "cell_type": "code",
   "execution_count": 109,
   "metadata": {},
   "outputs": [],
   "source": [
    "#Funcion que retorna la cantidad de accidentes por fecha festiva por barrio\n",
    "def fechaFestivaBarrios(barrios: list[str]):\n",
    "  datos_barrios:list[int] = []\n",
    "  for barrio in barrios:\n",
    "    dataset =  df[df.BARRIO == barrio].groupby('FECHA_FESTIVA').size().reset_index(name='Conteo')\n",
    "    clase_accidente = df[df['BARRIO'] == barrio].FECHA_FESTIVA.unique()\n",
    "    for clase in ['Fecha Festiva', 'Fecha Normal']:\n",
    "      if clase not in clase_accidente:\n",
    "        dataset.loc[len(dataset)] = [clase, 0]\n",
    "    dataset.sort_values(by='FECHA_FESTIVA', inplace=True)\n",
    "    datos_barrios.append(dataset.Conteo.values)\n",
    "  return datos_barrios"
   ]
  },
  {
   "cell_type": "code",
   "execution_count": 110,
   "metadata": {},
   "outputs": [],
   "source": [
    "#Funcion que retorna la cantidad de accidentes por clase de accidente por barrio\n",
    "def claseAccidenteBarrios(barrios: list[str]):\n",
    "  datos_barrios:list[int] = []\n",
    "  for barrio in barrios:\n",
    "    dataset =  df[df.BARRIO == barrio].groupby('CLASE_ACCIDENTE').size().reset_index(name='Conteo')\n",
    "    clase_accidente = df[df['BARRIO'] == barrio].CLASE_ACCIDENTE.unique()\n",
    "    for clase in ['Caida Ocupante', 'Choque', 'Otro', 'Atropello', 'Volcamiento', 'Incendio']:\n",
    "      if clase not in clase_accidente:\n",
    "        dataset.loc[len(dataset)] = [clase, 0]\n",
    "    dataset.sort_values(by='CLASE_ACCIDENTE', inplace=True)\n",
    "    datos_barrios.append(dataset.Conteo.values)\n",
    "  return datos_barrios"
   ]
  },
  {
   "cell_type": "code",
   "execution_count": 111,
   "metadata": {},
   "outputs": [],
   "source": [
    "#Funcion que retorna la cantidad de accidentes por dia de la semana por barrio\n",
    "def paymon(barrios: list[str]):\n",
    "  datos_barrios:list[int] = []\n",
    "  dias_semanas:int = 0\n",
    "  dias_festivos:int = 0\n",
    "  for barrio in barrios:\n",
    "    dataset =  df[df.BARRIO == barrio].groupby('DIA_SEMANA').size().reset_index(name='Conteo')\n",
    "    dia_semana = dataset.DIA_SEMANA.values\n",
    "    for dia in dia_semana:\n",
    "      if dia in ['Lunes', 'Martes', 'Miercoles', 'Jueves', 'Viernes']:\n",
    "        dias_semanas += dataset[dataset['DIA_SEMANA'] == dia]['Conteo'].values[0]\n",
    "      else:\n",
    "        dias_festivos += dataset[dataset['DIA_SEMANA'] == dia]['Conteo'].values[0]\n",
    "    datos_barrios.append([dias_semanas, dias_festivos])\n",
    "    dias_semanas = 0\n",
    "    dias_festivos = 0\n",
    "  return datos_barrios"
   ]
  },
  {
   "cell_type": "code",
   "execution_count": 112,
   "metadata": {},
   "outputs": [],
   "source": [
    "#Extraer los valores unicos de cada variable objet\n",
    "header_gravedad = df.GRAVEDAD_ACCIDENTE.unique()\n",
    "header_clase = df.CLASE_ACCIDENTE.unique()\n",
    "header_fecha_festiva = df.FECHA_FESTIVA.unique()\n",
    "header_dia_semana = ['Semana', 'Fin de semana']\n",
    "header_gravedad.sort()\n",
    "header_clase.sort()\n",
    "header_fecha_festiva.sort()"
   ]
  },
  {
   "cell_type": "code",
   "execution_count": 113,
   "metadata": {},
   "outputs": [],
   "source": [
    "#Se crea un dataframe con los datos matcheados del dataframe de accidentes y el dataframe de barrios de medellin\n",
    "df_agrupamiento = df_barrios[df_barrios['Name'].isin(barrios)]"
   ]
  },
  {
   "cell_type": "code",
   "execution_count": 114,
   "metadata": {},
   "outputs": [
    {
     "name": "stderr",
     "output_type": "stream",
     "text": [
      "C:\\Users\\pixel\\AppData\\Local\\Temp\\ipykernel_5796\\952572615.py:2: SettingWithCopyWarning: \n",
      "A value is trying to be set on a copy of a slice from a DataFrame\n",
      "\n",
      "See the caveats in the documentation: https://pandas.pydata.org/pandas-docs/stable/user_guide/indexing.html#returning-a-view-versus-a-copy\n",
      "  df_agrupamiento.drop_duplicates(subset=['Name'], inplace=True)\n"
     ]
    }
   ],
   "source": [
    "#Se Eliminan los valores duplicados del dataset\n",
    "df_agrupamiento.drop_duplicates(subset=['Name'], inplace=True)"
   ]
  },
  {
   "cell_type": "code",
   "execution_count": 115,
   "metadata": {},
   "outputs": [],
   "source": [
    "df_agrupamiento.reset_index(drop=True, inplace=True)"
   ]
  },
  {
   "cell_type": "code",
   "execution_count": 116,
   "metadata": {},
   "outputs": [],
   "source": [
    "#Se extraen los barrios\n",
    "barrios_2 = df_agrupamiento.Name.unique()"
   ]
  },
  {
   "cell_type": "code",
   "execution_count": 117,
   "metadata": {},
   "outputs": [],
   "source": [
    "#Llamado de las funciones antes creadas para extraer los datos\n",
    "valores_gravedad = gravedadAccidenteBarrios(barrios_2)\n",
    "valores_clase = claseAccidenteBarrios(barrios_2)\n",
    "valores_dia_semana = paymon(barrios_2)\n",
    "valores_fecha_festiva = fechaFestivaBarrios(barrios_2)"
   ]
  },
  {
   "cell_type": "code",
   "execution_count": 118,
   "metadata": {},
   "outputs": [],
   "source": [
    "#Crear dataframe para cada uno de los datos extraidos\n",
    "daframe_gravedad = pd.DataFrame(columns=header_gravedad, data=valores_gravedad)\n",
    "dataframe_clase = pd.DataFrame(columns=header_clase, data=valores_clase)\n",
    "dataframe_dia_semana = pd.DataFrame(columns=header_dia_semana, data=valores_dia_semana)\n",
    "dataframe_fecha_festiva = pd.DataFrame(columns=header_fecha_festiva, data=valores_fecha_festiva)"
   ]
  },
  {
   "cell_type": "code",
   "execution_count": 119,
   "metadata": {},
   "outputs": [],
   "source": [
    "#Unir los dataframes creados\n",
    "df_agrupamiento = df_agrupamiento.join([daframe_gravedad, dataframe_clase, dataframe_dia_semana, dataframe_fecha_festiva])"
   ]
  },
  {
   "cell_type": "code",
   "execution_count": 120,
   "metadata": {},
   "outputs": [
    {
     "data": {
      "text/html": [
       "<div>\n",
       "<style scoped>\n",
       "    .dataframe tbody tr th:only-of-type {\n",
       "        vertical-align: middle;\n",
       "    }\n",
       "\n",
       "    .dataframe tbody tr th {\n",
       "        vertical-align: top;\n",
       "    }\n",
       "\n",
       "    .dataframe thead th {\n",
       "        text-align: right;\n",
       "    }\n",
       "</style>\n",
       "<table border=\"1\" class=\"dataframe\">\n",
       "  <thead>\n",
       "    <tr style=\"text-align: right;\">\n",
       "      <th></th>\n",
       "      <th>Name</th>\n",
       "      <th>Latitude</th>\n",
       "      <th>Longitude</th>\n",
       "      <th>Con heridos</th>\n",
       "      <th>Con muertos</th>\n",
       "      <th>Solo daños</th>\n",
       "      <th>Atropello</th>\n",
       "      <th>Caida Ocupante</th>\n",
       "      <th>Choque</th>\n",
       "      <th>Incendio</th>\n",
       "      <th>Otro</th>\n",
       "      <th>Volcamiento</th>\n",
       "      <th>Semana</th>\n",
       "      <th>Fin de semana</th>\n",
       "      <th>Fecha Festiva</th>\n",
       "      <th>Fecha Normal</th>\n",
       "    </tr>\n",
       "  </thead>\n",
       "  <tbody>\n",
       "    <tr>\n",
       "      <th>0</th>\n",
       "      <td>aguas frias</td>\n",
       "      <td>6.232418</td>\n",
       "      <td>-75.648481</td>\n",
       "      <td>66</td>\n",
       "      <td>0</td>\n",
       "      <td>22</td>\n",
       "      <td>20</td>\n",
       "      <td>8</td>\n",
       "      <td>36</td>\n",
       "      <td>0</td>\n",
       "      <td>17</td>\n",
       "      <td>7</td>\n",
       "      <td>56</td>\n",
       "      <td>32</td>\n",
       "      <td>8</td>\n",
       "      <td>80</td>\n",
       "    </tr>\n",
       "    <tr>\n",
       "      <th>1</th>\n",
       "      <td>aldea pablo vi</td>\n",
       "      <td>6.287883</td>\n",
       "      <td>-75.541796</td>\n",
       "      <td>65</td>\n",
       "      <td>0</td>\n",
       "      <td>18</td>\n",
       "      <td>24</td>\n",
       "      <td>16</td>\n",
       "      <td>34</td>\n",
       "      <td>0</td>\n",
       "      <td>5</td>\n",
       "      <td>4</td>\n",
       "      <td>48</td>\n",
       "      <td>35</td>\n",
       "      <td>5</td>\n",
       "      <td>78</td>\n",
       "    </tr>\n",
       "    <tr>\n",
       "      <th>2</th>\n",
       "      <td>alejandro echavarria</td>\n",
       "      <td>6.237880</td>\n",
       "      <td>-75.545608</td>\n",
       "      <td>722</td>\n",
       "      <td>2</td>\n",
       "      <td>308</td>\n",
       "      <td>108</td>\n",
       "      <td>113</td>\n",
       "      <td>603</td>\n",
       "      <td>0</td>\n",
       "      <td>148</td>\n",
       "      <td>60</td>\n",
       "      <td>735</td>\n",
       "      <td>297</td>\n",
       "      <td>62</td>\n",
       "      <td>970</td>\n",
       "    </tr>\n",
       "    <tr>\n",
       "      <th>3</th>\n",
       "      <td>alejandria</td>\n",
       "      <td>6.199804</td>\n",
       "      <td>-75.568847</td>\n",
       "      <td>198</td>\n",
       "      <td>0</td>\n",
       "      <td>433</td>\n",
       "      <td>18</td>\n",
       "      <td>19</td>\n",
       "      <td>541</td>\n",
       "      <td>0</td>\n",
       "      <td>38</td>\n",
       "      <td>15</td>\n",
       "      <td>543</td>\n",
       "      <td>88</td>\n",
       "      <td>17</td>\n",
       "      <td>614</td>\n",
       "    </tr>\n",
       "    <tr>\n",
       "      <th>4</th>\n",
       "      <td>alfonso lopez</td>\n",
       "      <td>6.284452</td>\n",
       "      <td>-75.576027</td>\n",
       "      <td>816</td>\n",
       "      <td>0</td>\n",
       "      <td>346</td>\n",
       "      <td>148</td>\n",
       "      <td>185</td>\n",
       "      <td>567</td>\n",
       "      <td>0</td>\n",
       "      <td>193</td>\n",
       "      <td>69</td>\n",
       "      <td>839</td>\n",
       "      <td>323</td>\n",
       "      <td>71</td>\n",
       "      <td>1091</td>\n",
       "    </tr>\n",
       "  </tbody>\n",
       "</table>\n",
       "</div>"
      ],
      "text/plain": [
       "                   Name  Latitude  Longitude  Con heridos  Con muertos  \\\n",
       "0           aguas frias  6.232418 -75.648481           66            0   \n",
       "1        aldea pablo vi  6.287883 -75.541796           65            0   \n",
       "2  alejandro echavarria  6.237880 -75.545608          722            2   \n",
       "3            alejandria  6.199804 -75.568847          198            0   \n",
       "4         alfonso lopez  6.284452 -75.576027          816            0   \n",
       "\n",
       "   Solo daños  Atropello  Caida Ocupante  Choque  Incendio  Otro  Volcamiento  \\\n",
       "0          22         20               8      36         0    17            7   \n",
       "1          18         24              16      34         0     5            4   \n",
       "2         308        108             113     603         0   148           60   \n",
       "3         433         18              19     541         0    38           15   \n",
       "4         346        148             185     567         0   193           69   \n",
       "\n",
       "   Semana  Fin de semana  Fecha Festiva  Fecha Normal  \n",
       "0      56             32              8            80  \n",
       "1      48             35              5            78  \n",
       "2     735            297             62           970  \n",
       "3     543             88             17           614  \n",
       "4     839            323             71          1091  "
      ]
     },
     "execution_count": 120,
     "metadata": {},
     "output_type": "execute_result"
    }
   ],
   "source": [
    "#Observar el dataframe creado\n",
    "df_agrupamiento.head()"
   ]
  },
  {
   "cell_type": "markdown",
   "metadata": {},
   "source": [
    "### 3.4 Clustering meadiante K-Means"
   ]
  },
  {
   "cell_type": "code",
   "execution_count": 121,
   "metadata": {},
   "outputs": [],
   "source": [
    "#Funcion para graficar la curva de codo\n",
    "def curva_codo(datos: pd.DataFrame, columna: str):\n",
    "  valores_inercia = []\n",
    "  for i in range(1,11):\n",
    "    model = KMeans(n_clusters=i, random_state=0)\n",
    "    model.fit(datos)\n",
    "    valores_inercia.append(model.inertia_)\n",
    "  plt.figure(figsize=(16, 8))\n",
    "  plt.plot(range(1,11), valores_inercia, marker='o')\n",
    "  plt.xlabel('Numero de clusters')\n",
    "  plt.ylabel('Inercia')\n",
    "  plt.title('Curva de codo para la variable ' + columna)\n",
    "  plt.show()"
   ]
  },
  {
   "cell_type": "code",
   "execution_count": 122,
   "metadata": {},
   "outputs": [],
   "source": [
    "#Funcion para crear los clusters\n",
    "def creacion_clusters(datos: pd.DataFrame, columna: str, clusters: int):\n",
    "  scaler = MinMaxScaler()\n",
    "  datos_escalados = scaler.fit_transform(datos)\n",
    "  modelo = KMeans(n_clusters=clusters, random_state=42)\n",
    "  df_agrupamiento[columna] = modelo.fit_predict(datos_escalados)"
   ]
  },
  {
   "cell_type": "code",
   "execution_count": 123,
   "metadata": {},
   "outputs": [],
   "source": [
    "#Extraemos las variables que se van a utilizar para el clustering\n",
    "columnas_clustering_gravedad = df_agrupamiento.iloc[:, 3:6]\n",
    "columnas_clustering_clase = df_agrupamiento.iloc[:, 6:12]\n",
    "columnas_clustering_dia_semana = df_agrupamiento.iloc[:, 12:14]\n",
    "columnas_clustering_fecha_festiva = df_agrupamiento.iloc[:, 14:16]"
   ]
  },
  {
   "cell_type": "code",
   "execution_count": 124,
   "metadata": {},
   "outputs": [
    {
     "ename": "AttributeError",
     "evalue": "'NoneType' object has no attribute 'split'",
     "output_type": "error",
     "traceback": [
      "\u001b[1;31m---------------------------------------------------------------------------\u001b[0m",
      "\u001b[1;31mAttributeError\u001b[0m                            Traceback (most recent call last)",
      "\u001b[1;32mc:\\Users\\pixel\\Documents\\GitHub\\proyecto2-analitica\\main.ipynb Cell 159\u001b[0m line \u001b[0;36m<cell line: 2>\u001b[1;34m()\u001b[0m\n\u001b[0;32m      <a href='vscode-notebook-cell:/c%3A/Users/pixel/Documents/GitHub/proyecto2-analitica/main.ipynb#Y315sZmlsZQ%3D%3D?line=0'>1</a>\u001b[0m \u001b[39m#Grafica curva de codo para la variable gravedad\u001b[39;00m\n\u001b[1;32m----> <a href='vscode-notebook-cell:/c%3A/Users/pixel/Documents/GitHub/proyecto2-analitica/main.ipynb#Y315sZmlsZQ%3D%3D?line=1'>2</a>\u001b[0m curva_codo(columnas_clustering_gravedad, \u001b[39m'\u001b[39;49m\u001b[39mGravedad\u001b[39;49m\u001b[39m'\u001b[39;49m)\n",
      "\u001b[1;32mc:\\Users\\pixel\\Documents\\GitHub\\proyecto2-analitica\\main.ipynb Cell 159\u001b[0m line \u001b[0;36mcurva_codo\u001b[1;34m(datos, columna)\u001b[0m\n\u001b[0;32m      <a href='vscode-notebook-cell:/c%3A/Users/pixel/Documents/GitHub/proyecto2-analitica/main.ipynb#Y315sZmlsZQ%3D%3D?line=3'>4</a>\u001b[0m \u001b[39mfor\u001b[39;00m i \u001b[39min\u001b[39;00m \u001b[39mrange\u001b[39m(\u001b[39m1\u001b[39m,\u001b[39m11\u001b[39m):\n\u001b[0;32m      <a href='vscode-notebook-cell:/c%3A/Users/pixel/Documents/GitHub/proyecto2-analitica/main.ipynb#Y315sZmlsZQ%3D%3D?line=4'>5</a>\u001b[0m   model \u001b[39m=\u001b[39m KMeans(n_clusters\u001b[39m=\u001b[39mi, random_state\u001b[39m=\u001b[39m\u001b[39m0\u001b[39m)\n\u001b[1;32m----> <a href='vscode-notebook-cell:/c%3A/Users/pixel/Documents/GitHub/proyecto2-analitica/main.ipynb#Y315sZmlsZQ%3D%3D?line=5'>6</a>\u001b[0m   model\u001b[39m.\u001b[39;49mfit(datos)\n\u001b[0;32m      <a href='vscode-notebook-cell:/c%3A/Users/pixel/Documents/GitHub/proyecto2-analitica/main.ipynb#Y315sZmlsZQ%3D%3D?line=6'>7</a>\u001b[0m   valores_inercia\u001b[39m.\u001b[39mappend(model\u001b[39m.\u001b[39minertia_)\n\u001b[0;32m      <a href='vscode-notebook-cell:/c%3A/Users/pixel/Documents/GitHub/proyecto2-analitica/main.ipynb#Y315sZmlsZQ%3D%3D?line=7'>8</a>\u001b[0m plt\u001b[39m.\u001b[39mfigure(figsize\u001b[39m=\u001b[39m(\u001b[39m16\u001b[39m, \u001b[39m8\u001b[39m))\n",
      "File \u001b[1;32mc:\\Users\\pixel\\anaconda3\\lib\\site-packages\\sklearn\\cluster\\_kmeans.py:1171\u001b[0m, in \u001b[0;36mKMeans.fit\u001b[1;34m(self, X, y, sample_weight)\u001b[0m\n\u001b[0;32m   1169\u001b[0m \u001b[39mif\u001b[39;00m \u001b[39mself\u001b[39m\u001b[39m.\u001b[39m_algorithm \u001b[39m==\u001b[39m \u001b[39m\"\u001b[39m\u001b[39mfull\u001b[39m\u001b[39m\"\u001b[39m:\n\u001b[0;32m   1170\u001b[0m     kmeans_single \u001b[39m=\u001b[39m _kmeans_single_lloyd\n\u001b[1;32m-> 1171\u001b[0m     \u001b[39mself\u001b[39;49m\u001b[39m.\u001b[39;49m_check_mkl_vcomp(X, X\u001b[39m.\u001b[39;49mshape[\u001b[39m0\u001b[39;49m])\n\u001b[0;32m   1172\u001b[0m \u001b[39melse\u001b[39;00m:\n\u001b[0;32m   1173\u001b[0m     kmeans_single \u001b[39m=\u001b[39m _kmeans_single_elkan\n",
      "File \u001b[1;32mc:\\Users\\pixel\\anaconda3\\lib\\site-packages\\sklearn\\cluster\\_kmeans.py:1028\u001b[0m, in \u001b[0;36mKMeans._check_mkl_vcomp\u001b[1;34m(self, X, n_samples)\u001b[0m\n\u001b[0;32m   1026\u001b[0m active_threads \u001b[39m=\u001b[39m \u001b[39mint\u001b[39m(np\u001b[39m.\u001b[39mceil(n_samples \u001b[39m/\u001b[39m CHUNK_SIZE))\n\u001b[0;32m   1027\u001b[0m \u001b[39mif\u001b[39;00m active_threads \u001b[39m<\u001b[39m \u001b[39mself\u001b[39m\u001b[39m.\u001b[39m_n_threads:\n\u001b[1;32m-> 1028\u001b[0m     modules \u001b[39m=\u001b[39m threadpool_info()\n\u001b[0;32m   1029\u001b[0m     has_vcomp \u001b[39m=\u001b[39m \u001b[39m\"\u001b[39m\u001b[39mvcomp\u001b[39m\u001b[39m\"\u001b[39m \u001b[39min\u001b[39;00m [module[\u001b[39m\"\u001b[39m\u001b[39mprefix\u001b[39m\u001b[39m\"\u001b[39m] \u001b[39mfor\u001b[39;00m module \u001b[39min\u001b[39;00m modules]\n\u001b[0;32m   1030\u001b[0m     has_mkl \u001b[39m=\u001b[39m (\u001b[39m\"\u001b[39m\u001b[39mmkl\u001b[39m\u001b[39m\"\u001b[39m, \u001b[39m\"\u001b[39m\u001b[39mintel\u001b[39m\u001b[39m\"\u001b[39m) \u001b[39min\u001b[39;00m [\n\u001b[0;32m   1031\u001b[0m         (module[\u001b[39m\"\u001b[39m\u001b[39minternal_api\u001b[39m\u001b[39m\"\u001b[39m], module\u001b[39m.\u001b[39mget(\u001b[39m\"\u001b[39m\u001b[39mthreading_layer\u001b[39m\u001b[39m\"\u001b[39m, \u001b[39mNone\u001b[39;00m))\n\u001b[0;32m   1032\u001b[0m         \u001b[39mfor\u001b[39;00m module \u001b[39min\u001b[39;00m modules\n\u001b[0;32m   1033\u001b[0m     ]\n",
      "File \u001b[1;32mc:\\Users\\pixel\\anaconda3\\lib\\site-packages\\sklearn\\utils\\fixes.py:325\u001b[0m, in \u001b[0;36mthreadpool_info\u001b[1;34m()\u001b[0m\n\u001b[0;32m    323\u001b[0m     \u001b[39mreturn\u001b[39;00m controller\u001b[39m.\u001b[39minfo()\n\u001b[0;32m    324\u001b[0m \u001b[39melse\u001b[39;00m:\n\u001b[1;32m--> 325\u001b[0m     \u001b[39mreturn\u001b[39;00m threadpoolctl\u001b[39m.\u001b[39;49mthreadpool_info()\n",
      "File \u001b[1;32mc:\\Users\\pixel\\anaconda3\\lib\\site-packages\\threadpoolctl.py:124\u001b[0m, in \u001b[0;36mthreadpool_info\u001b[1;34m()\u001b[0m\n\u001b[0;32m    107\u001b[0m \u001b[39m@_format_docstring\u001b[39m(USER_APIS\u001b[39m=\u001b[39m\u001b[39mlist\u001b[39m(_ALL_USER_APIS),\n\u001b[0;32m    108\u001b[0m                    INTERNAL_APIS\u001b[39m=\u001b[39m_ALL_INTERNAL_APIS)\n\u001b[0;32m    109\u001b[0m \u001b[39mdef\u001b[39;00m \u001b[39mthreadpool_info\u001b[39m():\n\u001b[0;32m    110\u001b[0m     \u001b[39m\"\"\"Return the maximal number of threads for each detected library.\u001b[39;00m\n\u001b[0;32m    111\u001b[0m \n\u001b[0;32m    112\u001b[0m \u001b[39m    Return a list with all the supported modules that have been found. Each\u001b[39;00m\n\u001b[1;32m   (...)\u001b[0m\n\u001b[0;32m    122\u001b[0m \u001b[39m    In addition, each module may contain internal_api specific entries.\u001b[39;00m\n\u001b[0;32m    123\u001b[0m \u001b[39m    \"\"\"\u001b[39;00m\n\u001b[1;32m--> 124\u001b[0m     \u001b[39mreturn\u001b[39;00m _ThreadpoolInfo(user_api\u001b[39m=\u001b[39;49m_ALL_USER_APIS)\u001b[39m.\u001b[39mtodicts()\n",
      "File \u001b[1;32mc:\\Users\\pixel\\anaconda3\\lib\\site-packages\\threadpoolctl.py:340\u001b[0m, in \u001b[0;36m_ThreadpoolInfo.__init__\u001b[1;34m(self, user_api, prefixes, modules)\u001b[0m\n\u001b[0;32m    337\u001b[0m     \u001b[39mself\u001b[39m\u001b[39m.\u001b[39muser_api \u001b[39m=\u001b[39m [] \u001b[39mif\u001b[39;00m user_api \u001b[39mis\u001b[39;00m \u001b[39mNone\u001b[39;00m \u001b[39melse\u001b[39;00m user_api\n\u001b[0;32m    339\u001b[0m     \u001b[39mself\u001b[39m\u001b[39m.\u001b[39mmodules \u001b[39m=\u001b[39m []\n\u001b[1;32m--> 340\u001b[0m     \u001b[39mself\u001b[39;49m\u001b[39m.\u001b[39;49m_load_modules()\n\u001b[0;32m    341\u001b[0m     \u001b[39mself\u001b[39m\u001b[39m.\u001b[39m_warn_if_incompatible_openmp()\n\u001b[0;32m    342\u001b[0m \u001b[39melse\u001b[39;00m:\n",
      "File \u001b[1;32mc:\\Users\\pixel\\anaconda3\\lib\\site-packages\\threadpoolctl.py:373\u001b[0m, in \u001b[0;36m_ThreadpoolInfo._load_modules\u001b[1;34m(self)\u001b[0m\n\u001b[0;32m    371\u001b[0m     \u001b[39mself\u001b[39m\u001b[39m.\u001b[39m_find_modules_with_dyld()\n\u001b[0;32m    372\u001b[0m \u001b[39melif\u001b[39;00m sys\u001b[39m.\u001b[39mplatform \u001b[39m==\u001b[39m \u001b[39m\"\u001b[39m\u001b[39mwin32\u001b[39m\u001b[39m\"\u001b[39m:\n\u001b[1;32m--> 373\u001b[0m     \u001b[39mself\u001b[39;49m\u001b[39m.\u001b[39;49m_find_modules_with_enum_process_module_ex()\n\u001b[0;32m    374\u001b[0m \u001b[39melse\u001b[39;00m:\n\u001b[0;32m    375\u001b[0m     \u001b[39mself\u001b[39m\u001b[39m.\u001b[39m_find_modules_with_dl_iterate_phdr()\n",
      "File \u001b[1;32mc:\\Users\\pixel\\anaconda3\\lib\\site-packages\\threadpoolctl.py:485\u001b[0m, in \u001b[0;36m_ThreadpoolInfo._find_modules_with_enum_process_module_ex\u001b[1;34m(self)\u001b[0m\n\u001b[0;32m    482\u001b[0m         filepath \u001b[39m=\u001b[39m buf\u001b[39m.\u001b[39mvalue\n\u001b[0;32m    484\u001b[0m         \u001b[39m# Store the module if it is supported and selected\u001b[39;00m\n\u001b[1;32m--> 485\u001b[0m         \u001b[39mself\u001b[39;49m\u001b[39m.\u001b[39;49m_make_module_from_path(filepath)\n\u001b[0;32m    486\u001b[0m \u001b[39mfinally\u001b[39;00m:\n\u001b[0;32m    487\u001b[0m     kernel_32\u001b[39m.\u001b[39mCloseHandle(h_process)\n",
      "File \u001b[1;32mc:\\Users\\pixel\\anaconda3\\lib\\site-packages\\threadpoolctl.py:515\u001b[0m, in \u001b[0;36m_ThreadpoolInfo._make_module_from_path\u001b[1;34m(self, filepath)\u001b[0m\n\u001b[0;32m    513\u001b[0m \u001b[39mif\u001b[39;00m prefix \u001b[39min\u001b[39;00m \u001b[39mself\u001b[39m\u001b[39m.\u001b[39mprefixes \u001b[39mor\u001b[39;00m user_api \u001b[39min\u001b[39;00m \u001b[39mself\u001b[39m\u001b[39m.\u001b[39muser_api:\n\u001b[0;32m    514\u001b[0m     module_class \u001b[39m=\u001b[39m \u001b[39mglobals\u001b[39m()[module_class]\n\u001b[1;32m--> 515\u001b[0m     module \u001b[39m=\u001b[39m module_class(filepath, prefix, user_api, internal_api)\n\u001b[0;32m    516\u001b[0m     \u001b[39mself\u001b[39m\u001b[39m.\u001b[39mmodules\u001b[39m.\u001b[39mappend(module)\n",
      "File \u001b[1;32mc:\\Users\\pixel\\anaconda3\\lib\\site-packages\\threadpoolctl.py:606\u001b[0m, in \u001b[0;36m_Module.__init__\u001b[1;34m(self, filepath, prefix, user_api, internal_api)\u001b[0m\n\u001b[0;32m    604\u001b[0m \u001b[39mself\u001b[39m\u001b[39m.\u001b[39minternal_api \u001b[39m=\u001b[39m internal_api\n\u001b[0;32m    605\u001b[0m \u001b[39mself\u001b[39m\u001b[39m.\u001b[39m_dynlib \u001b[39m=\u001b[39m ctypes\u001b[39m.\u001b[39mCDLL(filepath, mode\u001b[39m=\u001b[39m_RTLD_NOLOAD)\n\u001b[1;32m--> 606\u001b[0m \u001b[39mself\u001b[39m\u001b[39m.\u001b[39mversion \u001b[39m=\u001b[39m \u001b[39mself\u001b[39;49m\u001b[39m.\u001b[39;49mget_version()\n\u001b[0;32m    607\u001b[0m \u001b[39mself\u001b[39m\u001b[39m.\u001b[39mnum_threads \u001b[39m=\u001b[39m \u001b[39mself\u001b[39m\u001b[39m.\u001b[39mget_num_threads()\n\u001b[0;32m    608\u001b[0m \u001b[39mself\u001b[39m\u001b[39m.\u001b[39m_get_extra_info()\n",
      "File \u001b[1;32mc:\\Users\\pixel\\anaconda3\\lib\\site-packages\\threadpoolctl.py:646\u001b[0m, in \u001b[0;36m_OpenBLASModule.get_version\u001b[1;34m(self)\u001b[0m\n\u001b[0;32m    643\u001b[0m get_config \u001b[39m=\u001b[39m \u001b[39mgetattr\u001b[39m(\u001b[39mself\u001b[39m\u001b[39m.\u001b[39m_dynlib, \u001b[39m\"\u001b[39m\u001b[39mopenblas_get_config\u001b[39m\u001b[39m\"\u001b[39m,\n\u001b[0;32m    644\u001b[0m                      \u001b[39mlambda\u001b[39;00m: \u001b[39mNone\u001b[39;00m)\n\u001b[0;32m    645\u001b[0m get_config\u001b[39m.\u001b[39mrestype \u001b[39m=\u001b[39m ctypes\u001b[39m.\u001b[39mc_char_p\n\u001b[1;32m--> 646\u001b[0m config \u001b[39m=\u001b[39m get_config()\u001b[39m.\u001b[39;49msplit()\n\u001b[0;32m    647\u001b[0m \u001b[39mif\u001b[39;00m config[\u001b[39m0\u001b[39m] \u001b[39m==\u001b[39m \u001b[39mb\u001b[39m\u001b[39m\"\u001b[39m\u001b[39mOpenBLAS\u001b[39m\u001b[39m\"\u001b[39m:\n\u001b[0;32m    648\u001b[0m     \u001b[39mreturn\u001b[39;00m config[\u001b[39m1\u001b[39m]\u001b[39m.\u001b[39mdecode(\u001b[39m\"\u001b[39m\u001b[39mutf-8\u001b[39m\u001b[39m\"\u001b[39m)\n",
      "\u001b[1;31mAttributeError\u001b[0m: 'NoneType' object has no attribute 'split'"
     ]
    }
   ],
   "source": [
    "#Grafica curva de codo para la variable gravedad\n",
    "curva_codo(columnas_clustering_gravedad, 'Gravedad')"
   ]
  },
  {
   "cell_type": "code",
   "execution_count": null,
   "metadata": {},
   "outputs": [
    {
     "data": {
      "image/png": "[encoded data removed]",
      "text/plain": [
       "<Figure size 1600x800 with 1 Axes>"
      ]
     },
     "metadata": {},
     "output_type": "display_data"
    }
   ],
   "source": [
    "#Grafica curva de codo para la variable clase\n",
    "curva_codo(columnas_clustering_clase, 'Clase')"
   ]
  },
  {
   "cell_type": "code",
   "execution_count": null,
   "metadata": {},
   "outputs": [
    {
     "data": {
      "image/png": "[encoded data removed]",
      "text/plain": [
       "<Figure size 1600x800 with 1 Axes>"
      ]
     },
     "metadata": {},
     "output_type": "display_data"
    }
   ],
   "source": [
    "#Grafica curva de codo para la variable fehca festiva\n",
    "curva_codo(columnas_clustering_fecha_festiva, 'Fecha Festiva')"
   ]
  },
  {
   "cell_type": "code",
   "execution_count": null,
   "metadata": {},
   "outputs": [
    {
     "data": {
      "image/png": "[encoded data removed]",
      "text/plain": [
       "<Figure size 1600x800 with 1 Axes>"
      ]
     },
     "metadata": {},
     "output_type": "display_data"
    }
   ],
   "source": [
    "#Grafica curva de codo para la variable dia de la semana\n",
    "curva_codo(columnas_clustering_dia_semana, 'Dia Semana')"
   ]
  },
  {
   "cell_type": "code",
   "execution_count": null,
   "metadata": {},
   "outputs": [
    {
     "data": {
      "image/png": "[encoded data removed]",
      "text/plain": [
       "<Figure size 1600x800 with 1 Axes>"
      ]
     },
     "metadata": {},
     "output_type": "display_data"
    }
   ],
   "source": [
    "#Grafica curva de codo para la variable todas las variables en general\n",
    "curva_codo(df_agrupamiento.iloc[:, 3:14], 'Todas')"
   ]
  },
  {
   "cell_type": "code",
   "execution_count": null,
   "metadata": {},
   "outputs": [],
   "source": [
    "#Llamamos la funcion de creacion de clusters para cada uno de los dataframes\n",
    "creacion_clusters(columnas_clustering_gravedad, 'CLUSTER_GRAVEDAD', 3)\n",
    "creacion_clusters(columnas_clustering_clase, 'CLUSTER_CLASE', 3)\n",
    "creacion_clusters(columnas_clustering_dia_semana, 'CLUSTER_DIA_SEMANA', 3)\n",
    "creacion_clusters(columnas_clustering_fecha_festiva, 'CLUSTER_FECHA_FESTIVA', 3)\n",
    "creacion_clusters(df_agrupamiento.iloc[:, 3:14], 'CLUSTER_GENERAL', 3)"
   ]
  },
  {
   "cell_type": "code",
   "execution_count": null,
   "metadata": {},
   "outputs": [],
   "source": [
    "#Guardar el dataframe del agrupamiento\n",
    "df_agrupamiento.to_csv('incidentes_viales_agrupados.csv', sep=',', encoding='utf-8', index=False)"
   ]
  },
  {
   "cell_type": "code",
   "execution_count": null,
   "metadata": {},
   "outputs": [],
   "source": [
    "#Funcion para observar la caracteristica de cada cluster\n",
    "def observar_caracteristicas_cluster(columna: str ,cluster: int):\n",
    "  if columna == 'CLUSTER_GRAVEDAD':\n",
    "    return df_agrupamiento[df_agrupamiento[columna] == cluster][['Con heridos', 'Con muertos', 'Solo daños']].describe().T.drop('count', axis=1)\n",
    "  if columna == 'CLUSTER_DIA_SEMANA':\n",
    "    return df_agrupamiento[df_agrupamiento[columna] == cluster][['Semana', 'Fin de semana']].describe().T.drop('count', axis=1)\n",
    "  if columna == 'CLUSTER_CLASE':\n",
    "    return df_agrupamiento[df_agrupamiento[columna] == cluster][['Atropello', 'Caida Ocupante', 'Choque',\t'Incendio',\t'Otro',\t'Volcamiento']].describe().T.drop('count', axis=1)\n",
    "  if columna == 'CLUSTER_FECHA_FESTIVA':\n",
    "    return df_agrupamiento[df_agrupamiento[columna] == cluster][['Fecha Festiva', 'Fecha Normal']].describe().T.drop('count', axis=1)\n",
    "  if columna == 'CLUSTER_GENERAL':\n",
    "    return df_agrupamiento[df_agrupamiento[columna] == cluster].iloc[:,3:16].describe().T.drop('count', axis=1)"
   ]
  },
  {
   "cell_type": "code",
   "execution_count": null,
   "metadata": {},
   "outputs": [
    {
     "data": {
      "text/html": [
       "<div>\n",
       "<style scoped>\n",
       "    .dataframe tbody tr th:only-of-type {\n",
       "        vertical-align: middle;\n",
       "    }\n",
       "\n",
       "    .dataframe tbody tr th {\n",
       "        vertical-align: top;\n",
       "    }\n",
       "\n",
       "    .dataframe thead th {\n",
       "        text-align: right;\n",
       "    }\n",
       "</style>\n",
       "<table border=\"1\" class=\"dataframe\">\n",
       "  <thead>\n",
       "    <tr style=\"text-align: right;\">\n",
       "      <th></th>\n",
       "      <th>mean</th>\n",
       "      <th>std</th>\n",
       "      <th>min</th>\n",
       "      <th>25%</th>\n",
       "      <th>50%</th>\n",
       "      <th>75%</th>\n",
       "      <th>max</th>\n",
       "    </tr>\n",
       "  </thead>\n",
       "  <tbody>\n",
       "    <tr>\n",
       "      <th>Con heridos</th>\n",
       "      <td>180.801105</td>\n",
       "      <td>133.815022</td>\n",
       "      <td>0.0</td>\n",
       "      <td>66.0</td>\n",
       "      <td>165.0</td>\n",
       "      <td>282.0</td>\n",
       "      <td>467.0</td>\n",
       "    </tr>\n",
       "    <tr>\n",
       "      <th>Con muertos</th>\n",
       "      <td>0.276243</td>\n",
       "      <td>0.568565</td>\n",
       "      <td>0.0</td>\n",
       "      <td>0.0</td>\n",
       "      <td>0.0</td>\n",
       "      <td>0.0</td>\n",
       "      <td>3.0</td>\n",
       "    </tr>\n",
       "    <tr>\n",
       "      <th>Solo daños</th>\n",
       "      <td>122.132597</td>\n",
       "      <td>127.508187</td>\n",
       "      <td>0.0</td>\n",
       "      <td>24.0</td>\n",
       "      <td>86.0</td>\n",
       "      <td>170.0</td>\n",
       "      <td>697.0</td>\n",
       "    </tr>\n",
       "    <tr>\n",
       "      <th>Atropello</th>\n",
       "      <td>37.342541</td>\n",
       "      <td>33.589909</td>\n",
       "      <td>0.0</td>\n",
       "      <td>11.0</td>\n",
       "      <td>28.0</td>\n",
       "      <td>55.0</td>\n",
       "      <td>192.0</td>\n",
       "    </tr>\n",
       "    <tr>\n",
       "      <th>Caida Ocupante</th>\n",
       "      <td>29.889503</td>\n",
       "      <td>24.071397</td>\n",
       "      <td>0.0</td>\n",
       "      <td>10.0</td>\n",
       "      <td>26.0</td>\n",
       "      <td>47.0</td>\n",
       "      <td>121.0</td>\n",
       "    </tr>\n",
       "    <tr>\n",
       "      <th>Choque</th>\n",
       "      <td>188.121547</td>\n",
       "      <td>178.375654</td>\n",
       "      <td>0.0</td>\n",
       "      <td>41.0</td>\n",
       "      <td>140.0</td>\n",
       "      <td>281.0</td>\n",
       "      <td>885.0</td>\n",
       "    </tr>\n",
       "    <tr>\n",
       "      <th>Incendio</th>\n",
       "      <td>0.016575</td>\n",
       "      <td>0.128025</td>\n",
       "      <td>0.0</td>\n",
       "      <td>0.0</td>\n",
       "      <td>0.0</td>\n",
       "      <td>0.0</td>\n",
       "      <td>1.0</td>\n",
       "    </tr>\n",
       "    <tr>\n",
       "      <th>Otro</th>\n",
       "      <td>35.276243</td>\n",
       "      <td>26.889505</td>\n",
       "      <td>0.0</td>\n",
       "      <td>12.0</td>\n",
       "      <td>32.0</td>\n",
       "      <td>53.0</td>\n",
       "      <td>111.0</td>\n",
       "    </tr>\n",
       "    <tr>\n",
       "      <th>Volcamiento</th>\n",
       "      <td>12.563536</td>\n",
       "      <td>9.527889</td>\n",
       "      <td>0.0</td>\n",
       "      <td>5.0</td>\n",
       "      <td>10.0</td>\n",
       "      <td>20.0</td>\n",
       "      <td>44.0</td>\n",
       "    </tr>\n",
       "    <tr>\n",
       "      <th>Semana</th>\n",
       "      <td>221.817680</td>\n",
       "      <td>181.163201</td>\n",
       "      <td>0.0</td>\n",
       "      <td>65.0</td>\n",
       "      <td>178.0</td>\n",
       "      <td>325.0</td>\n",
       "      <td>858.0</td>\n",
       "    </tr>\n",
       "    <tr>\n",
       "      <th>Fin de semana</th>\n",
       "      <td>81.392265</td>\n",
       "      <td>60.390357</td>\n",
       "      <td>0.0</td>\n",
       "      <td>30.0</td>\n",
       "      <td>72.0</td>\n",
       "      <td>128.0</td>\n",
       "      <td>214.0</td>\n",
       "    </tr>\n",
       "    <tr>\n",
       "      <th>Fecha Festiva</th>\n",
       "      <td>15.276243</td>\n",
       "      <td>12.035639</td>\n",
       "      <td>0.0</td>\n",
       "      <td>5.0</td>\n",
       "      <td>13.0</td>\n",
       "      <td>25.0</td>\n",
       "      <td>51.0</td>\n",
       "    </tr>\n",
       "    <tr>\n",
       "      <th>Fecha Normal</th>\n",
       "      <td>287.933702</td>\n",
       "      <td>227.214280</td>\n",
       "      <td>1.0</td>\n",
       "      <td>87.0</td>\n",
       "      <td>240.0</td>\n",
       "      <td>424.0</td>\n",
       "      <td>1017.0</td>\n",
       "    </tr>\n",
       "  </tbody>\n",
       "</table>\n",
       "</div>"
      ],
      "text/plain": [
       "                      mean         std  min   25%    50%    75%     max\n",
       "Con heridos     180.801105  133.815022  0.0  66.0  165.0  282.0   467.0\n",
       "Con muertos       0.276243    0.568565  0.0   0.0    0.0    0.0     3.0\n",
       "Solo daños      122.132597  127.508187  0.0  24.0   86.0  170.0   697.0\n",
       "Atropello        37.342541   33.589909  0.0  11.0   28.0   55.0   192.0\n",
       "Caida Ocupante   29.889503   24.071397  0.0  10.0   26.0   47.0   121.0\n",
       "Choque          188.121547  178.375654  0.0  41.0  140.0  281.0   885.0\n",
       "Incendio          0.016575    0.128025  0.0   0.0    0.0    0.0     1.0\n",
       "Otro             35.276243   26.889505  0.0  12.0   32.0   53.0   111.0\n",
       "Volcamiento      12.563536    9.527889  0.0   5.0   10.0   20.0    44.0\n",
       "Semana          221.817680  181.163201  0.0  65.0  178.0  325.0   858.0\n",
       "Fin de semana    81.392265   60.390357  0.0  30.0   72.0  128.0   214.0\n",
       "Fecha Festiva    15.276243   12.035639  0.0   5.0   13.0   25.0    51.0\n",
       "Fecha Normal    287.933702  227.214280  1.0  87.0  240.0  424.0  1017.0"
      ]
     },
     "execution_count": 138,
     "metadata": {},
     "output_type": "execute_result"
    }
   ],
   "source": [
    "#Miramos las caracteriticas del primer cluster tomando encuenta todas las variables\n",
    "observar_caracteristicas_cluster('CLUSTER_GENERAL', 0)"
   ]
  },
  {
   "cell_type": "markdown",
   "metadata": {},
   "source": [
    "### Cluster con una cantidad baja de accidentalidad. Se destaca por una baja accidentalidad en semana, pocos accidentes de volcamiento y menor cantidad de muertos por accidente. Lo consideramos como zona de bajo riesgo"
   ]
  },
  {
   "cell_type": "code",
   "execution_count": null,
   "metadata": {},
   "outputs": [
    {
     "data": {
      "text/html": [
       "<div>\n",
       "<style scoped>\n",
       "    .dataframe tbody tr th:only-of-type {\n",
       "        vertical-align: middle;\n",
       "    }\n",
       "\n",
       "    .dataframe tbody tr th {\n",
       "        vertical-align: top;\n",
       "    }\n",
       "\n",
       "    .dataframe thead th {\n",
       "        text-align: right;\n",
       "    }\n",
       "</style>\n",
       "<table border=\"1\" class=\"dataframe\">\n",
       "  <thead>\n",
       "    <tr style=\"text-align: right;\">\n",
       "      <th></th>\n",
       "      <th>mean</th>\n",
       "      <th>std</th>\n",
       "      <th>min</th>\n",
       "      <th>25%</th>\n",
       "      <th>50%</th>\n",
       "      <th>75%</th>\n",
       "      <th>max</th>\n",
       "    </tr>\n",
       "  </thead>\n",
       "  <tbody>\n",
       "    <tr>\n",
       "      <th>Con heridos</th>\n",
       "      <td>1746.181818</td>\n",
       "      <td>447.620974</td>\n",
       "      <td>1061.0</td>\n",
       "      <td>1425.75</td>\n",
       "      <td>1626.5</td>\n",
       "      <td>2169.75</td>\n",
       "      <td>2495.0</td>\n",
       "    </tr>\n",
       "    <tr>\n",
       "      <th>Con muertos</th>\n",
       "      <td>5.409091</td>\n",
       "      <td>3.002524</td>\n",
       "      <td>1.0</td>\n",
       "      <td>3.25</td>\n",
       "      <td>5.0</td>\n",
       "      <td>7.75</td>\n",
       "      <td>14.0</td>\n",
       "    </tr>\n",
       "    <tr>\n",
       "      <th>Solo daños</th>\n",
       "      <td>1879.181818</td>\n",
       "      <td>637.503287</td>\n",
       "      <td>717.0</td>\n",
       "      <td>1558.50</td>\n",
       "      <td>1798.0</td>\n",
       "      <td>2216.25</td>\n",
       "      <td>3428.0</td>\n",
       "    </tr>\n",
       "    <tr>\n",
       "      <th>Atropello</th>\n",
       "      <td>281.772727</td>\n",
       "      <td>190.888133</td>\n",
       "      <td>90.0</td>\n",
       "      <td>169.25</td>\n",
       "      <td>207.0</td>\n",
       "      <td>349.00</td>\n",
       "      <td>985.0</td>\n",
       "    </tr>\n",
       "    <tr>\n",
       "      <th>Caida Ocupante</th>\n",
       "      <td>242.818182</td>\n",
       "      <td>79.943216</td>\n",
       "      <td>102.0</td>\n",
       "      <td>184.75</td>\n",
       "      <td>228.5</td>\n",
       "      <td>291.25</td>\n",
       "      <td>411.0</td>\n",
       "    </tr>\n",
       "    <tr>\n",
       "      <th>Choque</th>\n",
       "      <td>2668.545455</td>\n",
       "      <td>754.169283</td>\n",
       "      <td>1484.0</td>\n",
       "      <td>2219.75</td>\n",
       "      <td>2528.5</td>\n",
       "      <td>3115.00</td>\n",
       "      <td>4120.0</td>\n",
       "    </tr>\n",
       "    <tr>\n",
       "      <th>Incendio</th>\n",
       "      <td>0.545455</td>\n",
       "      <td>0.738549</td>\n",
       "      <td>0.0</td>\n",
       "      <td>0.00</td>\n",
       "      <td>0.0</td>\n",
       "      <td>1.00</td>\n",
       "      <td>2.0</td>\n",
       "    </tr>\n",
       "    <tr>\n",
       "      <th>Otro</th>\n",
       "      <td>325.636364</td>\n",
       "      <td>107.528311</td>\n",
       "      <td>150.0</td>\n",
       "      <td>251.25</td>\n",
       "      <td>309.5</td>\n",
       "      <td>398.50</td>\n",
       "      <td>540.0</td>\n",
       "    </tr>\n",
       "    <tr>\n",
       "      <th>Volcamiento</th>\n",
       "      <td>111.454545</td>\n",
       "      <td>34.419993</td>\n",
       "      <td>52.0</td>\n",
       "      <td>88.75</td>\n",
       "      <td>100.0</td>\n",
       "      <td>138.00</td>\n",
       "      <td>175.0</td>\n",
       "    </tr>\n",
       "    <tr>\n",
       "      <th>Semana</th>\n",
       "      <td>2881.045455</td>\n",
       "      <td>803.395916</td>\n",
       "      <td>1810.0</td>\n",
       "      <td>2216.50</td>\n",
       "      <td>2733.0</td>\n",
       "      <td>3247.75</td>\n",
       "      <td>4759.0</td>\n",
       "    </tr>\n",
       "    <tr>\n",
       "      <th>Fin de semana</th>\n",
       "      <td>749.727273</td>\n",
       "      <td>170.450435</td>\n",
       "      <td>413.0</td>\n",
       "      <td>668.00</td>\n",
       "      <td>744.0</td>\n",
       "      <td>884.75</td>\n",
       "      <td>1123.0</td>\n",
       "    </tr>\n",
       "    <tr>\n",
       "      <th>Fecha Festiva</th>\n",
       "      <td>122.454545</td>\n",
       "      <td>33.991214</td>\n",
       "      <td>71.0</td>\n",
       "      <td>100.50</td>\n",
       "      <td>119.0</td>\n",
       "      <td>145.75</td>\n",
       "      <td>185.0</td>\n",
       "    </tr>\n",
       "    <tr>\n",
       "      <th>Fecha Normal</th>\n",
       "      <td>3508.318182</td>\n",
       "      <td>922.634963</td>\n",
       "      <td>2251.0</td>\n",
       "      <td>2777.00</td>\n",
       "      <td>3322.5</td>\n",
       "      <td>3932.00</td>\n",
       "      <td>5701.0</td>\n",
       "    </tr>\n",
       "  </tbody>\n",
       "</table>\n",
       "</div>"
      ],
      "text/plain": [
       "                       mean         std     min      25%     50%      75%  \\\n",
       "Con heridos     1746.181818  447.620974  1061.0  1425.75  1626.5  2169.75   \n",
       "Con muertos        5.409091    3.002524     1.0     3.25     5.0     7.75   \n",
       "Solo daños      1879.181818  637.503287   717.0  1558.50  1798.0  2216.25   \n",
       "Atropello        281.772727  190.888133    90.0   169.25   207.0   349.00   \n",
       "Caida Ocupante   242.818182   79.943216   102.0   184.75   228.5   291.25   \n",
       "Choque          2668.545455  754.169283  1484.0  2219.75  2528.5  3115.00   \n",
       "Incendio           0.545455    0.738549     0.0     0.00     0.0     1.00   \n",
       "Otro             325.636364  107.528311   150.0   251.25   309.5   398.50   \n",
       "Volcamiento      111.454545   34.419993    52.0    88.75   100.0   138.00   \n",
       "Semana          2881.045455  803.395916  1810.0  2216.50  2733.0  3247.75   \n",
       "Fin de semana    749.727273  170.450435   413.0   668.00   744.0   884.75   \n",
       "Fecha Festiva    122.454545   33.991214    71.0   100.50   119.0   145.75   \n",
       "Fecha Normal    3508.318182  922.634963  2251.0  2777.00  3322.5  3932.00   \n",
       "\n",
       "                   max  \n",
       "Con heridos     2495.0  \n",
       "Con muertos       14.0  \n",
       "Solo daños      3428.0  \n",
       "Atropello        985.0  \n",
       "Caida Ocupante   411.0  \n",
       "Choque          4120.0  \n",
       "Incendio           2.0  \n",
       "Otro             540.0  \n",
       "Volcamiento      175.0  \n",
       "Semana          4759.0  \n",
       "Fin de semana   1123.0  \n",
       "Fecha Festiva    185.0  \n",
       "Fecha Normal    5701.0  "
      ]
     },
     "execution_count": 139,
     "metadata": {},
     "output_type": "execute_result"
    }
   ],
   "source": [
    "#Miramos las caracteriticas del segundo cluster tomando encuenta todas las variables\n",
    "observar_caracteristicas_cluster('CLUSTER_GENERAL', 1)"
   ]
  },
  {
   "cell_type": "markdown",
   "metadata": {},
   "source": [
    "### Cluster con una cantidad alta de accidentalidad. Se destaca por una alta accidentalidad los fines de semana, en su mayoria los accidentes ocurren debido a choques, tiene la mayor cantidad de muertos por accidente y la proporcion de heridos es la mas alta. Se considera como zona de alto riesgo"
   ]
  },
  {
   "cell_type": "code",
   "execution_count": null,
   "metadata": {},
   "outputs": [
    {
     "data": {
      "text/html": [
       "<div>\n",
       "<style scoped>\n",
       "    .dataframe tbody tr th:only-of-type {\n",
       "        vertical-align: middle;\n",
       "    }\n",
       "\n",
       "    .dataframe tbody tr th {\n",
       "        vertical-align: top;\n",
       "    }\n",
       "\n",
       "    .dataframe thead th {\n",
       "        text-align: right;\n",
       "    }\n",
       "</style>\n",
       "<table border=\"1\" class=\"dataframe\">\n",
       "  <thead>\n",
       "    <tr style=\"text-align: right;\">\n",
       "      <th></th>\n",
       "      <th>mean</th>\n",
       "      <th>std</th>\n",
       "      <th>min</th>\n",
       "      <th>25%</th>\n",
       "      <th>50%</th>\n",
       "      <th>75%</th>\n",
       "      <th>max</th>\n",
       "    </tr>\n",
       "  </thead>\n",
       "  <tbody>\n",
       "    <tr>\n",
       "      <th>Con heridos</th>\n",
       "      <td>698.265957</td>\n",
       "      <td>185.219206</td>\n",
       "      <td>388.0</td>\n",
       "      <td>556.00</td>\n",
       "      <td>691.0</td>\n",
       "      <td>800.50</td>\n",
       "      <td>1204.0</td>\n",
       "    </tr>\n",
       "    <tr>\n",
       "      <th>Con muertos</th>\n",
       "      <td>1.606383</td>\n",
       "      <td>1.553477</td>\n",
       "      <td>0.0</td>\n",
       "      <td>0.25</td>\n",
       "      <td>1.0</td>\n",
       "      <td>2.00</td>\n",
       "      <td>8.0</td>\n",
       "    </tr>\n",
       "    <tr>\n",
       "      <th>Solo daños</th>\n",
       "      <td>513.765957</td>\n",
       "      <td>342.119058</td>\n",
       "      <td>123.0</td>\n",
       "      <td>287.75</td>\n",
       "      <td>446.0</td>\n",
       "      <td>647.75</td>\n",
       "      <td>1696.0</td>\n",
       "    </tr>\n",
       "    <tr>\n",
       "      <th>Atropello</th>\n",
       "      <td>111.053191</td>\n",
       "      <td>53.587105</td>\n",
       "      <td>26.0</td>\n",
       "      <td>70.25</td>\n",
       "      <td>100.5</td>\n",
       "      <td>144.50</td>\n",
       "      <td>291.0</td>\n",
       "    </tr>\n",
       "    <tr>\n",
       "      <th>Caida Ocupante</th>\n",
       "      <td>113.553191</td>\n",
       "      <td>41.640969</td>\n",
       "      <td>50.0</td>\n",
       "      <td>81.00</td>\n",
       "      <td>107.5</td>\n",
       "      <td>140.25</td>\n",
       "      <td>230.0</td>\n",
       "    </tr>\n",
       "    <tr>\n",
       "      <th>Choque</th>\n",
       "      <td>804.223404</td>\n",
       "      <td>441.144727</td>\n",
       "      <td>221.0</td>\n",
       "      <td>486.50</td>\n",
       "      <td>726.0</td>\n",
       "      <td>992.50</td>\n",
       "      <td>2264.0</td>\n",
       "    </tr>\n",
       "    <tr>\n",
       "      <th>Incendio</th>\n",
       "      <td>0.138298</td>\n",
       "      <td>0.347063</td>\n",
       "      <td>0.0</td>\n",
       "      <td>0.00</td>\n",
       "      <td>0.0</td>\n",
       "      <td>0.00</td>\n",
       "      <td>1.0</td>\n",
       "    </tr>\n",
       "    <tr>\n",
       "      <th>Otro</th>\n",
       "      <td>139.063830</td>\n",
       "      <td>38.861432</td>\n",
       "      <td>71.0</td>\n",
       "      <td>106.25</td>\n",
       "      <td>133.5</td>\n",
       "      <td>166.50</td>\n",
       "      <td>237.0</td>\n",
       "    </tr>\n",
       "    <tr>\n",
       "      <th>Volcamiento</th>\n",
       "      <td>45.606383</td>\n",
       "      <td>14.425350</td>\n",
       "      <td>17.0</td>\n",
       "      <td>36.00</td>\n",
       "      <td>43.5</td>\n",
       "      <td>52.75</td>\n",
       "      <td>86.0</td>\n",
       "    </tr>\n",
       "    <tr>\n",
       "      <th>Semana</th>\n",
       "      <td>918.063830</td>\n",
       "      <td>398.589740</td>\n",
       "      <td>391.0</td>\n",
       "      <td>643.50</td>\n",
       "      <td>832.0</td>\n",
       "      <td>1060.75</td>\n",
       "      <td>2260.0</td>\n",
       "    </tr>\n",
       "    <tr>\n",
       "      <th>Fin de semana</th>\n",
       "      <td>295.574468</td>\n",
       "      <td>84.648608</td>\n",
       "      <td>173.0</td>\n",
       "      <td>223.75</td>\n",
       "      <td>294.0</td>\n",
       "      <td>350.25</td>\n",
       "      <td>526.0</td>\n",
       "    </tr>\n",
       "    <tr>\n",
       "      <th>Fecha Festiva</th>\n",
       "      <td>54.000000</td>\n",
       "      <td>16.697176</td>\n",
       "      <td>27.0</td>\n",
       "      <td>42.00</td>\n",
       "      <td>52.0</td>\n",
       "      <td>63.75</td>\n",
       "      <td>108.0</td>\n",
       "    </tr>\n",
       "    <tr>\n",
       "      <th>Fecha Normal</th>\n",
       "      <td>1159.638298</td>\n",
       "      <td>461.337370</td>\n",
       "      <td>529.0</td>\n",
       "      <td>833.50</td>\n",
       "      <td>1067.5</td>\n",
       "      <td>1294.00</td>\n",
       "      <td>2685.0</td>\n",
       "    </tr>\n",
       "  </tbody>\n",
       "</table>\n",
       "</div>"
      ],
      "text/plain": [
       "                       mean         std    min     25%     50%      75%  \\\n",
       "Con heridos      698.265957  185.219206  388.0  556.00   691.0   800.50   \n",
       "Con muertos        1.606383    1.553477    0.0    0.25     1.0     2.00   \n",
       "Solo daños       513.765957  342.119058  123.0  287.75   446.0   647.75   \n",
       "Atropello        111.053191   53.587105   26.0   70.25   100.5   144.50   \n",
       "Caida Ocupante   113.553191   41.640969   50.0   81.00   107.5   140.25   \n",
       "Choque           804.223404  441.144727  221.0  486.50   726.0   992.50   \n",
       "Incendio           0.138298    0.347063    0.0    0.00     0.0     0.00   \n",
       "Otro             139.063830   38.861432   71.0  106.25   133.5   166.50   \n",
       "Volcamiento       45.606383   14.425350   17.0   36.00    43.5    52.75   \n",
       "Semana           918.063830  398.589740  391.0  643.50   832.0  1060.75   \n",
       "Fin de semana    295.574468   84.648608  173.0  223.75   294.0   350.25   \n",
       "Fecha Festiva     54.000000   16.697176   27.0   42.00    52.0    63.75   \n",
       "Fecha Normal    1159.638298  461.337370  529.0  833.50  1067.5  1294.00   \n",
       "\n",
       "                   max  \n",
       "Con heridos     1204.0  \n",
       "Con muertos        8.0  \n",
       "Solo daños      1696.0  \n",
       "Atropello        291.0  \n",
       "Caida Ocupante   230.0  \n",
       "Choque          2264.0  \n",
       "Incendio           1.0  \n",
       "Otro             237.0  \n",
       "Volcamiento       86.0  \n",
       "Semana          2260.0  \n",
       "Fin de semana    526.0  \n",
       "Fecha Festiva    108.0  \n",
       "Fecha Normal    2685.0  "
      ]
     },
     "execution_count": 140,
     "metadata": {},
     "output_type": "execute_result"
    }
   ],
   "source": [
    "#Miramos las caracteriticas del tercer cluster tomando encuenta todas las variables\n",
    "observar_caracteristicas_cluster('CLUSTER_GENERAL', 2)"
   ]
  },
  {
   "cell_type": "markdown",
   "metadata": {},
   "source": [
    "### Cluster con una cantidad media de accidentalidad. Se destaca por tener una accidentalidad media tanto en semana como en fin de semana. En su mayoria los accidentes ocurren debido a choques pero tiene una cantidad media de muertos por accidente. La proporcion de accidentes con heridos y solo años es equitativa. Se considera como zona de riesgo medio"
   ]
  },
  {
   "cell_type": "markdown",
   "metadata": {},
   "source": [
    "##  4 Modelo"
   ]
  },
  {
   "cell_type": "markdown",
   "metadata": {},
   "source": [
    "El objetivo del modelado es la creación de un modelo predictivo que tenga la capacidad de generar predicciones sobre la cantidad de accidentes de un tipo, en nuestro caso optamos por hacerlo sobre el tipo de accideente 'CHOQUE' ya que este es el tipo de accidente más común y con mayor cantidad de registros dentro de la base de datos.\n",
    "\n",
    "Primero veamos el df original de donde vendran los datos:"
   ]
  },
  {
   "cell_type": "code",
   "execution_count": 125,
   "metadata": {},
   "outputs": [
    {
     "data": {
      "text/html": [
       "<div>\n",
       "<style scoped>\n",
       "    .dataframe tbody tr th:only-of-type {\n",
       "        vertical-align: middle;\n",
       "    }\n",
       "\n",
       "    .dataframe tbody tr th {\n",
       "        vertical-align: top;\n",
       "    }\n",
       "\n",
       "    .dataframe thead th {\n",
       "        text-align: right;\n",
       "    }\n",
       "</style>\n",
       "<table border=\"1\" class=\"dataframe\">\n",
       "  <thead>\n",
       "    <tr style=\"text-align: right;\">\n",
       "      <th></th>\n",
       "      <th>AÑO</th>\n",
       "      <th>CLASE_ACCIDENTE</th>\n",
       "      <th>DIRECCION</th>\n",
       "      <th>DISEÑO</th>\n",
       "      <th>GRAVEDAD_ACCIDENTE</th>\n",
       "      <th>MES</th>\n",
       "      <th>BARRIO</th>\n",
       "      <th>COMUNA</th>\n",
       "      <th>FECHA</th>\n",
       "      <th>SEMANA</th>\n",
       "      <th>DIA_SEMANA</th>\n",
       "      <th>TIPO_DIA</th>\n",
       "      <th>DIA</th>\n",
       "      <th>HORA</th>\n",
       "      <th>LATITUD</th>\n",
       "      <th>LONGITUD</th>\n",
       "      <th>FECHA_FESTIVA</th>\n",
       "    </tr>\n",
       "  </thead>\n",
       "  <tbody>\n",
       "    <tr>\n",
       "      <th>0</th>\n",
       "      <td>2015</td>\n",
       "      <td>Caida Ocupante</td>\n",
       "      <td>CR 46 CL 43</td>\n",
       "      <td>Tramo de via</td>\n",
       "      <td>Con heridos</td>\n",
       "      <td>10</td>\n",
       "      <td>barrio colon</td>\n",
       "      <td>La Candelaria</td>\n",
       "      <td>21/10/2015</td>\n",
       "      <td>42</td>\n",
       "      <td>Miercoles</td>\n",
       "      <td>Semana</td>\n",
       "      <td>21</td>\n",
       "      <td>05:58:00</td>\n",
       "      <td>6.243123</td>\n",
       "      <td>-75.568801</td>\n",
       "      <td>Fecha Normal</td>\n",
       "    </tr>\n",
       "    <tr>\n",
       "      <th>1</th>\n",
       "      <td>2015</td>\n",
       "      <td>Choque</td>\n",
       "      <td>CR 43 A CL 29</td>\n",
       "      <td>Tramo de via</td>\n",
       "      <td>Solo daños</td>\n",
       "      <td>11</td>\n",
       "      <td>san diego</td>\n",
       "      <td>La Candelaria</td>\n",
       "      <td>05/11/2015</td>\n",
       "      <td>44</td>\n",
       "      <td>Jueves</td>\n",
       "      <td>Semana</td>\n",
       "      <td>5</td>\n",
       "      <td>03:00:00</td>\n",
       "      <td>6.228700</td>\n",
       "      <td>-75.569388</td>\n",
       "      <td>Fecha Normal</td>\n",
       "    </tr>\n",
       "    <tr>\n",
       "      <th>2</th>\n",
       "      <td>2015</td>\n",
       "      <td>Otro</td>\n",
       "      <td>CR 46 CL 37</td>\n",
       "      <td>Tramo de via</td>\n",
       "      <td>Con heridos</td>\n",
       "      <td>10</td>\n",
       "      <td>la francia</td>\n",
       "      <td>Santa Cruz</td>\n",
       "      <td>21/10/2015</td>\n",
       "      <td>42</td>\n",
       "      <td>Miercoles</td>\n",
       "      <td>Semana</td>\n",
       "      <td>21</td>\n",
       "      <td>07:40:00</td>\n",
       "      <td>6.298695</td>\n",
       "      <td>-75.550391</td>\n",
       "      <td>Fecha Normal</td>\n",
       "    </tr>\n",
       "    <tr>\n",
       "      <th>3</th>\n",
       "      <td>2015</td>\n",
       "      <td>Atropello</td>\n",
       "      <td>CR 34 CL 112</td>\n",
       "      <td>Tramo de via</td>\n",
       "      <td>Con heridos</td>\n",
       "      <td>10</td>\n",
       "      <td>santo domingo savio no.1</td>\n",
       "      <td>Popular</td>\n",
       "      <td>21/10/2015</td>\n",
       "      <td>42</td>\n",
       "      <td>Miercoles</td>\n",
       "      <td>Semana</td>\n",
       "      <td>21</td>\n",
       "      <td>12:00:00</td>\n",
       "      <td>6.300194</td>\n",
       "      <td>-75.544220</td>\n",
       "      <td>Fecha Normal</td>\n",
       "    </tr>\n",
       "    <tr>\n",
       "      <th>4</th>\n",
       "      <td>2015</td>\n",
       "      <td>Choque</td>\n",
       "      <td>CR 50 CL 14</td>\n",
       "      <td>Tramo de via</td>\n",
       "      <td>Solo daños</td>\n",
       "      <td>11</td>\n",
       "      <td>santa fe</td>\n",
       "      <td>Guayabal</td>\n",
       "      <td>03/11/2015</td>\n",
       "      <td>44</td>\n",
       "      <td>Martes</td>\n",
       "      <td>Semana</td>\n",
       "      <td>3</td>\n",
       "      <td>06:16:00</td>\n",
       "      <td>6.216992</td>\n",
       "      <td>-75.578181</td>\n",
       "      <td>Fecha Normal</td>\n",
       "    </tr>\n",
       "  </tbody>\n",
       "</table>\n",
       "</div>"
      ],
      "text/plain": [
       "    AÑO CLASE_ACCIDENTE      DIRECCION        DISEÑO GRAVEDAD_ACCIDENTE  MES  \\\n",
       "0  2015  Caida Ocupante    CR 46 CL 43  Tramo de via        Con heridos   10   \n",
       "1  2015          Choque  CR 43 A CL 29  Tramo de via         Solo daños   11   \n",
       "2  2015            Otro    CR 46 CL 37  Tramo de via        Con heridos   10   \n",
       "3  2015       Atropello   CR 34 CL 112  Tramo de via        Con heridos   10   \n",
       "4  2015          Choque    CR 50 CL 14  Tramo de via         Solo daños   11   \n",
       "\n",
       "                     BARRIO         COMUNA       FECHA  SEMANA DIA_SEMANA  \\\n",
       "0              barrio colon  La Candelaria  21/10/2015      42  Miercoles   \n",
       "1                 san diego  La Candelaria  05/11/2015      44     Jueves   \n",
       "2                la francia     Santa Cruz  21/10/2015      42  Miercoles   \n",
       "3  santo domingo savio no.1        Popular  21/10/2015      42  Miercoles   \n",
       "4                  santa fe       Guayabal  03/11/2015      44     Martes   \n",
       "\n",
       "  TIPO_DIA  DIA      HORA   LATITUD   LONGITUD FECHA_FESTIVA  \n",
       "0   Semana   21  05:58:00  6.243123 -75.568801  Fecha Normal  \n",
       "1   Semana    5  03:00:00  6.228700 -75.569388  Fecha Normal  \n",
       "2   Semana   21  07:40:00  6.298695 -75.550391  Fecha Normal  \n",
       "3   Semana   21  12:00:00  6.300194 -75.544220  Fecha Normal  \n",
       "4   Semana    3  06:16:00  6.216992 -75.578181  Fecha Normal  "
      ]
     },
     "execution_count": 125,
     "metadata": {},
     "output_type": "execute_result"
    }
   ],
   "source": [
    "df.head()"
   ]
  },
  {
   "cell_type": "markdown",
   "metadata": {},
   "source": [
    "Ahora procedemos a codificar las variables categoricas a usar, teniendo en cuenta que queremos que el aplicativo predizca la cantidad de accidente dado una fecha de inicio y una fecha final usar variables categoricas que no puedan ser inferidas de la fecha no es valida, por eso en nuestro caso solo usaremos las variables categoricas de fecha festiva,dia semana y tipo dia, ademas de las variables derivadas de fecha.\n",
    "\n",
    "Luego procedemos a eliminar los datos del 2020 de los datos que vamos a usar, esto debido a que no son datos aptos para entrenamiento ya que son muy atipicos por contexto de la pandemia, separamos los datos en validation (registros del 2019) y training(2014-2018)"
   ]
  },
  {
   "cell_type": "code",
   "execution_count": 142,
   "metadata": {},
   "outputs": [],
   "source": [
    "from sklearn.preprocessing import OrdinalEncoder\n",
    "\n",
    "encoder = OrdinalEncoder()\n",
    "dfc=df.copy()\n",
    "columnas_categoricas =['FECHA_FESTIVA','DIA_SEMANA','TIPO_DIA']\n",
    "dfc2=df.copy()\n",
    "dfc2[columnas_categoricas] = encoder.fit_transform(dfc2[columnas_categoricas])\n",
    "dfc2=dfc2[dfc2['AÑO']!=2020]\n",
    "final=dfc2.copy()\n",
    "train_data1 = dfc2[dfc2['AÑO'] < 2019]\n",
    "valid_data1 = dfc2[dfc2['AÑO'] ==2019]"
   ]
  },
  {
   "cell_type": "markdown",
   "metadata": {},
   "source": [
    "Vemos como se identifican las categorias con el encoder"
   ]
  },
  {
   "cell_type": "code",
   "execution_count": 127,
   "metadata": {},
   "outputs": [
    {
     "data": {
      "text/plain": [
       "[array(['Fecha Festiva', 'Fecha Normal'], dtype=object),\n",
       " array(['Domingo', 'Jueves', 'Lunes', 'Martes', 'Miercoles', 'Sabado',\n",
       "        'Viernes'], dtype=object),\n",
       " array(['Fin de semana', 'Semana'], dtype=object)]"
      ]
     },
     "execution_count": 127,
     "metadata": {},
     "output_type": "execute_result"
    }
   ],
   "source": [
    "encoder.categories_"
   ]
  },
  {
   "cell_type": "markdown",
   "metadata": {},
   "source": [
    "Y generamos una base de datos solo con los datos a usar"
   ]
  },
  {
   "cell_type": "code",
   "execution_count": 143,
   "metadata": {},
   "outputs": [],
   "source": [
    "columnas_seleccionadas = ['AÑO','DIA','SEMANA','MES', 'CLASE_ACCIDENTE','FECHA_FESTIVA','DIA_SEMANA','TIPO_DIA']\n",
    "df_dia2 = train_data1[columnas_seleccionadas]\n",
    "df_valid_dia2=valid_data1[columnas_seleccionadas]\n",
    "final=final[columnas_seleccionadas]"
   ]
  },
  {
   "cell_type": "markdown",
   "metadata": {},
   "source": [
    "Ahora procedemos a seleccionar solo aquellos registros que sean de Choques y agrupamos segun las variables a entrenar para generar una nueva columna llamado choque que tenga la cantidad de choques en relacion con los datos"
   ]
  },
  {
   "cell_type": "code",
   "execution_count": 144,
   "metadata": {},
   "outputs": [],
   "source": [
    "df_dia2=df_dia2[df_dia2['CLASE_ACCIDENTE'] == 'Choque']\n",
    "df_dia2=df_dia2.groupby(['DIA','MES','SEMANA','DIA_SEMANA','TIPO_DIA']).size().reset_index(name='CHOQUES')\n",
    "prueba1=df_dia2\n",
    "df_valid_dia2=df_valid_dia2[df_valid_dia2['CLASE_ACCIDENTE'] == 'Choque']\n",
    "df_valid_dia2=df_valid_dia2.groupby(['DIA','MES','SEMANA','DIA_SEMANA','TIPO_DIA']).size().reset_index(name='CHOQUES')\n",
    "prueba1v=df_valid_dia2\n"
   ]
  },
  {
   "cell_type": "markdown",
   "metadata": {},
   "source": [
    "Se veria representado asi"
   ]
  },
  {
   "cell_type": "code",
   "execution_count": 148,
   "metadata": {},
   "outputs": [
    {
     "name": "stdout",
     "output_type": "stream",
     "text": [
      "      DIA  MES  SEMANA  DIA_SEMANA  TIPO_DIA  CHOQUES\n",
      "0       1    1       0         1.0       1.0       21\n",
      "1       1    1       0         2.0       1.0       36\n",
      "2       1    1       0         6.0       1.0       32\n",
      "3       1    1       1         0.0       0.0       36\n",
      "4       1    2       4         1.0       1.0       73\n",
      "...   ...  ...     ...         ...       ...      ...\n",
      "1637   31   12      52         1.0       1.0       46\n",
      "1638   31   12      52         2.0       1.0       40\n",
      "1639   31   12      52         4.0       1.0       49\n",
      "1640   31   12      52         5.0       0.0       33\n",
      "1641   31   12      53         0.0       0.0       35\n",
      "\n",
      "[1642 rows x 6 columns]\n"
     ]
    }
   ],
   "source": [
    "print(prueba1)"
   ]
  },
  {
   "cell_type": "markdown",
   "metadata": {},
   "source": [
    "Ahora para nuestro modelo optamos a usar una regresión linear de la libreria de sklearn, entrenamos el modelo con los datos de training y generamos los valores de MSE pa training y valoración para poder evaluar overfitting"
   ]
  },
  {
   "cell_type": "code",
   "execution_count": 145,
   "metadata": {},
   "outputs": [],
   "source": [
    "from sklearn.linear_model import LinearRegression\n",
    "from sklearn.metrics import mean_absolute_error, mean_squared_error\n",
    "\n",
    "def entrenar_modelo1(tr_data,vd_data):\n",
    "    X_train=tr_data.drop('CHOQUES',axis=1)\n",
    "    y_train=tr_data['CHOQUES']\n",
    "    X_valid=vd_data.drop('CHOQUES',axis=1)\n",
    "    y_valid=vd_data['CHOQUES']\n",
    "\n",
    "    lr = LinearRegression()\n",
    "    lr.fit(X_train,y_train)\n",
    "    y_pred = lr.predict(X_train)\n",
    "    y_pred2 = lr.predict(X_valid)\n",
    "    mse1=mean_squared_error(y_train,y_pred)\n",
    "    mse2=mean_squared_error(y_valid,y_pred2)\n",
    "\n",
    "    mae1=mean_absolute_error(y_train,y_pred)\n",
    "    mae2=mean_absolute_error(y_valid,y_pred2)\n",
    "    plt.figure(figsize=(8, 6))\n",
    "    plt.scatter(y_pred2, y_valid, alpha=0.7)\n",
    "    plt.xlabel(\"Predicciones\")\n",
    "    plt.ylabel(\"Reales\")\n",
    "    plt.title(\"Predicciones vs. Reales\")\n",
    "\n",
    "    plt.plot([min(y_valid), max(y_valid)], [min(y_valid), max(y_valid)], color=\"red\", linewidth=2)\n",
    "\n",
    "\n",
    "    dif=abs(mse1-mse2)/((mse1+mse2)/2)*100\n",
    "\n",
    "    return lr,mse1,mae1,mse2,mae2,dif\n",
    "\n"
   ]
  },
  {
   "cell_type": "markdown",
   "metadata": {},
   "source": [
    "De esta primera prueba logramos llegar debajo del umbral deseado en las diferencias de 15%, aún asi tenemos un MSE considerablemente alto"
   ]
  },
  {
   "cell_type": "code",
   "execution_count": 146,
   "metadata": {},
   "outputs": [
    {
     "name": "stdout",
     "output_type": "stream",
     "text": [
      "MSE Training = 284.4940191925208\n",
      "MAE Training= 12.76180485589424\n",
      "\n",
      "MSE Validation = 318.4890639933577\n",
      "MAE Validation= 13.635672170804936\n",
      "\n",
      "La diferencia entre los datos de entrenamiento y los de validacion son de = 11.275621405901845 % \n"
     ]
    },
    {
     "data": {
      "image/png": "[encoded data removed]",
      "text/plain": [
       "<Figure size 576x432 with 1 Axes>"
      ]
     },
     "metadata": {},
     "output_type": "display_data"
    }
   ],
   "source": [
    "lr,mse1,mae1,mse2,mae2,dif=entrenar_modelo1(prueba1,prueba1v)\n",
    "print(f\"MSE Training = {mse1}\\nMAE Training= {mae1}\\n\")\n",
    "print(f\"MSE Validation = {mse2}\\nMAE Validation= {mae2}\\n\")\n",
    "print(f\"La diferencia entre los datos de entrenamiento y los de validacion son de = {dif} % \")"
   ]
  },
  {
   "cell_type": "markdown",
   "metadata": {},
   "source": [
    "Asi que procedemos a hacer otra prueba pero esta vez sin la variable TIPO DIA"
   ]
  },
  {
   "cell_type": "code",
   "execution_count": 132,
   "metadata": {},
   "outputs": [],
   "source": [
    "prueba2 = train_data1[columnas_seleccionadas]\n",
    "prueba2v=valid_data1[columnas_seleccionadas]\n",
    "prueba2=prueba2[prueba2['CLASE_ACCIDENTE'] == 'Choque']\n",
    "prueba2=prueba2.groupby(['DIA','MES','SEMANA','DIA_SEMANA']).size().reset_index(name='CHOQUES')\n",
    "prueba2v=prueba2v[prueba2v['CLASE_ACCIDENTE'] == 'Choque']\n",
    "prueba2v=prueba2v.groupby(['DIA','MES','SEMANA','DIA_SEMANA']).size().reset_index(name='CHOQUES')\n"
   ]
  },
  {
   "cell_type": "markdown",
   "metadata": {},
   "source": [
    "Se logra reducir el overfitting a costo de un mayor MSE, algo que no es desado, por lo que hacemos otra prueba"
   ]
  },
  {
   "cell_type": "code",
   "execution_count": 133,
   "metadata": {},
   "outputs": [
    {
     "name": "stdout",
     "output_type": "stream",
     "text": [
      "MSE Training = 357.1324114037249\n",
      "MAE Training= 15.20864932987496\n",
      "\n",
      "MSE Validation = 389.72708707404837\n",
      "MAE Validation= 15.79695541330129\n",
      "\n",
      "La diferencia entre los datos de entrenamiento y los de validacion son de = 8.728462511826374 % \n"
     ]
    },
    {
     "data": {
      "image/png": "[encoded data removed]",
      "text/plain": [
       "<Figure size 576x432 with 1 Axes>"
      ]
     },
     "metadata": {},
     "output_type": "display_data"
    }
   ],
   "source": [
    "lr,mse1,mae1,mse2,mae2,dif=entrenar_modelo1(prueba2,prueba2v)\n",
    "print(f\"MSE Training = {mse1}\\nMAE Training= {mae1}\\n\")\n",
    "print(f\"MSE Validation = {mse2}\\nMAE Validation= {mae2}\\n\")\n",
    "print(f\"La diferencia entre los datos de entrenamiento y los de validacion son de = {dif} % \")"
   ]
  },
  {
   "cell_type": "markdown",
   "metadata": {},
   "source": [
    "Esta prueba es sin manejar la variable DIA SEMANA"
   ]
  },
  {
   "cell_type": "code",
   "execution_count": 134,
   "metadata": {},
   "outputs": [],
   "source": [
    "prueba3 = train_data1[columnas_seleccionadas]\n",
    "prueba3v=valid_data1[columnas_seleccionadas]\n",
    "prueba3=prueba3[prueba3['CLASE_ACCIDENTE'] == 'Choque']\n",
    "prueba3=prueba3.groupby(['DIA','MES','SEMANA','TIPO_DIA']).size().reset_index(name='CHOQUES')\n",
    "prueba3v=prueba3v[prueba3v['CLASE_ACCIDENTE'] == 'Choque']\n",
    "prueba3v=prueba3v.groupby(['DIA','MES','SEMANA','TIPO_DIA']).size().reset_index(name='CHOQUES')"
   ]
  },
  {
   "cell_type": "markdown",
   "metadata": {},
   "source": [
    "Esta termino siendo la peor de todas las pruebas y es descarta de inmediato"
   ]
  },
  {
   "cell_type": "code",
   "execution_count": 135,
   "metadata": {},
   "outputs": [
    {
     "name": "stdout",
     "output_type": "stream",
     "text": [
      "MSE Training = 4163.892880182988\n",
      "MAE Training= 49.46260236641523\n",
      "\n",
      "MSE Validation = 5789.805791189547\n",
      "MAE Validation= 67.24202830153214\n",
      "\n",
      "La diferencia entre los datos de entrenamiento y los de validacion son de = 32.669522449635465 % \n"
     ]
    },
    {
     "data": {
      "image/png": "[encoded data removed]",
      "text/plain": [
       "<Figure size 576x432 with 1 Axes>"
      ]
     },
     "metadata": {},
     "output_type": "display_data"
    }
   ],
   "source": [
    "lr,mse1,mae1,mse2,mae2,dif=entrenar_modelo1(prueba3,prueba3v)\n",
    "print(f\"MSE Training = {mse1}\\nMAE Training= {mae1}\\n\")\n",
    "print(f\"MSE Validation = {mse2}\\nMAE Validation= {mae2}\\n\")\n",
    "print(f\"La diferencia entre los datos de entrenamiento y los de validacion son de = {dif} % \")"
   ]
  },
  {
   "cell_type": "markdown",
   "metadata": {},
   "source": [
    "Ya teniendo una idea de cuales son las variables adecuadas para entrenar generamos una nueva base de datos final que contiene todos los registro (2014-2019) y procedemos a hacer el mismo proceso que las anteriores pruebas"
   ]
  },
  {
   "cell_type": "code",
   "execution_count": 136,
   "metadata": {},
   "outputs": [],
   "source": [
    "final=final[final['CLASE_ACCIDENTE'] == 'Choque']\n",
    "final=final.groupby(['DIA','MES','SEMANA','DIA_SEMANA','TIPO_DIA']).size().reset_index(name='CHOQUES')"
   ]
  },
  {
   "cell_type": "markdown",
   "metadata": {},
   "source": [
    "Luego creamos el modelo final a usar en el aplicativo"
   ]
  },
  {
   "cell_type": "code",
   "execution_count": 137,
   "metadata": {},
   "outputs": [
    {
     "data": {
      "text/plain": [
       "LinearRegression()"
      ]
     },
     "execution_count": 137,
     "metadata": {},
     "output_type": "execute_result"
    }
   ],
   "source": [
    "X_final=final.drop('CHOQUES',axis=1)\n",
    "y_final=final['CHOQUES']\n",
    "lr_final = LinearRegression()\n",
    "lr_final.fit(X_final,y_final)"
   ]
  },
  {
   "cell_type": "markdown",
   "metadata": {},
   "source": [
    "Y lo exportamos como un pkl para ser usado en shinyapp"
   ]
  },
  {
   "cell_type": "code",
   "execution_count": 138,
   "metadata": {},
   "outputs": [
    {
     "data": {
      "text/plain": [
       "['lr_final.pkl']"
      ]
     },
     "execution_count": 138,
     "metadata": {},
     "output_type": "execute_result"
    }
   ],
   "source": [
    "import joblib\n",
    "\n",
    "\n",
    "joblib.dump(lr_final, 'lr_final.pkl')"
   ]
  }
 ],
 "metadata": {
  "kernelspec": {
   "display_name": "Python 3",
   "language": "python",
   "name": "python3"
  },
  "language_info": {
   "codemirror_mode": {
    "name": "ipython",
    "version": 3
   },
   "file_extension": ".py",
   "mimetype": "text/x-python",
   "name": "python",
   "nbconvert_exporter": "python",
   "pygments_lexer": "ipython3",
   "version": "3.9.12"
  },
  "orig_nbformat": 4
 },
 "nbformat": 4,
 "nbformat_minor": 2
}
