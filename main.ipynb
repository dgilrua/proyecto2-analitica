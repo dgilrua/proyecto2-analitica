{
 "cells": [
  {
   "cell_type": "code",
   "execution_count": 2,
   "metadata": {},
   "outputs": [],
   "source": [
    "import pandas as pd\n",
    "import numpy as np \n",
    "from datetime import datetime, date\n",
    "import plotly as pt\n",
    "import ast\n",
    "import holidays\n",
    "from sklearn.preprocessing import OneHotEncoder, OrdinalEncoder, MinMaxScaler, StandardScaler, Normalizer\n",
    "from sklearn.linear_model import LogisticRegression\n",
    "from sklearn.ensemble import RandomForestClassifier\n",
    "from sklearn import metrics, model_selection, linear_model\n",
    "from sklearn.feature_selection import f_classif\n",
    "from sklearn.model_selection import train_test_split\n",
    "from scipy.stats import chi2_contingency\n",
    "from sklearn.metrics import roc_curve, auc,accuracy_score\n",
    "import matplotlib.pyplot as plt\n",
    "import seaborn as sns\n",
    "import sklearn\n",
    "import joblib"
   ]
  },
  {
   "cell_type": "markdown",
   "metadata": {},
   "source": [
    "<center> \n",
    "\n",
    "# 1.0 Preprocesamiento de los datos </center>"
   ]
  },
  {
   "cell_type": "markdown",
   "metadata": {},
   "source": [
    "<center>\n",
    "\n",
    "## 1.1 Vistazo inicial del dataset\n",
    "</center>"
   ]
  },
  {
   "cell_type": "code",
   "execution_count": 3,
   "metadata": {},
   "outputs": [
    {
     "name": "stderr",
     "output_type": "stream",
     "text": [
      "C:\\Users\\pixel\\AppData\\Local\\Temp\\ipykernel_1456\\2719112179.py:2: DtypeWarning: Columns (0) have mixed types. Specify dtype option on import or set low_memory=False.\n",
      "  df = pd.read_csv('incidentes_viales.csv', sep=';', encoding='utf-8')\n"
     ]
    },
    {
     "data": {
      "text/html": [
       "<div>\n",
       "<style scoped>\n",
       "    .dataframe tbody tr th:only-of-type {\n",
       "        vertical-align: middle;\n",
       "    }\n",
       "\n",
       "    .dataframe tbody tr th {\n",
       "        vertical-align: top;\n",
       "    }\n",
       "\n",
       "    .dataframe thead th {\n",
       "        text-align: right;\n",
       "    }\n",
       "</style>\n",
       "<table border=\"1\" class=\"dataframe\">\n",
       "  <thead>\n",
       "    <tr style=\"text-align: right;\">\n",
       "      <th></th>\n",
       "      <th>AÑO</th>\n",
       "      <th>CBML</th>\n",
       "      <th>CLASE_ACCIDENTE</th>\n",
       "      <th>DIRECCION</th>\n",
       "      <th>DIRECCION ENCASILLADA</th>\n",
       "      <th>DISEÑO</th>\n",
       "      <th>EXPEDIENTE</th>\n",
       "      <th>FECHA_ACCIDENTE</th>\n",
       "      <th>FECHA_ACCIDENTES</th>\n",
       "      <th>GRAVEDAD_ACCIDENTE</th>\n",
       "      <th>MES</th>\n",
       "      <th>NRO_RADICADO</th>\n",
       "      <th>NUMCOMUNA</th>\n",
       "      <th>BARRIO</th>\n",
       "      <th>COMUNA</th>\n",
       "      <th>LOCATION</th>\n",
       "      <th>X</th>\n",
       "      <th>Y</th>\n",
       "    </tr>\n",
       "  </thead>\n",
       "  <tbody>\n",
       "    <tr>\n",
       "      <th>0</th>\n",
       "      <td>2015</td>\n",
       "      <td>1013</td>\n",
       "      <td>Caida Ocupante</td>\n",
       "      <td>CR 46 CL 43</td>\n",
       "      <td>CR  046   043  000 00000</td>\n",
       "      <td>Tramo de via</td>\n",
       "      <td>A000259731</td>\n",
       "      <td>21/10/2015 05:58:00</td>\n",
       "      <td>2015-10-21T10:58:00.000Z</td>\n",
       "      <td>Con heridos</td>\n",
       "      <td>10</td>\n",
       "      <td>1508668</td>\n",
       "      <td>10</td>\n",
       "      <td>Barrio Colón</td>\n",
       "      <td>La Candelaria</td>\n",
       "      <td>[-75.5688011014, 6.24312304123]</td>\n",
       "      <td>834949.69</td>\n",
       "      <td>1182357.34</td>\n",
       "    </tr>\n",
       "    <tr>\n",
       "      <th>1</th>\n",
       "      <td>2015</td>\n",
       "      <td>1020</td>\n",
       "      <td>Choque</td>\n",
       "      <td>CR 43 A CL 29</td>\n",
       "      <td>CR  043 A   029  000 00000</td>\n",
       "      <td>Tramo de via</td>\n",
       "      <td>A000261725</td>\n",
       "      <td>05/11/2015 03:00:00</td>\n",
       "      <td>2015-11-05T08:00:00.000Z</td>\n",
       "      <td>Solo daños</td>\n",
       "      <td>11</td>\n",
       "      <td>1510621</td>\n",
       "      <td>10</td>\n",
       "      <td>San Diego</td>\n",
       "      <td>La Candelaria</td>\n",
       "      <td>[-75.5693883283, 6.22870030622]</td>\n",
       "      <td>834880.17</td>\n",
       "      <td>1180762.02</td>\n",
       "    </tr>\n",
       "    <tr>\n",
       "      <th>2</th>\n",
       "      <td>2015</td>\n",
       "      <td>0205</td>\n",
       "      <td>Otro</td>\n",
       "      <td>CR 46 CL 37</td>\n",
       "      <td>CR  046   037  000 00000</td>\n",
       "      <td>Tramo de via</td>\n",
       "      <td>A000259739</td>\n",
       "      <td>21/10/2015 07:40:00</td>\n",
       "      <td>2015-10-21T12:40:00.000Z</td>\n",
       "      <td>Con heridos</td>\n",
       "      <td>10</td>\n",
       "      <td>1508691</td>\n",
       "      <td>02</td>\n",
       "      <td>La Francia</td>\n",
       "      <td>Santa Cruz</td>\n",
       "      <td>[-75.5503911403, 6.29869502502]</td>\n",
       "      <td>837004.94</td>\n",
       "      <td>1188499.17</td>\n",
       "    </tr>\n",
       "    <tr>\n",
       "      <th>3</th>\n",
       "      <td>2015</td>\n",
       "      <td>0101</td>\n",
       "      <td>Atropello</td>\n",
       "      <td>CR 34 CL 112</td>\n",
       "      <td>CR  034   112  000 00000</td>\n",
       "      <td>Tramo de via</td>\n",
       "      <td>A000259752</td>\n",
       "      <td>21/10/2015 12:00:00</td>\n",
       "      <td>2015-10-21T17:00:00.000Z</td>\n",
       "      <td>Con heridos</td>\n",
       "      <td>10</td>\n",
       "      <td>1508694</td>\n",
       "      <td>01</td>\n",
       "      <td>Santo Domingo Savio No. 1</td>\n",
       "      <td>Popular</td>\n",
       "      <td>[-75.5442195069, 6.30019383306]</td>\n",
       "      <td>837688.53</td>\n",
       "      <td>1188663.05</td>\n",
       "    </tr>\n",
       "    <tr>\n",
       "      <th>4</th>\n",
       "      <td>2015</td>\n",
       "      <td>1504</td>\n",
       "      <td>Choque</td>\n",
       "      <td>CR 50 CL 14</td>\n",
       "      <td>CR  050   014  000 00000</td>\n",
       "      <td>Tramo de via</td>\n",
       "      <td>A000259949</td>\n",
       "      <td>03/11/2015 06:16:00</td>\n",
       "      <td>2015-11-03T11:16:00.000Z</td>\n",
       "      <td>Solo daños</td>\n",
       "      <td>11</td>\n",
       "      <td>1510634</td>\n",
       "      <td>15</td>\n",
       "      <td>Santa Fé</td>\n",
       "      <td>Guayabal</td>\n",
       "      <td>[-75.578180998, 6.21699243701]</td>\n",
       "      <td>833903.11</td>\n",
       "      <td>1179469.60</td>\n",
       "    </tr>\n",
       "  </tbody>\n",
       "</table>\n",
       "</div>"
      ],
      "text/plain": [
       "    AÑO  CBML CLASE_ACCIDENTE      DIRECCION       DIRECCION ENCASILLADA  \\\n",
       "0  2015  1013  Caida Ocupante    CR 46 CL 43    CR  046   043  000 00000   \n",
       "1  2015  1020          Choque  CR 43 A CL 29  CR  043 A   029  000 00000   \n",
       "2  2015  0205            Otro    CR 46 CL 37    CR  046   037  000 00000   \n",
       "3  2015  0101       Atropello   CR 34 CL 112    CR  034   112  000 00000   \n",
       "4  2015  1504          Choque    CR 50 CL 14    CR  050   014  000 00000   \n",
       "\n",
       "         DISEÑO  EXPEDIENTE      FECHA_ACCIDENTE          FECHA_ACCIDENTES  \\\n",
       "0  Tramo de via  A000259731  21/10/2015 05:58:00  2015-10-21T10:58:00.000Z   \n",
       "1  Tramo de via  A000261725  05/11/2015 03:00:00  2015-11-05T08:00:00.000Z   \n",
       "2  Tramo de via  A000259739  21/10/2015 07:40:00  2015-10-21T12:40:00.000Z   \n",
       "3  Tramo de via  A000259752  21/10/2015 12:00:00  2015-10-21T17:00:00.000Z   \n",
       "4  Tramo de via  A000259949  03/11/2015 06:16:00  2015-11-03T11:16:00.000Z   \n",
       "\n",
       "  GRAVEDAD_ACCIDENTE  MES NRO_RADICADO NUMCOMUNA                     BARRIO  \\\n",
       "0        Con heridos   10      1508668        10               Barrio Colón   \n",
       "1         Solo daños   11      1510621        10                  San Diego   \n",
       "2        Con heridos   10      1508691        02                 La Francia   \n",
       "3        Con heridos   10      1508694        01  Santo Domingo Savio No. 1   \n",
       "4         Solo daños   11      1510634        15                   Santa Fé   \n",
       "\n",
       "          COMUNA                         LOCATION          X           Y  \n",
       "0  La Candelaria  [-75.5688011014, 6.24312304123]  834949.69  1182357.34  \n",
       "1  La Candelaria  [-75.5693883283, 6.22870030622]  834880.17  1180762.02  \n",
       "2     Santa Cruz  [-75.5503911403, 6.29869502502]  837004.94  1188499.17  \n",
       "3        Popular  [-75.5442195069, 6.30019383306]  837688.53  1188663.05  \n",
       "4       Guayabal   [-75.578180998, 6.21699243701]  833903.11  1179469.60  "
      ]
     },
     "execution_count": 3,
     "metadata": {},
     "output_type": "execute_result"
    }
   ],
   "source": [
    "#Importacion del dataset\n",
    "df = pd.read_csv('incidentes_viales.csv', sep=';', encoding='utf-8')\n",
    "df.head()"
   ]
  },
  {
   "cell_type": "code",
   "execution_count": 4,
   "metadata": {},
   "outputs": [
    {
     "data": {
      "text/plain": [
       "(270765, 18)"
      ]
     },
     "execution_count": 4,
     "metadata": {},
     "output_type": "execute_result"
    }
   ],
   "source": [
    "#Tamaño del dataset\n",
    "df.shape"
   ]
  },
  {
   "cell_type": "code",
   "execution_count": 5,
   "metadata": {},
   "outputs": [
    {
     "data": {
      "text/plain": [
       "AÑO                       object\n",
       "CBML                      object\n",
       "CLASE_ACCIDENTE           object\n",
       "DIRECCION                 object\n",
       "DIRECCION ENCASILLADA     object\n",
       "DISEÑO                    object\n",
       "EXPEDIENTE                object\n",
       "FECHA_ACCIDENTE           object\n",
       "FECHA_ACCIDENTES          object\n",
       "GRAVEDAD_ACCIDENTE        object\n",
       "MES                        int64\n",
       "NRO_RADICADO              object\n",
       "NUMCOMUNA                 object\n",
       "BARRIO                    object\n",
       "COMUNA                    object\n",
       "LOCATION                  object\n",
       "X                        float64\n",
       "Y                        float64\n",
       "dtype: object"
      ]
     },
     "execution_count": 5,
     "metadata": {},
     "output_type": "execute_result"
    }
   ],
   "source": [
    "#Verificar el tipo de datos por variable\n",
    "df.dtypes"
   ]
  },
  {
   "cell_type": "code",
   "execution_count": 6,
   "metadata": {},
   "outputs": [
    {
     "data": {
      "text/plain": [
       "AÑO                          0\n",
       "CBML                     18156\n",
       "CLASE_ACCIDENTE              6\n",
       "DIRECCION                    0\n",
       "DIRECCION ENCASILLADA      391\n",
       "DISEÑO                    1148\n",
       "EXPEDIENTE                 110\n",
       "FECHA_ACCIDENTE              0\n",
       "FECHA_ACCIDENTES             0\n",
       "GRAVEDAD_ACCIDENTE           0\n",
       "MES                          0\n",
       "NRO_RADICADO                 5\n",
       "NUMCOMUNA                    0\n",
       "BARRIO                   19006\n",
       "COMUNA                   12798\n",
       "LOCATION                     0\n",
       "X                            0\n",
       "Y                            0\n",
       "dtype: int64"
      ]
     },
     "execution_count": 6,
     "metadata": {},
     "output_type": "execute_result"
    }
   ],
   "source": [
    "#Verificar si hay valores nulos y cuantos hay por variable\n",
    "df.isnull().sum()"
   ]
  },
  {
   "cell_type": "code",
   "execution_count": 7,
   "metadata": {},
   "outputs": [
    {
     "data": {
      "text/html": [
       "<div>\n",
       "<style scoped>\n",
       "    .dataframe tbody tr th:only-of-type {\n",
       "        vertical-align: middle;\n",
       "    }\n",
       "\n",
       "    .dataframe tbody tr th {\n",
       "        vertical-align: top;\n",
       "    }\n",
       "\n",
       "    .dataframe thead th {\n",
       "        text-align: right;\n",
       "    }\n",
       "</style>\n",
       "<table border=\"1\" class=\"dataframe\">\n",
       "  <thead>\n",
       "    <tr style=\"text-align: right;\">\n",
       "      <th></th>\n",
       "      <th>AÑO</th>\n",
       "      <th>CBML</th>\n",
       "      <th>CLASE_ACCIDENTE</th>\n",
       "      <th>DIRECCION</th>\n",
       "      <th>DIRECCION ENCASILLADA</th>\n",
       "      <th>DISEÑO</th>\n",
       "      <th>EXPEDIENTE</th>\n",
       "      <th>FECHA_ACCIDENTE</th>\n",
       "      <th>FECHA_ACCIDENTES</th>\n",
       "      <th>GRAVEDAD_ACCIDENTE</th>\n",
       "      <th>MES</th>\n",
       "      <th>NRO_RADICADO</th>\n",
       "      <th>NUMCOMUNA</th>\n",
       "      <th>BARRIO</th>\n",
       "      <th>COMUNA</th>\n",
       "      <th>LOCATION</th>\n",
       "      <th>X</th>\n",
       "      <th>Y</th>\n",
       "    </tr>\n",
       "  </thead>\n",
       "  <tbody>\n",
       "    <tr>\n",
       "      <th>107212</th>\n",
       "      <td>2017</td>\n",
       "      <td>0206</td>\n",
       "      <td>Choque</td>\n",
       "      <td>CR 52 CL 107</td>\n",
       "      <td>CR  052   107  000 00000</td>\n",
       "      <td>NaN</td>\n",
       "      <td>A000673223</td>\n",
       "      <td>25/12/2017 10:00:00</td>\n",
       "      <td>2017-12-25T15:00:00.000Z</td>\n",
       "      <td>Con muertos</td>\n",
       "      <td>12</td>\n",
       "      <td>62196</td>\n",
       "      <td>02</td>\n",
       "      <td>Andalucía</td>\n",
       "      <td>Santa Cruz</td>\n",
       "      <td>[-75.5574464031, 6.29966255324]</td>\n",
       "      <td>836224.31</td>\n",
       "      <td>1188608.41</td>\n",
       "    </tr>\n",
       "    <tr>\n",
       "      <th>266852</th>\n",
       "      <td>2016</td>\n",
       "      <td>1018</td>\n",
       "      <td>Atropello</td>\n",
       "      <td>CL 58 CR 50</td>\n",
       "      <td>CL  058   050  000 00000</td>\n",
       "      <td>NaN</td>\n",
       "      <td>A000487308</td>\n",
       "      <td>20/11/2016 02:05:00</td>\n",
       "      <td>2016-11-20T07:05:00.000Z</td>\n",
       "      <td>Con muertos</td>\n",
       "      <td>11</td>\n",
       "      <td>58560</td>\n",
       "      <td>10</td>\n",
       "      <td>Villa Nueva</td>\n",
       "      <td>La Candelaria</td>\n",
       "      <td>[-75.5642900962, 6.25591991287]</td>\n",
       "      <td>835453.06</td>\n",
       "      <td>1183771.57</td>\n",
       "    </tr>\n",
       "    <tr>\n",
       "      <th>270449</th>\n",
       "      <td>2015</td>\n",
       "      <td>80003360020</td>\n",
       "      <td>Choque</td>\n",
       "      <td>CR 63 CL 50 C Sur 09</td>\n",
       "      <td>CR  063  S 050 C  009 00000</td>\n",
       "      <td>NaN</td>\n",
       "      <td>A000177042</td>\n",
       "      <td>13/05/2015 18:31:00</td>\n",
       "      <td>2015-05-13T23:31:00.000Z</td>\n",
       "      <td>Con muertos</td>\n",
       "      <td>5</td>\n",
       "      <td>050016000206201523690</td>\n",
       "      <td>80</td>\n",
       "      <td>Cabecera San Antonio de Prado</td>\n",
       "      <td>Corregimiento de San Antonio de Prado</td>\n",
       "      <td>[-75.6448608945, 6.17708308094]</td>\n",
       "      <td>826508.06</td>\n",
       "      <td>1175075.92</td>\n",
       "    </tr>\n",
       "  </tbody>\n",
       "</table>\n",
       "</div>"
      ],
      "text/plain": [
       "         AÑO         CBML CLASE_ACCIDENTE             DIRECCION  \\\n",
       "107212  2017         0206          Choque          CR 52 CL 107   \n",
       "266852  2016         1018       Atropello           CL 58 CR 50   \n",
       "270449  2015  80003360020          Choque  CR 63 CL 50 C Sur 09   \n",
       "\n",
       "              DIRECCION ENCASILLADA DISEÑO  EXPEDIENTE      FECHA_ACCIDENTE  \\\n",
       "107212     CR  052   107  000 00000    NaN  A000673223  25/12/2017 10:00:00   \n",
       "266852     CL  058   050  000 00000    NaN  A000487308  20/11/2016 02:05:00   \n",
       "270449  CR  063  S 050 C  009 00000    NaN  A000177042  13/05/2015 18:31:00   \n",
       "\n",
       "                FECHA_ACCIDENTES GRAVEDAD_ACCIDENTE  MES  \\\n",
       "107212  2017-12-25T15:00:00.000Z        Con muertos   12   \n",
       "266852  2016-11-20T07:05:00.000Z        Con muertos   11   \n",
       "270449  2015-05-13T23:31:00.000Z        Con muertos    5   \n",
       "\n",
       "                 NRO_RADICADO NUMCOMUNA                         BARRIO  \\\n",
       "107212                  62196        02                      Andalucía   \n",
       "266852                  58560        10                    Villa Nueva   \n",
       "270449  050016000206201523690        80  Cabecera San Antonio de Prado   \n",
       "\n",
       "                                       COMUNA  \\\n",
       "107212                             Santa Cruz   \n",
       "266852                          La Candelaria   \n",
       "270449  Corregimiento de San Antonio de Prado   \n",
       "\n",
       "                               LOCATION          X           Y  \n",
       "107212  [-75.5574464031, 6.29966255324]  836224.31  1188608.41  \n",
       "266852  [-75.5642900962, 6.25591991287]  835453.06  1183771.57  \n",
       "270449  [-75.6448608945, 6.17708308094]  826508.06  1175075.92  "
      ]
     },
     "execution_count": 7,
     "metadata": {},
     "output_type": "execute_result"
    }
   ],
   "source": [
    "#Verificar si hay registros duplicados\n",
    "df[df.duplicated()]"
   ]
  },
  {
   "cell_type": "code",
   "execution_count": 8,
   "metadata": {},
   "outputs": [],
   "source": [
    "#Eliminar registros duplicados\n",
    "df.drop_duplicates(inplace=True)"
   ]
  },
  {
   "cell_type": "code",
   "execution_count": 9,
   "metadata": {},
   "outputs": [
    {
     "data": {
      "text/plain": [
       "AÑO                          14\n",
       "CBML                        842\n",
       "CLASE_ACCIDENTE               9\n",
       "DIRECCION                 39285\n",
       "DIRECCION ENCASILLADA     35360\n",
       "DISEÑO                       13\n",
       "EXPEDIENTE               270152\n",
       "FECHA_ACCIDENTE          176043\n",
       "FECHA_ACCIDENTES         176043\n",
       "GRAVEDAD_ACCIDENTE            4\n",
       "MES                          12\n",
       "NRO_RADICADO             270730\n",
       "NUMCOMUNA                    35\n",
       "BARRIO                      490\n",
       "COMUNA                       31\n",
       "LOCATION                  26868\n",
       "X                         26072\n",
       "Y                         26380\n",
       "dtype: int64"
      ]
     },
     "execution_count": 9,
     "metadata": {},
     "output_type": "execute_result"
    }
   ],
   "source": [
    "#Valores unicos por variable\n",
    "df.nunique()"
   ]
  },
  {
   "cell_type": "code",
   "execution_count": 10,
   "metadata": {},
   "outputs": [
    {
     "data": {
      "text/plain": [
       "array(['10', '02', '01', '15', '14', '11', '07', '06', '04', '09', '05',\n",
       "       '80', 'Sin Inf', '13', '08', '16', '03', '12', '70', '60', '90',\n",
       "       'In', 'SN', '0', '50', 'AU', '5', '7', '9', '4', '3', '1', '2',\n",
       "       '8', '6'], dtype=object)"
      ]
     },
     "execution_count": 10,
     "metadata": {},
     "output_type": "execute_result"
    }
   ],
   "source": [
    "df.NUMCOMUNA.unique()"
   ]
  },
  {
   "cell_type": "markdown",
   "metadata": {},
   "source": [
    "<center>\n",
    "\n",
    "## 1.2 Eliminacion de variables  \n",
    "</center>"
   ]
  },
  {
   "cell_type": "markdown",
   "metadata": {},
   "source": [
    "#### Se eliminaran aquellas variables que no tengan ningun tipo de relacion con nuestro objetivo o que tengan la misma informacion que otras pariables pero menos comunicativas "
   ]
  },
  {
   "cell_type": "code",
   "execution_count": 11,
   "metadata": {},
   "outputs": [],
   "source": [
    "#Eliminar variables que no se van a utilizar\n",
    "df.drop(\n",
    "  axis=1, columns=[\"CBML\", \"DIRECCION ENCASILLADA\", \"EXPEDIENTE\", \"FECHA_ACCIDENTES\", \"NRO_RADICADO\", \"X\", \"Y\"], \n",
    "  inplace=True\n",
    ")"
   ]
  },
  {
   "cell_type": "code",
   "execution_count": 12,
   "metadata": {},
   "outputs": [
    {
     "data": {
      "text/html": [
       "<div>\n",
       "<style scoped>\n",
       "    .dataframe tbody tr th:only-of-type {\n",
       "        vertical-align: middle;\n",
       "    }\n",
       "\n",
       "    .dataframe tbody tr th {\n",
       "        vertical-align: top;\n",
       "    }\n",
       "\n",
       "    .dataframe thead th {\n",
       "        text-align: right;\n",
       "    }\n",
       "</style>\n",
       "<table border=\"1\" class=\"dataframe\">\n",
       "  <thead>\n",
       "    <tr style=\"text-align: right;\">\n",
       "      <th></th>\n",
       "      <th>AÑO</th>\n",
       "      <th>CLASE_ACCIDENTE</th>\n",
       "      <th>DIRECCION</th>\n",
       "      <th>DISEÑO</th>\n",
       "      <th>FECHA_ACCIDENTE</th>\n",
       "      <th>GRAVEDAD_ACCIDENTE</th>\n",
       "      <th>MES</th>\n",
       "      <th>NUMCOMUNA</th>\n",
       "      <th>BARRIO</th>\n",
       "      <th>COMUNA</th>\n",
       "      <th>LOCATION</th>\n",
       "    </tr>\n",
       "  </thead>\n",
       "  <tbody>\n",
       "    <tr>\n",
       "      <th>0</th>\n",
       "      <td>2015</td>\n",
       "      <td>Caida Ocupante</td>\n",
       "      <td>CR 46 CL 43</td>\n",
       "      <td>Tramo de via</td>\n",
       "      <td>21/10/2015 05:58:00</td>\n",
       "      <td>Con heridos</td>\n",
       "      <td>10</td>\n",
       "      <td>10</td>\n",
       "      <td>Barrio Colón</td>\n",
       "      <td>La Candelaria</td>\n",
       "      <td>[-75.5688011014, 6.24312304123]</td>\n",
       "    </tr>\n",
       "    <tr>\n",
       "      <th>1</th>\n",
       "      <td>2015</td>\n",
       "      <td>Choque</td>\n",
       "      <td>CR 43 A CL 29</td>\n",
       "      <td>Tramo de via</td>\n",
       "      <td>05/11/2015 03:00:00</td>\n",
       "      <td>Solo daños</td>\n",
       "      <td>11</td>\n",
       "      <td>10</td>\n",
       "      <td>San Diego</td>\n",
       "      <td>La Candelaria</td>\n",
       "      <td>[-75.5693883283, 6.22870030622]</td>\n",
       "    </tr>\n",
       "    <tr>\n",
       "      <th>2</th>\n",
       "      <td>2015</td>\n",
       "      <td>Otro</td>\n",
       "      <td>CR 46 CL 37</td>\n",
       "      <td>Tramo de via</td>\n",
       "      <td>21/10/2015 07:40:00</td>\n",
       "      <td>Con heridos</td>\n",
       "      <td>10</td>\n",
       "      <td>02</td>\n",
       "      <td>La Francia</td>\n",
       "      <td>Santa Cruz</td>\n",
       "      <td>[-75.5503911403, 6.29869502502]</td>\n",
       "    </tr>\n",
       "    <tr>\n",
       "      <th>3</th>\n",
       "      <td>2015</td>\n",
       "      <td>Atropello</td>\n",
       "      <td>CR 34 CL 112</td>\n",
       "      <td>Tramo de via</td>\n",
       "      <td>21/10/2015 12:00:00</td>\n",
       "      <td>Con heridos</td>\n",
       "      <td>10</td>\n",
       "      <td>01</td>\n",
       "      <td>Santo Domingo Savio No. 1</td>\n",
       "      <td>Popular</td>\n",
       "      <td>[-75.5442195069, 6.30019383306]</td>\n",
       "    </tr>\n",
       "    <tr>\n",
       "      <th>4</th>\n",
       "      <td>2015</td>\n",
       "      <td>Choque</td>\n",
       "      <td>CR 50 CL 14</td>\n",
       "      <td>Tramo de via</td>\n",
       "      <td>03/11/2015 06:16:00</td>\n",
       "      <td>Solo daños</td>\n",
       "      <td>11</td>\n",
       "      <td>15</td>\n",
       "      <td>Santa Fé</td>\n",
       "      <td>Guayabal</td>\n",
       "      <td>[-75.578180998, 6.21699243701]</td>\n",
       "    </tr>\n",
       "  </tbody>\n",
       "</table>\n",
       "</div>"
      ],
      "text/plain": [
       "    AÑO CLASE_ACCIDENTE      DIRECCION        DISEÑO      FECHA_ACCIDENTE  \\\n",
       "0  2015  Caida Ocupante    CR 46 CL 43  Tramo de via  21/10/2015 05:58:00   \n",
       "1  2015          Choque  CR 43 A CL 29  Tramo de via  05/11/2015 03:00:00   \n",
       "2  2015            Otro    CR 46 CL 37  Tramo de via  21/10/2015 07:40:00   \n",
       "3  2015       Atropello   CR 34 CL 112  Tramo de via  21/10/2015 12:00:00   \n",
       "4  2015          Choque    CR 50 CL 14  Tramo de via  03/11/2015 06:16:00   \n",
       "\n",
       "  GRAVEDAD_ACCIDENTE  MES NUMCOMUNA                     BARRIO         COMUNA  \\\n",
       "0        Con heridos   10        10               Barrio Colón  La Candelaria   \n",
       "1         Solo daños   11        10                  San Diego  La Candelaria   \n",
       "2        Con heridos   10        02                 La Francia     Santa Cruz   \n",
       "3        Con heridos   10        01  Santo Domingo Savio No. 1        Popular   \n",
       "4         Solo daños   11        15                   Santa Fé       Guayabal   \n",
       "\n",
       "                          LOCATION  \n",
       "0  [-75.5688011014, 6.24312304123]  \n",
       "1  [-75.5693883283, 6.22870030622]  \n",
       "2  [-75.5503911403, 6.29869502502]  \n",
       "3  [-75.5442195069, 6.30019383306]  \n",
       "4   [-75.578180998, 6.21699243701]  "
      ]
     },
     "execution_count": 12,
     "metadata": {},
     "output_type": "execute_result"
    }
   ],
   "source": [
    "#Mostrar el dataset sin las variables eliminadas\n",
    "df.head()"
   ]
  },
  {
   "cell_type": "markdown",
   "metadata": {},
   "source": [
    "<center>\n",
    "\n",
    "## 1.4 Estandarizacion de valores por variable\n",
    "</center>"
   ]
  },
  {
   "cell_type": "markdown",
   "metadata": {},
   "source": [
    "### 1.4.1 Variable: Año"
   ]
  },
  {
   "cell_type": "code",
   "execution_count": 13,
   "metadata": {},
   "outputs": [
    {
     "data": {
      "text/plain": [
       "array(['2015', '2014', '2016', '2017', '2018', '2019\\\\r', '2019', '2020',\n",
       "       2020, 2015, 2014, 2016, 2017, 2018], dtype=object)"
      ]
     },
     "execution_count": 13,
     "metadata": {},
     "output_type": "execute_result"
    }
   ],
   "source": [
    "#Verificar los valores unicos de la variable AÑO \n",
    "df.AÑO.unique()"
   ]
  },
  {
   "cell_type": "code",
   "execution_count": 14,
   "metadata": {},
   "outputs": [],
   "source": [
    "#Estandarizar estos valores\n",
    "df.AÑO.replace({\n",
    "  2014: '2014',\n",
    "  2015: '2015',\n",
    "  2016: '2016',\n",
    "  2017: '2017',\n",
    "  2018: '2018', \n",
    "  2019: '2019', \n",
    "  2020: '2020',\n",
    "  '2019\\\\r': '2019'\n",
    "}, inplace=True)"
   ]
  },
  {
   "cell_type": "code",
   "execution_count": 15,
   "metadata": {},
   "outputs": [
    {
     "data": {
      "text/plain": [
       "array(['2015', '2014', '2016', '2017', '2018', '2019', '2020'],\n",
       "      dtype=object)"
      ]
     },
     "execution_count": 15,
     "metadata": {},
     "output_type": "execute_result"
    }
   ],
   "source": [
    "#Verificar la estandarizacion\n",
    "df.AÑO.unique()"
   ]
  },
  {
   "cell_type": "markdown",
   "metadata": {},
   "source": [
    "### 1.4.2 Variable: Clase de accidente"
   ]
  },
  {
   "cell_type": "code",
   "execution_count": 16,
   "metadata": {},
   "outputs": [],
   "source": [
    "#Eliminar valores nulos de la variable CLASE_ACCIDENTE\n",
    "df.dropna(subset=['CLASE_ACCIDENTE'], inplace=True)"
   ]
  },
  {
   "cell_type": "code",
   "execution_count": 17,
   "metadata": {},
   "outputs": [
    {
     "data": {
      "text/plain": [
       "array(['Caida Ocupante', 'Choque', 'Otro', 'Atropello', 'Volcamiento',\n",
       "       'Caída de Ocupante', 'Caída Ocupante', 'Incendio',\n",
       "       'Caida de Ocupante'], dtype=object)"
      ]
     },
     "execution_count": 17,
     "metadata": {},
     "output_type": "execute_result"
    }
   ],
   "source": [
    "#Verificar los valores unicos de la variable CLASE_ACCIDENTE\n",
    "df.CLASE_ACCIDENTE.unique() "
   ]
  },
  {
   "cell_type": "code",
   "execution_count": 18,
   "metadata": {},
   "outputs": [],
   "source": [
    "#Estandarizar estos valores\n",
    "df.CLASE_ACCIDENTE.replace({\n",
    "  'Caída de Ocupante': 'Caida Ocupante',\n",
    "  'Caída Ocupante': 'Caida Ocupante',\n",
    "  'Caida de Ocupante': 'Caida Ocupante',\n",
    "}, inplace=True)"
   ]
  },
  {
   "cell_type": "code",
   "execution_count": 19,
   "metadata": {},
   "outputs": [
    {
     "data": {
      "text/plain": [
       "array(['Caida Ocupante', 'Choque', 'Otro', 'Atropello', 'Volcamiento',\n",
       "       'Incendio'], dtype=object)"
      ]
     },
     "execution_count": 19,
     "metadata": {},
     "output_type": "execute_result"
    }
   ],
   "source": [
    "#Verificar la estandarizacion\n",
    "df.CLASE_ACCIDENTE.unique()"
   ]
  },
  {
   "cell_type": "markdown",
   "metadata": {},
   "source": [
    "### 1.4.3 Variable: Diseño"
   ]
  },
  {
   "cell_type": "code",
   "execution_count": 20,
   "metadata": {},
   "outputs": [],
   "source": [
    "#Eliminar valores nulos de la variable DISEÑO \n",
    "df.dropna(subset='DISEÑO', inplace=True)"
   ]
  },
  {
   "cell_type": "code",
   "execution_count": 21,
   "metadata": {},
   "outputs": [
    {
     "data": {
      "text/plain": [
       "array(['Tramo de via', 'Interseccion', 'Glorieta', 'Lote o Predio',\n",
       "       'Paso a Nivel', 'Puente', 'Paso Elevado', 'Ciclo Ruta',\n",
       "       'Paso Inferior', 'Via peatonal', 'Pontón', 'Tunel', 'Pont\\\\xF3n'],\n",
       "      dtype=object)"
      ]
     },
     "execution_count": 21,
     "metadata": {},
     "output_type": "execute_result"
    }
   ],
   "source": [
    "#Verificar los valores unicos de la variable DISEÑO \n",
    "df.DISEÑO.unique()"
   ]
  },
  {
   "cell_type": "code",
   "execution_count": 22,
   "metadata": {},
   "outputs": [],
   "source": [
    "#Estandarizar estos valores\n",
    "df.DISEÑO.replace({\n",
    "  'Pont\\\\xF3n': 'Pontón'\n",
    "}, inplace=True) "
   ]
  },
  {
   "cell_type": "code",
   "execution_count": 23,
   "metadata": {},
   "outputs": [
    {
     "data": {
      "text/plain": [
       "array(['Tramo de via', 'Interseccion', 'Glorieta', 'Lote o Predio',\n",
       "       'Paso a Nivel', 'Puente', 'Paso Elevado', 'Ciclo Ruta',\n",
       "       'Paso Inferior', 'Via peatonal', 'Pontón', 'Tunel'], dtype=object)"
      ]
     },
     "execution_count": 23,
     "metadata": {},
     "output_type": "execute_result"
    }
   ],
   "source": [
    "#Verificar la estandarizacion\n",
    "df.DISEÑO.unique()"
   ]
  },
  {
   "cell_type": "markdown",
   "metadata": {},
   "source": [
    "### 1.4.4 Variable: Gravedad del accidente"
   ]
  },
  {
   "cell_type": "code",
   "execution_count": 24,
   "metadata": {},
   "outputs": [
    {
     "data": {
      "text/plain": [
       "array(['Con heridos', 'Solo daños', 'Solo da\\\\xF1os', 'Con muertos'],\n",
       "      dtype=object)"
      ]
     },
     "execution_count": 24,
     "metadata": {},
     "output_type": "execute_result"
    }
   ],
   "source": [
    "#Verificar los valores unicos de la variable Gravedad del accidente\n",
    "df.GRAVEDAD_ACCIDENTE.unique()"
   ]
  },
  {
   "cell_type": "code",
   "execution_count": 25,
   "metadata": {},
   "outputs": [],
   "source": [
    "#Estandarizas estos valores\n",
    "df.GRAVEDAD_ACCIDENTE.replace({\n",
    "  'Solo da\\\\xF1os': 'Solo daños',\n",
    "}, inplace=True)"
   ]
  },
  {
   "cell_type": "code",
   "execution_count": 26,
   "metadata": {},
   "outputs": [
    {
     "data": {
      "text/plain": [
       "array(['Con heridos', 'Solo daños', 'Con muertos'], dtype=object)"
      ]
     },
     "execution_count": 26,
     "metadata": {},
     "output_type": "execute_result"
    }
   ],
   "source": [
    "#Verificar la estandarizacion\n",
    "df.GRAVEDAD_ACCIDENTE.unique()"
   ]
  },
  {
   "cell_type": "markdown",
   "metadata": {},
   "source": [
    "### 1.4.5 Variable: Barrio"
   ]
  },
  {
   "cell_type": "code",
   "execution_count": 27,
   "metadata": {},
   "outputs": [],
   "source": [
    "df.dropna(subset=['BARRIO'], inplace=True)"
   ]
  },
  {
   "cell_type": "code",
   "execution_count": 28,
   "metadata": {},
   "outputs": [
    {
     "data": {
      "text/plain": [
       "(250690, 11)"
      ]
     },
     "execution_count": 28,
     "metadata": {},
     "output_type": "execute_result"
    }
   ],
   "source": [
    "df.shape"
   ]
  },
  {
   "cell_type": "code",
   "execution_count": 29,
   "metadata": {},
   "outputs": [
    {
     "data": {
      "text/plain": [
       "AÑO                   0\n",
       "CLASE_ACCIDENTE       0\n",
       "DIRECCION             0\n",
       "DISEÑO                0\n",
       "FECHA_ACCIDENTE       0\n",
       "GRAVEDAD_ACCIDENTE    0\n",
       "MES                   0\n",
       "NUMCOMUNA             0\n",
       "BARRIO                0\n",
       "COMUNA                0\n",
       "LOCATION              0\n",
       "dtype: int64"
      ]
     },
     "execution_count": 29,
     "metadata": {},
     "output_type": "execute_result"
    }
   ],
   "source": [
    "df.isna().sum()"
   ]
  },
  {
   "cell_type": "markdown",
   "metadata": {},
   "source": [
    "### 1.4.6 Variable: Numero de la comuna"
   ]
  },
  {
   "cell_type": "code",
   "execution_count": 30,
   "metadata": {},
   "outputs": [
    {
     "data": {
      "text/plain": [
       "array(['10', '02', '01', '15', '14', '11', '07', '06', '04', '09', '05',\n",
       "       '80', '13', '08', '16', '03', '12', '70', '60', '90', 'In', 'SN',\n",
       "       '0', '50', 'AU', '5', '7', '9', '4', '3', '1', '2', '8', '6',\n",
       "       'Sin Inf'], dtype=object)"
      ]
     },
     "execution_count": 30,
     "metadata": {},
     "output_type": "execute_result"
    }
   ],
   "source": [
    "#Verificar los valores unicos de la variable NUMCOMUNA\n",
    "df.NUMCOMUNA.unique()"
   ]
  },
  {
   "cell_type": "code",
   "execution_count": 31,
   "metadata": {},
   "outputs": [],
   "source": [
    "#Estandarizar estos valores\n",
    "df.NUMCOMUNA.replace({\n",
    "  'In': np.nan,\n",
    "  'SN': np.nan,\n",
    "  'AU': np.nan,\n",
    "  'Sin Inf': np.nan,\n",
    "  '0': np.nan,\n",
    "  '01': '1',\n",
    "  '02': '2',\n",
    "  '03': '3',\n",
    "  '04': '4',\n",
    "  '05': '5',\n",
    "  '06': '6',\n",
    "  '07': '7',\n",
    "  '08': '8',\n",
    "  '09': '9',\n",
    "}, inplace=True)"
   ]
  },
  {
   "cell_type": "code",
   "execution_count": 32,
   "metadata": {},
   "outputs": [],
   "source": [
    "#Eliminar valores nulos creado en la estandarizacion\n",
    "df.dropna(subset=['NUMCOMUNA'], inplace=True)"
   ]
  },
  {
   "cell_type": "code",
   "execution_count": 33,
   "metadata": {},
   "outputs": [
    {
     "data": {
      "text/plain": [
       "array(['10', '2', '1', '15', '14', '11', '7', '6', '4', '9', '5', '80',\n",
       "       '13', '8', '16', '3', '12', '70', '60', '90', '50'], dtype=object)"
      ]
     },
     "execution_count": 33,
     "metadata": {},
     "output_type": "execute_result"
    }
   ],
   "source": [
    "#Verificar la estandarizacion\n",
    "df.NUMCOMUNA.unique()"
   ]
  },
  {
   "cell_type": "markdown",
   "metadata": {},
   "source": [
    "### 1.4.7 Variable: Comuna"
   ]
  },
  {
   "cell_type": "code",
   "execution_count": 34,
   "metadata": {},
   "outputs": [
    {
     "data": {
      "text/plain": [
       "array(['La Candelaria', 'Santa Cruz', 'Popular', 'Guayabal', 'El Poblado',\n",
       "       'Laureles Estadio', 'Robledo', 'Doce de Octubre', 'Aranjuez',\n",
       "       'Buenos Aires', 'Castilla',\n",
       "       'Corregimiento de San Antonio de Prado', 'San Javier',\n",
       "       'Villa Hermosa', 'Belén', 'Manrique', 'La América',\n",
       "       'Corregimiento de Altavista', 'Corregimiento de San Cristóbal',\n",
       "       'Corregimiento de Santa Elena', 'In',\n",
       "       'Corregimiento de San Sebastián de Palmitas', 'Bel\\\\xE9n',\n",
       "       'La Am\\\\xE9rica', 'Corregimiento de San Crist\\\\xF3bal',\n",
       "       'Corregimiento de San Sebasti\\\\xE1n de Palmitas', 'AU'],\n",
       "      dtype=object)"
      ]
     },
     "execution_count": 34,
     "metadata": {},
     "output_type": "execute_result"
    }
   ],
   "source": [
    "#Verificar los valores unicos de la variable COMUNA\n",
    "df.COMUNA.unique()"
   ]
  },
  {
   "cell_type": "code",
   "execution_count": 35,
   "metadata": {},
   "outputs": [],
   "source": [
    "#Estandarizar estos valores\n",
    "df.COMUNA.replace({\n",
    "  'Corregimiento de San Crist\\\\xF3bal': 'Corregimiento de San Cristóbal',\n",
    "  'Corregimiento de San Sebasti\\\\xE1n de Palmitas': 'Corregimiento de San Sebastián de Palmitas',\n",
    "  'La Am\\\\xE9rica': 'La América',\n",
    "  'AU': np.nan,\n",
    "  'In': np.nan,\n",
    "  'Bel\\\\xE9n': 'Belén',\n",
    "}, inplace=True)"
   ]
  },
  {
   "cell_type": "code",
   "execution_count": 36,
   "metadata": {},
   "outputs": [
    {
     "data": {
      "text/plain": [
       "array(['La Candelaria', 'Santa Cruz', 'Popular', 'Guayabal', 'El Poblado',\n",
       "       'Laureles Estadio', 'Robledo', 'Doce de Octubre', 'Aranjuez',\n",
       "       'Buenos Aires', 'Castilla',\n",
       "       'Corregimiento de San Antonio de Prado', 'San Javier',\n",
       "       'Villa Hermosa', 'Belén', 'Manrique', 'La América',\n",
       "       'Corregimiento de Altavista', 'Corregimiento de San Cristóbal',\n",
       "       'Corregimiento de Santa Elena', nan,\n",
       "       'Corregimiento de San Sebastián de Palmitas'], dtype=object)"
      ]
     },
     "execution_count": 36,
     "metadata": {},
     "output_type": "execute_result"
    }
   ],
   "source": [
    "#Verificar la estandarizacion\n",
    "df.COMUNA.unique()"
   ]
  },
  {
   "cell_type": "markdown",
   "metadata": {},
   "source": [
    "#### 1.4.7.1 Imputacion de datos para la variable COMUNA"
   ]
  },
  {
   "cell_type": "markdown",
   "metadata": {},
   "source": [
    "##### Al tener una variable llamada NUMCOMUNA y esta estar directamente relacionado con la variable COMUNA, podemos imputar los datos faltantes usando esta informacion "
   ]
  },
  {
   "cell_type": "code",
   "execution_count": 37,
   "metadata": {},
   "outputs": [],
   "source": [
    "#Creacion de diccionario con el numero de comuna y su respectivo nombre\n",
    "dict_comuna = {\n",
    "  '1': 'Popular',\n",
    "  '2': 'Santa Cruz',\n",
    "  '3': 'Manrique',\n",
    "  '4': 'Aranjuez',\n",
    "  '5': 'Castilla',\n",
    "  '6': 'Doce de Octubre',\n",
    "  '7': 'Robledo',\n",
    "  '8': 'Villa Hermosa',\n",
    "  '9': 'Buenos Aires',\n",
    "  '10': 'La Candelaria',\n",
    "  '11': 'Laureles Estadio',\n",
    "  '12': 'La América',\n",
    "  '13': 'San Javier',\n",
    "  '14': 'El Poblado',\n",
    "  '15': 'Guayabal',\n",
    "  '16': 'Belén',\n",
    "  '50': 'Corregimiento de San Sebastián de Palmitas',\n",
    "  '60': 'Corregimiento de San Cristóbal',\n",
    "  '70': 'Corregimiento de Altavista',\n",
    "  '80': 'Corregimiento de San Antonio de Prado',\n",
    "  '90': 'Corregimiento de Santa Elena',\n",
    "}"
   ]
  },
  {
   "cell_type": "code",
   "execution_count": 38,
   "metadata": {},
   "outputs": [],
   "source": [
    "#Aplicacion del diccionario a la variable COMUNA\n",
    "df['COMUNA'] = df['NUMCOMUNA'].apply(lambda x: dict_comuna[x])"
   ]
  },
  {
   "cell_type": "code",
   "execution_count": 39,
   "metadata": {},
   "outputs": [
    {
     "data": {
      "text/plain": [
       "0"
      ]
     },
     "execution_count": 39,
     "metadata": {},
     "output_type": "execute_result"
    }
   ],
   "source": [
    "#Verificar que no hay valores nulos en la variable COMUNA\n",
    "df.COMUNA.isna().sum()  "
   ]
  },
  {
   "cell_type": "markdown",
   "metadata": {},
   "source": [
    "#### 1.4.7.2 Eliminar variable numero de comuna "
   ]
  },
  {
   "cell_type": "code",
   "execution_count": 40,
   "metadata": {},
   "outputs": [],
   "source": [
    "#Eliminar la variable NUMCOMUNA\n",
    "df.drop(columns=['NUMCOMUNA'], inplace=True)"
   ]
  },
  {
   "cell_type": "code",
   "execution_count": 41,
   "metadata": {},
   "outputs": [
    {
     "data": {
      "text/html": [
       "<div>\n",
       "<style scoped>\n",
       "    .dataframe tbody tr th:only-of-type {\n",
       "        vertical-align: middle;\n",
       "    }\n",
       "\n",
       "    .dataframe tbody tr th {\n",
       "        vertical-align: top;\n",
       "    }\n",
       "\n",
       "    .dataframe thead th {\n",
       "        text-align: right;\n",
       "    }\n",
       "</style>\n",
       "<table border=\"1\" class=\"dataframe\">\n",
       "  <thead>\n",
       "    <tr style=\"text-align: right;\">\n",
       "      <th></th>\n",
       "      <th>AÑO</th>\n",
       "      <th>CLASE_ACCIDENTE</th>\n",
       "      <th>DIRECCION</th>\n",
       "      <th>DISEÑO</th>\n",
       "      <th>FECHA_ACCIDENTE</th>\n",
       "      <th>GRAVEDAD_ACCIDENTE</th>\n",
       "      <th>MES</th>\n",
       "      <th>BARRIO</th>\n",
       "      <th>COMUNA</th>\n",
       "      <th>LOCATION</th>\n",
       "    </tr>\n",
       "  </thead>\n",
       "  <tbody>\n",
       "    <tr>\n",
       "      <th>0</th>\n",
       "      <td>2015</td>\n",
       "      <td>Caida Ocupante</td>\n",
       "      <td>CR 46 CL 43</td>\n",
       "      <td>Tramo de via</td>\n",
       "      <td>21/10/2015 05:58:00</td>\n",
       "      <td>Con heridos</td>\n",
       "      <td>10</td>\n",
       "      <td>Barrio Colón</td>\n",
       "      <td>La Candelaria</td>\n",
       "      <td>[-75.5688011014, 6.24312304123]</td>\n",
       "    </tr>\n",
       "    <tr>\n",
       "      <th>1</th>\n",
       "      <td>2015</td>\n",
       "      <td>Choque</td>\n",
       "      <td>CR 43 A CL 29</td>\n",
       "      <td>Tramo de via</td>\n",
       "      <td>05/11/2015 03:00:00</td>\n",
       "      <td>Solo daños</td>\n",
       "      <td>11</td>\n",
       "      <td>San Diego</td>\n",
       "      <td>La Candelaria</td>\n",
       "      <td>[-75.5693883283, 6.22870030622]</td>\n",
       "    </tr>\n",
       "    <tr>\n",
       "      <th>2</th>\n",
       "      <td>2015</td>\n",
       "      <td>Otro</td>\n",
       "      <td>CR 46 CL 37</td>\n",
       "      <td>Tramo de via</td>\n",
       "      <td>21/10/2015 07:40:00</td>\n",
       "      <td>Con heridos</td>\n",
       "      <td>10</td>\n",
       "      <td>La Francia</td>\n",
       "      <td>Santa Cruz</td>\n",
       "      <td>[-75.5503911403, 6.29869502502]</td>\n",
       "    </tr>\n",
       "    <tr>\n",
       "      <th>3</th>\n",
       "      <td>2015</td>\n",
       "      <td>Atropello</td>\n",
       "      <td>CR 34 CL 112</td>\n",
       "      <td>Tramo de via</td>\n",
       "      <td>21/10/2015 12:00:00</td>\n",
       "      <td>Con heridos</td>\n",
       "      <td>10</td>\n",
       "      <td>Santo Domingo Savio No. 1</td>\n",
       "      <td>Popular</td>\n",
       "      <td>[-75.5442195069, 6.30019383306]</td>\n",
       "    </tr>\n",
       "    <tr>\n",
       "      <th>4</th>\n",
       "      <td>2015</td>\n",
       "      <td>Choque</td>\n",
       "      <td>CR 50 CL 14</td>\n",
       "      <td>Tramo de via</td>\n",
       "      <td>03/11/2015 06:16:00</td>\n",
       "      <td>Solo daños</td>\n",
       "      <td>11</td>\n",
       "      <td>Santa Fé</td>\n",
       "      <td>Guayabal</td>\n",
       "      <td>[-75.578180998, 6.21699243701]</td>\n",
       "    </tr>\n",
       "  </tbody>\n",
       "</table>\n",
       "</div>"
      ],
      "text/plain": [
       "    AÑO CLASE_ACCIDENTE      DIRECCION        DISEÑO      FECHA_ACCIDENTE  \\\n",
       "0  2015  Caida Ocupante    CR 46 CL 43  Tramo de via  21/10/2015 05:58:00   \n",
       "1  2015          Choque  CR 43 A CL 29  Tramo de via  05/11/2015 03:00:00   \n",
       "2  2015            Otro    CR 46 CL 37  Tramo de via  21/10/2015 07:40:00   \n",
       "3  2015       Atropello   CR 34 CL 112  Tramo de via  21/10/2015 12:00:00   \n",
       "4  2015          Choque    CR 50 CL 14  Tramo de via  03/11/2015 06:16:00   \n",
       "\n",
       "  GRAVEDAD_ACCIDENTE  MES                     BARRIO         COMUNA  \\\n",
       "0        Con heridos   10               Barrio Colón  La Candelaria   \n",
       "1         Solo daños   11                  San Diego  La Candelaria   \n",
       "2        Con heridos   10                 La Francia     Santa Cruz   \n",
       "3        Con heridos   10  Santo Domingo Savio No. 1        Popular   \n",
       "4         Solo daños   11                   Santa Fé       Guayabal   \n",
       "\n",
       "                          LOCATION  \n",
       "0  [-75.5688011014, 6.24312304123]  \n",
       "1  [-75.5693883283, 6.22870030622]  \n",
       "2  [-75.5503911403, 6.29869502502]  \n",
       "3  [-75.5442195069, 6.30019383306]  \n",
       "4   [-75.578180998, 6.21699243701]  "
      ]
     },
     "execution_count": 41,
     "metadata": {},
     "output_type": "execute_result"
    }
   ],
   "source": [
    "#verificar que la variable NUMCOMUNA haya sido eliminada correctamente\n",
    "df.head()"
   ]
  },
  {
   "cell_type": "markdown",
   "metadata": {},
   "source": [
    "<center>\n",
    "\n",
    "## 1.5 Creacion de nuevas variables mediante extracion de datos de variables existentes\n",
    "</center>"
   ]
  },
  {
   "cell_type": "markdown",
   "metadata": {},
   "source": [
    "### 1.5.1 Separacion de la variable FECHA_ACCIDENTE en las nuevas variables FECHA, SEMANA, DIA y HORA"
   ]
  },
  {
   "cell_type": "code",
   "execution_count": 42,
   "metadata": {},
   "outputs": [],
   "source": [
    "#Extaccion de los datos de la variable FECHA_ACCIDENTE\n",
    "fechas_horas = df.FECHA_ACCIDENTE.values\n",
    "fechas = []\n",
    "horas = []\n",
    "for i in fechas_horas:\n",
    "  fechas.append(i.split(' ')[0])\n",
    "  horas.append(i.split(' ')[1])"
   ]
  },
  {
   "cell_type": "code",
   "execution_count": 43,
   "metadata": {},
   "outputs": [],
   "source": [
    "#Creacion de la variable FECHA\n",
    "df['FECHA'] = fechas"
   ]
  },
  {
   "cell_type": "code",
   "execution_count": 44,
   "metadata": {},
   "outputs": [],
   "source": [
    "#Creacion de la variable SEMANA\n",
    "semana = []\n",
    "\n",
    "for i in fechas:\n",
    "  semana.append(datetime.strptime(i, '%d/%m/%Y').strftime('%U'))\n",
    "  \n",
    "df['SEMANA'] = semana"
   ]
  },
  {
   "cell_type": "code",
   "execution_count": 45,
   "metadata": {},
   "outputs": [],
   "source": [
    "#Creacion de la variable DIA_SEMANA\n",
    "dict_dia = {\n",
    "  'Monday': 'Lunes',\n",
    "  'Tuesday': 'Martes',\n",
    "  'Wednesday': 'Miercoles',\n",
    "  'Thursday': 'Jueves',\n",
    "  'Friday': 'Viernes',\n",
    "  'Saturday': 'Sabado',\n",
    "  'Sunday': 'Domingo',\n",
    "}\n",
    "\n",
    "dia_semana = []\n",
    "\n",
    "for i in fechas:\n",
    "  dia_semana.append(dict_dia[datetime.strptime(i, '%d/%m/%Y').strftime('%A')])\n",
    "\n",
    "df['DIA_SEMANA'] = dia_semana"
   ]
  },
  {
   "cell_type": "code",
   "execution_count": 46,
   "metadata": {},
   "outputs": [],
   "source": [
    "#Creacion de la variable HORA\n",
    "df['HORA'] = horas"
   ]
  },
  {
   "cell_type": "code",
   "execution_count": 47,
   "metadata": {},
   "outputs": [],
   "source": [
    "#Eliminar la variable FECHA_ACCIDENTE\n",
    "df.drop(columns=['FECHA_ACCIDENTE'], inplace=True)"
   ]
  },
  {
   "cell_type": "code",
   "execution_count": 48,
   "metadata": {},
   "outputs": [
    {
     "data": {
      "text/html": [
       "<div>\n",
       "<style scoped>\n",
       "    .dataframe tbody tr th:only-of-type {\n",
       "        vertical-align: middle;\n",
       "    }\n",
       "\n",
       "    .dataframe tbody tr th {\n",
       "        vertical-align: top;\n",
       "    }\n",
       "\n",
       "    .dataframe thead th {\n",
       "        text-align: right;\n",
       "    }\n",
       "</style>\n",
       "<table border=\"1\" class=\"dataframe\">\n",
       "  <thead>\n",
       "    <tr style=\"text-align: right;\">\n",
       "      <th></th>\n",
       "      <th>FECHA</th>\n",
       "      <th>SEMANA</th>\n",
       "      <th>DIA_SEMANA</th>\n",
       "      <th>HORA</th>\n",
       "    </tr>\n",
       "  </thead>\n",
       "  <tbody>\n",
       "    <tr>\n",
       "      <th>0</th>\n",
       "      <td>21/10/2015</td>\n",
       "      <td>42</td>\n",
       "      <td>Miercoles</td>\n",
       "      <td>05:58:00</td>\n",
       "    </tr>\n",
       "    <tr>\n",
       "      <th>1</th>\n",
       "      <td>05/11/2015</td>\n",
       "      <td>44</td>\n",
       "      <td>Jueves</td>\n",
       "      <td>03:00:00</td>\n",
       "    </tr>\n",
       "    <tr>\n",
       "      <th>2</th>\n",
       "      <td>21/10/2015</td>\n",
       "      <td>42</td>\n",
       "      <td>Miercoles</td>\n",
       "      <td>07:40:00</td>\n",
       "    </tr>\n",
       "    <tr>\n",
       "      <th>3</th>\n",
       "      <td>21/10/2015</td>\n",
       "      <td>42</td>\n",
       "      <td>Miercoles</td>\n",
       "      <td>12:00:00</td>\n",
       "    </tr>\n",
       "    <tr>\n",
       "      <th>4</th>\n",
       "      <td>03/11/2015</td>\n",
       "      <td>44</td>\n",
       "      <td>Martes</td>\n",
       "      <td>06:16:00</td>\n",
       "    </tr>\n",
       "  </tbody>\n",
       "</table>\n",
       "</div>"
      ],
      "text/plain": [
       "        FECHA SEMANA DIA_SEMANA      HORA\n",
       "0  21/10/2015     42  Miercoles  05:58:00\n",
       "1  05/11/2015     44     Jueves  03:00:00\n",
       "2  21/10/2015     42  Miercoles  07:40:00\n",
       "3  21/10/2015     42  Miercoles  12:00:00\n",
       "4  03/11/2015     44     Martes  06:16:00"
      ]
     },
     "execution_count": 48,
     "metadata": {},
     "output_type": "execute_result"
    }
   ],
   "source": [
    "#Verificar que las variables se hayan creado correctamente\n",
    "df[['FECHA', 'SEMANA', 'DIA_SEMANA', 'HORA']].head()"
   ]
  },
  {
   "cell_type": "code",
   "execution_count": 49,
   "metadata": {},
   "outputs": [
    {
     "data": {
      "text/plain": [
       "(249556, 13)"
      ]
     },
     "execution_count": 49,
     "metadata": {},
     "output_type": "execute_result"
    }
   ],
   "source": [
    "#Verificar que no ha habido perdida de datos\n",
    "df.shape"
   ]
  },
  {
   "cell_type": "code",
   "execution_count": 50,
   "metadata": {},
   "outputs": [
    {
     "data": {
      "text/plain": [
       "AÑO                   0\n",
       "CLASE_ACCIDENTE       0\n",
       "DIRECCION             0\n",
       "DISEÑO                0\n",
       "GRAVEDAD_ACCIDENTE    0\n",
       "MES                   0\n",
       "BARRIO                0\n",
       "COMUNA                0\n",
       "LOCATION              0\n",
       "FECHA                 0\n",
       "SEMANA                0\n",
       "DIA_SEMANA            0\n",
       "HORA                  0\n",
       "dtype: int64"
      ]
     },
     "execution_count": 50,
     "metadata": {},
     "output_type": "execute_result"
    }
   ],
   "source": [
    "#Verificar que no hay valores nulos en las nuevas variables\n",
    "df.isna().sum()"
   ]
  },
  {
   "cell_type": "markdown",
   "metadata": {},
   "source": [
    "### 1.5.2 Separacion de la variable LOCATION en las nuevas variables LATITUD Y LONGITUD"
   ]
  },
  {
   "cell_type": "code",
   "execution_count": 51,
   "metadata": {},
   "outputs": [],
   "source": [
    "#Extraccion de los datos de la variable LOCATION\n",
    "location = df.LOCATION.values"
   ]
  },
  {
   "cell_type": "code",
   "execution_count": 52,
   "metadata": {},
   "outputs": [],
   "source": [
    "#Extraccion de los datos de la variable LOCATION\n",
    "location = [ast.literal_eval(i) for i in location]"
   ]
  },
  {
   "cell_type": "code",
   "execution_count": 53,
   "metadata": {},
   "outputs": [],
   "source": [
    "#Creacion de las variables LATITUD y LONGITUD\n",
    "latitud = []\n",
    "longitud = []\n",
    "\n",
    "for i, j in location:\n",
    "  longitud.append(i)\n",
    "  latitud.append(j)\n",
    "  \n",
    "df['LATITUD'] = latitud\n",
    "df['LONGITUD'] = longitud"
   ]
  },
  {
   "cell_type": "code",
   "execution_count": 54,
   "metadata": {},
   "outputs": [],
   "source": [
    "#Eliminar la variable LOCATION\n",
    "df.drop(columns=['LOCATION'], inplace=True)"
   ]
  },
  {
   "cell_type": "code",
   "execution_count": 55,
   "metadata": {},
   "outputs": [
    {
     "data": {
      "text/html": [
       "<div>\n",
       "<style scoped>\n",
       "    .dataframe tbody tr th:only-of-type {\n",
       "        vertical-align: middle;\n",
       "    }\n",
       "\n",
       "    .dataframe tbody tr th {\n",
       "        vertical-align: top;\n",
       "    }\n",
       "\n",
       "    .dataframe thead th {\n",
       "        text-align: right;\n",
       "    }\n",
       "</style>\n",
       "<table border=\"1\" class=\"dataframe\">\n",
       "  <thead>\n",
       "    <tr style=\"text-align: right;\">\n",
       "      <th></th>\n",
       "      <th>LATITUD</th>\n",
       "      <th>LONGITUD</th>\n",
       "    </tr>\n",
       "  </thead>\n",
       "  <tbody>\n",
       "    <tr>\n",
       "      <th>0</th>\n",
       "      <td>6.243123</td>\n",
       "      <td>-75.568801</td>\n",
       "    </tr>\n",
       "    <tr>\n",
       "      <th>1</th>\n",
       "      <td>6.228700</td>\n",
       "      <td>-75.569388</td>\n",
       "    </tr>\n",
       "    <tr>\n",
       "      <th>2</th>\n",
       "      <td>6.298695</td>\n",
       "      <td>-75.550391</td>\n",
       "    </tr>\n",
       "    <tr>\n",
       "      <th>3</th>\n",
       "      <td>6.300194</td>\n",
       "      <td>-75.544220</td>\n",
       "    </tr>\n",
       "    <tr>\n",
       "      <th>4</th>\n",
       "      <td>6.216992</td>\n",
       "      <td>-75.578181</td>\n",
       "    </tr>\n",
       "  </tbody>\n",
       "</table>\n",
       "</div>"
      ],
      "text/plain": [
       "    LATITUD   LONGITUD\n",
       "0  6.243123 -75.568801\n",
       "1  6.228700 -75.569388\n",
       "2  6.298695 -75.550391\n",
       "3  6.300194 -75.544220\n",
       "4  6.216992 -75.578181"
      ]
     },
     "execution_count": 55,
     "metadata": {},
     "output_type": "execute_result"
    }
   ],
   "source": [
    "#Verificar que las variables se hayan creado correctamente\n",
    "df[['LATITUD', 'LONGITUD']].head()"
   ]
  },
  {
   "cell_type": "code",
   "execution_count": 56,
   "metadata": {},
   "outputs": [
    {
     "data": {
      "text/plain": [
       "(249556, 14)"
      ]
     },
     "execution_count": 56,
     "metadata": {},
     "output_type": "execute_result"
    }
   ],
   "source": [
    "#Verificar que no ha habido perdida de datos\n",
    "df.shape"
   ]
  },
  {
   "cell_type": "code",
   "execution_count": 57,
   "metadata": {},
   "outputs": [
    {
     "data": {
      "text/plain": [
       "AÑO                   0\n",
       "CLASE_ACCIDENTE       0\n",
       "DIRECCION             0\n",
       "DISEÑO                0\n",
       "GRAVEDAD_ACCIDENTE    0\n",
       "MES                   0\n",
       "BARRIO                0\n",
       "COMUNA                0\n",
       "FECHA                 0\n",
       "SEMANA                0\n",
       "DIA_SEMANA            0\n",
       "HORA                  0\n",
       "LATITUD               0\n",
       "LONGITUD              0\n",
       "dtype: int64"
      ]
     },
     "execution_count": 57,
     "metadata": {},
     "output_type": "execute_result"
    }
   ],
   "source": [
    "#Verificar que no hay valores nulos en las nuevas variables\n",
    "df.isna().sum()"
   ]
  },
  {
   "cell_type": "markdown",
   "metadata": {},
   "source": [
    "### 1.5.3 Creacion de la variable fechas festivas"
   ]
  },
  {
   "cell_type": "code",
   "execution_count": null,
   "metadata": {},
   "outputs": [],
   "source": []
  },
  {
   "cell_type": "code",
   "execution_count": 58,
   "metadata": {},
   "outputs": [],
   "source": [
    "#Uso de la libreria holidays para identificar los dias festivos en Colombia\n",
    "dias_festivos = holidays.country_holidays('CO', years=[2014, 2015, 2016, 2017, 2018, 2019, 2020])"
   ]
  },
  {
   "cell_type": "code",
   "execution_count": 59,
   "metadata": {},
   "outputs": [],
   "source": [
    "#Formateo de la variable FECHA para que sea reconocida por la libreria holidays\n",
    "fechas_formateadas = [datetime.strptime(i, '%d/%m/%Y').strftime(\"%Y/%m/%d\") for i in fechas]"
   ]
  },
  {
   "cell_type": "code",
   "execution_count": 60,
   "metadata": {},
   "outputs": [],
   "source": [
    "#extraccion de las fechas festivas en el dataset \n",
    "fechas_festivas_extraidas = []\n",
    "\n",
    "for i in fechas_formateadas:\n",
    "  if i in dias_festivos:\n",
    "    if i not in fechas_festivas_extraidas:\n",
    "      fechas_festivas_extraidas.append(i)"
   ]
  },
  {
   "cell_type": "code",
   "execution_count": 61,
   "metadata": {},
   "outputs": [],
   "source": [
    "#Formateo de la variable fechas_festivas_extraidas para que concuerde con el dataset\n",
    "fechas_festivas_extraidas = [datetime.strptime(i, '%Y/%m/%d').strftime(\"%d/%m/%Y\") for i in fechas_festivas_extraidas]"
   ]
  },
  {
   "cell_type": "code",
   "execution_count": 62,
   "metadata": {},
   "outputs": [],
   "source": [
    "#Automatizar la creacion de fechas festivas que no son marcadas por la libreria holidays para cada año\n",
    "years=[\"2014\", \"2015\", \"2016\", \"2017\", \"2018\", \"2019\", \"2020\"]\n",
    "fechas_sin_año = [\"31/12\", \"24/12\", \"31/10\", \"16/09\", \"07/12\"]\n",
    "\n",
    "fechas_festivas = {}\n",
    "\n",
    "for i in years:\n",
    "  for j in fechas_sin_año:\n",
    "    fechas_festivas[j + '/' + i] = 'Fecha Festiva'\n"
   ]
  },
  {
   "cell_type": "code",
   "execution_count": 63,
   "metadata": {},
   "outputs": [],
   "source": [
    "#Agregar las otras fechas festivas al diccionario\n",
    "for i in fechas_festivas_extraidas:\n",
    "  fechas_festivas[i] = 'Fecha Festiva'"
   ]
  },
  {
   "cell_type": "code",
   "execution_count": 64,
   "metadata": {},
   "outputs": [],
   "source": [
    "#Creacion de la variable FECHA_FESTIVA en el dataset\n",
    "df['FECHA_FESTIVA'] = df['FECHA'].apply(lambda x: fechas_festivas[x] if x in fechas_festivas else 'Fecha Normal')"
   ]
  },
  {
   "cell_type": "code",
   "execution_count": 65,
   "metadata": {},
   "outputs": [
    {
     "data": {
      "text/html": [
       "<div>\n",
       "<style scoped>\n",
       "    .dataframe tbody tr th:only-of-type {\n",
       "        vertical-align: middle;\n",
       "    }\n",
       "\n",
       "    .dataframe tbody tr th {\n",
       "        vertical-align: top;\n",
       "    }\n",
       "\n",
       "    .dataframe thead th {\n",
       "        text-align: right;\n",
       "    }\n",
       "</style>\n",
       "<table border=\"1\" class=\"dataframe\">\n",
       "  <thead>\n",
       "    <tr style=\"text-align: right;\">\n",
       "      <th></th>\n",
       "      <th>FECHA</th>\n",
       "      <th>FECHA_FESTIVA</th>\n",
       "    </tr>\n",
       "  </thead>\n",
       "  <tbody>\n",
       "    <tr>\n",
       "      <th>0</th>\n",
       "      <td>21/10/2015</td>\n",
       "      <td>Fecha Normal</td>\n",
       "    </tr>\n",
       "    <tr>\n",
       "      <th>1</th>\n",
       "      <td>05/11/2015</td>\n",
       "      <td>Fecha Normal</td>\n",
       "    </tr>\n",
       "    <tr>\n",
       "      <th>2</th>\n",
       "      <td>21/10/2015</td>\n",
       "      <td>Fecha Normal</td>\n",
       "    </tr>\n",
       "    <tr>\n",
       "      <th>3</th>\n",
       "      <td>21/10/2015</td>\n",
       "      <td>Fecha Normal</td>\n",
       "    </tr>\n",
       "    <tr>\n",
       "      <th>4</th>\n",
       "      <td>03/11/2015</td>\n",
       "      <td>Fecha Normal</td>\n",
       "    </tr>\n",
       "  </tbody>\n",
       "</table>\n",
       "</div>"
      ],
      "text/plain": [
       "        FECHA FECHA_FESTIVA\n",
       "0  21/10/2015  Fecha Normal\n",
       "1  05/11/2015  Fecha Normal\n",
       "2  21/10/2015  Fecha Normal\n",
       "3  21/10/2015  Fecha Normal\n",
       "4  03/11/2015  Fecha Normal"
      ]
     },
     "execution_count": 65,
     "metadata": {},
     "output_type": "execute_result"
    }
   ],
   "source": [
    "#Verificar que la variable fue creada correctamente\n",
    "df[['FECHA', 'FECHA_FESTIVA']].head()"
   ]
  },
  {
   "cell_type": "code",
   "execution_count": 66,
   "metadata": {},
   "outputs": [
    {
     "data": {
      "text/plain": [
       "(249556, 15)"
      ]
     },
     "execution_count": 66,
     "metadata": {},
     "output_type": "execute_result"
    }
   ],
   "source": [
    "#Verificar que no hay perdida de datos\n",
    "df.shape"
   ]
  },
  {
   "cell_type": "code",
   "execution_count": 67,
   "metadata": {},
   "outputs": [
    {
     "data": {
      "text/plain": [
       "AÑO                   0\n",
       "CLASE_ACCIDENTE       0\n",
       "DIRECCION             0\n",
       "DISEÑO                0\n",
       "GRAVEDAD_ACCIDENTE    0\n",
       "MES                   0\n",
       "BARRIO                0\n",
       "COMUNA                0\n",
       "FECHA                 0\n",
       "SEMANA                0\n",
       "DIA_SEMANA            0\n",
       "HORA                  0\n",
       "LATITUD               0\n",
       "LONGITUD              0\n",
       "FECHA_FESTIVA         0\n",
       "dtype: int64"
      ]
     },
     "execution_count": 67,
     "metadata": {},
     "output_type": "execute_result"
    }
   ],
   "source": [
    "#Verificar que no hay valores nulos en la nueva variable\n",
    "df.isna().sum()"
   ]
  },
  {
   "cell_type": "code",
   "execution_count": 68,
   "metadata": {},
   "outputs": [
    {
     "data": {
      "text/html": [
       "<div>\n",
       "<style scoped>\n",
       "    .dataframe tbody tr th:only-of-type {\n",
       "        vertical-align: middle;\n",
       "    }\n",
       "\n",
       "    .dataframe tbody tr th {\n",
       "        vertical-align: top;\n",
       "    }\n",
       "\n",
       "    .dataframe thead th {\n",
       "        text-align: right;\n",
       "    }\n",
       "</style>\n",
       "<table border=\"1\" class=\"dataframe\">\n",
       "  <thead>\n",
       "    <tr style=\"text-align: right;\">\n",
       "      <th></th>\n",
       "      <th>AÑO</th>\n",
       "      <th>CLASE_ACCIDENTE</th>\n",
       "      <th>DIRECCION</th>\n",
       "      <th>DISEÑO</th>\n",
       "      <th>GRAVEDAD_ACCIDENTE</th>\n",
       "      <th>MES</th>\n",
       "      <th>BARRIO</th>\n",
       "      <th>COMUNA</th>\n",
       "      <th>FECHA</th>\n",
       "      <th>SEMANA</th>\n",
       "      <th>DIA_SEMANA</th>\n",
       "      <th>HORA</th>\n",
       "      <th>LATITUD</th>\n",
       "      <th>LONGITUD</th>\n",
       "      <th>FECHA_FESTIVA</th>\n",
       "    </tr>\n",
       "  </thead>\n",
       "  <tbody>\n",
       "    <tr>\n",
       "      <th>0</th>\n",
       "      <td>2015</td>\n",
       "      <td>Caida Ocupante</td>\n",
       "      <td>CR 46 CL 43</td>\n",
       "      <td>Tramo de via</td>\n",
       "      <td>Con heridos</td>\n",
       "      <td>10</td>\n",
       "      <td>Barrio Colón</td>\n",
       "      <td>La Candelaria</td>\n",
       "      <td>21/10/2015</td>\n",
       "      <td>42</td>\n",
       "      <td>Miercoles</td>\n",
       "      <td>05:58:00</td>\n",
       "      <td>6.243123</td>\n",
       "      <td>-75.568801</td>\n",
       "      <td>Fecha Normal</td>\n",
       "    </tr>\n",
       "    <tr>\n",
       "      <th>1</th>\n",
       "      <td>2015</td>\n",
       "      <td>Choque</td>\n",
       "      <td>CR 43 A CL 29</td>\n",
       "      <td>Tramo de via</td>\n",
       "      <td>Solo daños</td>\n",
       "      <td>11</td>\n",
       "      <td>San Diego</td>\n",
       "      <td>La Candelaria</td>\n",
       "      <td>05/11/2015</td>\n",
       "      <td>44</td>\n",
       "      <td>Jueves</td>\n",
       "      <td>03:00:00</td>\n",
       "      <td>6.228700</td>\n",
       "      <td>-75.569388</td>\n",
       "      <td>Fecha Normal</td>\n",
       "    </tr>\n",
       "    <tr>\n",
       "      <th>2</th>\n",
       "      <td>2015</td>\n",
       "      <td>Otro</td>\n",
       "      <td>CR 46 CL 37</td>\n",
       "      <td>Tramo de via</td>\n",
       "      <td>Con heridos</td>\n",
       "      <td>10</td>\n",
       "      <td>La Francia</td>\n",
       "      <td>Santa Cruz</td>\n",
       "      <td>21/10/2015</td>\n",
       "      <td>42</td>\n",
       "      <td>Miercoles</td>\n",
       "      <td>07:40:00</td>\n",
       "      <td>6.298695</td>\n",
       "      <td>-75.550391</td>\n",
       "      <td>Fecha Normal</td>\n",
       "    </tr>\n",
       "    <tr>\n",
       "      <th>3</th>\n",
       "      <td>2015</td>\n",
       "      <td>Atropello</td>\n",
       "      <td>CR 34 CL 112</td>\n",
       "      <td>Tramo de via</td>\n",
       "      <td>Con heridos</td>\n",
       "      <td>10</td>\n",
       "      <td>Santo Domingo Savio No. 1</td>\n",
       "      <td>Popular</td>\n",
       "      <td>21/10/2015</td>\n",
       "      <td>42</td>\n",
       "      <td>Miercoles</td>\n",
       "      <td>12:00:00</td>\n",
       "      <td>6.300194</td>\n",
       "      <td>-75.544220</td>\n",
       "      <td>Fecha Normal</td>\n",
       "    </tr>\n",
       "    <tr>\n",
       "      <th>4</th>\n",
       "      <td>2015</td>\n",
       "      <td>Choque</td>\n",
       "      <td>CR 50 CL 14</td>\n",
       "      <td>Tramo de via</td>\n",
       "      <td>Solo daños</td>\n",
       "      <td>11</td>\n",
       "      <td>Santa Fé</td>\n",
       "      <td>Guayabal</td>\n",
       "      <td>03/11/2015</td>\n",
       "      <td>44</td>\n",
       "      <td>Martes</td>\n",
       "      <td>06:16:00</td>\n",
       "      <td>6.216992</td>\n",
       "      <td>-75.578181</td>\n",
       "      <td>Fecha Normal</td>\n",
       "    </tr>\n",
       "  </tbody>\n",
       "</table>\n",
       "</div>"
      ],
      "text/plain": [
       "    AÑO CLASE_ACCIDENTE      DIRECCION        DISEÑO GRAVEDAD_ACCIDENTE  MES  \\\n",
       "0  2015  Caida Ocupante    CR 46 CL 43  Tramo de via        Con heridos   10   \n",
       "1  2015          Choque  CR 43 A CL 29  Tramo de via         Solo daños   11   \n",
       "2  2015            Otro    CR 46 CL 37  Tramo de via        Con heridos   10   \n",
       "3  2015       Atropello   CR 34 CL 112  Tramo de via        Con heridos   10   \n",
       "4  2015          Choque    CR 50 CL 14  Tramo de via         Solo daños   11   \n",
       "\n",
       "                      BARRIO         COMUNA       FECHA SEMANA DIA_SEMANA  \\\n",
       "0               Barrio Colón  La Candelaria  21/10/2015     42  Miercoles   \n",
       "1                  San Diego  La Candelaria  05/11/2015     44     Jueves   \n",
       "2                 La Francia     Santa Cruz  21/10/2015     42  Miercoles   \n",
       "3  Santo Domingo Savio No. 1        Popular  21/10/2015     42  Miercoles   \n",
       "4                   Santa Fé       Guayabal  03/11/2015     44     Martes   \n",
       "\n",
       "       HORA   LATITUD   LONGITUD FECHA_FESTIVA  \n",
       "0  05:58:00  6.243123 -75.568801  Fecha Normal  \n",
       "1  03:00:00  6.228700 -75.569388  Fecha Normal  \n",
       "2  07:40:00  6.298695 -75.550391  Fecha Normal  \n",
       "3  12:00:00  6.300194 -75.544220  Fecha Normal  \n",
       "4  06:16:00  6.216992 -75.578181  Fecha Normal  "
      ]
     },
     "execution_count": 68,
     "metadata": {},
     "output_type": "execute_result"
    }
   ],
   "source": [
    "#Vistazo al dataset procesado\n",
    "df.head()"
   ]
  },
  {
   "cell_type": "code",
   "execution_count": 69,
   "metadata": {},
   "outputs": [],
   "source": [
    "#Guardar el dataset procesado\n",
    "df.to_csv('incidentes_viales_procesado.csv', sep=',', encoding='utf-8', index=False)"
   ]
  },
  {
   "cell_type": "code",
   "execution_count": 70,
   "metadata": {},
   "outputs": [
    {
     "name": "stderr",
     "output_type": "stream",
     "text": [
      "C:\\Users\\pixel\\AppData\\Local\\Temp\\ipykernel_1456\\513285256.py:1: FutureWarning: The provided callable <built-in function min> is currently using Series.min. In a future version of pandas, the provided callable will be used directly. To keep current behavior pass 'min' instead.\n",
      "  df.agg([min, max])\n",
      "C:\\Users\\pixel\\AppData\\Local\\Temp\\ipykernel_1456\\513285256.py:1: FutureWarning: The provided callable <built-in function max> is currently using Series.max. In a future version of pandas, the provided callable will be used directly. To keep current behavior pass 'max' instead.\n",
      "  df.agg([min, max])\n"
     ]
    },
    {
     "data": {
      "text/html": [
       "<div>\n",
       "<style scoped>\n",
       "    .dataframe tbody tr th:only-of-type {\n",
       "        vertical-align: middle;\n",
       "    }\n",
       "\n",
       "    .dataframe tbody tr th {\n",
       "        vertical-align: top;\n",
       "    }\n",
       "\n",
       "    .dataframe thead th {\n",
       "        text-align: right;\n",
       "    }\n",
       "</style>\n",
       "<table border=\"1\" class=\"dataframe\">\n",
       "  <thead>\n",
       "    <tr style=\"text-align: right;\">\n",
       "      <th></th>\n",
       "      <th>AÑO</th>\n",
       "      <th>CLASE_ACCIDENTE</th>\n",
       "      <th>DIRECCION</th>\n",
       "      <th>DISEÑO</th>\n",
       "      <th>GRAVEDAD_ACCIDENTE</th>\n",
       "      <th>MES</th>\n",
       "      <th>BARRIO</th>\n",
       "      <th>COMUNA</th>\n",
       "      <th>FECHA</th>\n",
       "      <th>SEMANA</th>\n",
       "      <th>DIA_SEMANA</th>\n",
       "      <th>HORA</th>\n",
       "      <th>LATITUD</th>\n",
       "      <th>LONGITUD</th>\n",
       "      <th>FECHA_FESTIVA</th>\n",
       "    </tr>\n",
       "  </thead>\n",
       "  <tbody>\n",
       "    <tr>\n",
       "      <th>min</th>\n",
       "      <td>2014</td>\n",
       "      <td>Atropello</td>\n",
       "      <td>Belén Aguas Frías - El Astillero</td>\n",
       "      <td>Ciclo Ruta</td>\n",
       "      <td>Con heridos</td>\n",
       "      <td>1</td>\n",
       "      <td>0</td>\n",
       "      <td>Aranjuez</td>\n",
       "      <td>01/01/2015</td>\n",
       "      <td>00</td>\n",
       "      <td>Domingo</td>\n",
       "      <td>00:00:00</td>\n",
       "      <td>6.166626</td>\n",
       "      <td>-75.703776</td>\n",
       "      <td>Fecha Festiva</td>\n",
       "    </tr>\n",
       "    <tr>\n",
       "      <th>max</th>\n",
       "      <td>2020</td>\n",
       "      <td>Volcamiento</td>\n",
       "      <td>Vía Las Palmas Km 10 + 900</td>\n",
       "      <td>Via peatonal</td>\n",
       "      <td>Solo daños</td>\n",
       "      <td>12</td>\n",
       "      <td>Área de Expansión San Antonio de Prado</td>\n",
       "      <td>Villa Hermosa</td>\n",
       "      <td>31/12/2019</td>\n",
       "      <td>53</td>\n",
       "      <td>Viernes</td>\n",
       "      <td>23:59:00</td>\n",
       "      <td>6.367985</td>\n",
       "      <td>-75.500234</td>\n",
       "      <td>Fecha Normal</td>\n",
       "    </tr>\n",
       "  </tbody>\n",
       "</table>\n",
       "</div>"
      ],
      "text/plain": [
       "      AÑO CLASE_ACCIDENTE                         DIRECCION        DISEÑO  \\\n",
       "min  2014       Atropello  Belén Aguas Frías - El Astillero    Ciclo Ruta   \n",
       "max  2020     Volcamiento        Vía Las Palmas Km 10 + 900  Via peatonal   \n",
       "\n",
       "    GRAVEDAD_ACCIDENTE  MES                                  BARRIO  \\\n",
       "min        Con heridos    1                                       0   \n",
       "max         Solo daños   12  Área de Expansión San Antonio de Prado   \n",
       "\n",
       "            COMUNA       FECHA SEMANA DIA_SEMANA      HORA   LATITUD  \\\n",
       "min       Aranjuez  01/01/2015     00    Domingo  00:00:00  6.166626   \n",
       "max  Villa Hermosa  31/12/2019     53    Viernes  23:59:00  6.367985   \n",
       "\n",
       "      LONGITUD  FECHA_FESTIVA  \n",
       "min -75.703776  Fecha Festiva  \n",
       "max -75.500234   Fecha Normal  "
      ]
     },
     "execution_count": 70,
     "metadata": {},
     "output_type": "execute_result"
    }
   ],
   "source": [
    "df.agg([min, max])"
   ]
  },
  {
   "cell_type": "markdown",
   "metadata": {},
   "source": [
    "<center>\n",
    "    ## X.1 Modelado\n",
    "<center>"
   ]
  },
  {
   "cell_type": "code",
   "execution_count": 71,
   "metadata": {},
   "outputs": [],
   "source": [
    "encoder = OrdinalEncoder()"
   ]
  },
  {
   "cell_type": "code",
   "execution_count": 72,
   "metadata": {},
   "outputs": [],
   "source": [
    "columnas_categoricas =['CLASE_ACCIDENTE', 'DISEÑO', 'COMUNA','FECHA_FESTIVA','DIA_SEMANA']\n",
    "df[columnas_categoricas] = encoder.fit_transform(df[columnas_categoricas])"
   ]
  },
  {
   "cell_type": "code",
   "execution_count": 73,
   "metadata": {},
   "outputs": [],
   "source": [
    "train_data = df[df['AÑO'] != '2020']\n",
    "valid_data = df[df['AÑO'] == '2020']"
   ]
  },
  {
   "cell_type": "markdown",
   "metadata": {},
   "source": [
    "## Modelo mensual"
   ]
  },
  {
   "cell_type": "code",
   "execution_count": 74,
   "metadata": {},
   "outputs": [
    {
     "name": "stderr",
     "output_type": "stream",
     "text": [
      "C:\\Users\\pixel\\AppData\\Local\\Temp\\ipykernel_1456\\2857217850.py:8: SettingWithCopyWarning: \n",
      "A value is trying to be set on a copy of a slice from a DataFrame.\n",
      "Try using .loc[row_indexer,col_indexer] = value instead\n",
      "\n",
      "See the caveats in the documentation: https://pandas.pydata.org/pandas-docs/stable/user_guide/indexing.html#returning-a-view-versus-a-copy\n",
      "  df_anual['GRAVEDAD_ACCIDENTE'] = df_anual['GRAVEDAD_ACCIDENTE'].map(mapeo_gravedad)\n",
      "C:\\Users\\pixel\\AppData\\Local\\Temp\\ipykernel_1456\\2857217850.py:9: SettingWithCopyWarning: \n",
      "A value is trying to be set on a copy of a slice from a DataFrame.\n",
      "Try using .loc[row_indexer,col_indexer] = value instead\n",
      "\n",
      "See the caveats in the documentation: https://pandas.pydata.org/pandas-docs/stable/user_guide/indexing.html#returning-a-view-versus-a-copy\n",
      "  df_valid_anual['GRAVEDAD_ACCIDENTE'] = df_valid_anual['GRAVEDAD_ACCIDENTE'].map(mapeo_gravedad)\n"
     ]
    }
   ],
   "source": [
    "columnas_seleccionadas = ['AÑO', 'CLASE_ACCIDENTE', 'DISEÑO', 'GRAVEDAD_ACCIDENTE', 'COMUNA', 'FECHA_FESTIVA','DIA_SEMANA']\n",
    "df_anual = train_data[columnas_seleccionadas]\n",
    "df_valid_anual=valid_data[columnas_seleccionadas]\n",
    "# Crear un diccionario de mapeo\n",
    "mapeo_gravedad = {'Solo daños': 1, 'Con heridos': 0, 'Con muertos': 0}  # Agrega todas las categorías que quieras mapear\n",
    "\n",
    "# Aplicar el mapeo a la columna 'gravedad_accidente'\n",
    "df_anual['GRAVEDAD_ACCIDENTE'] = df_anual['GRAVEDAD_ACCIDENTE'].map(mapeo_gravedad)\n",
    "df_valid_anual['GRAVEDAD_ACCIDENTE'] = df_valid_anual['GRAVEDAD_ACCIDENTE'].map(mapeo_gravedad)"
   ]
  },
  {
   "cell_type": "code",
   "execution_count": 75,
   "metadata": {},
   "outputs": [
    {
     "data": {
      "text/html": [
       "<div>\n",
       "<style scoped>\n",
       "    .dataframe tbody tr th:only-of-type {\n",
       "        vertical-align: middle;\n",
       "    }\n",
       "\n",
       "    .dataframe tbody tr th {\n",
       "        vertical-align: top;\n",
       "    }\n",
       "\n",
       "    .dataframe thead th {\n",
       "        text-align: right;\n",
       "    }\n",
       "</style>\n",
       "<table border=\"1\" class=\"dataframe\">\n",
       "  <thead>\n",
       "    <tr style=\"text-align: right;\">\n",
       "      <th></th>\n",
       "      <th>AÑO</th>\n",
       "      <th>CLASE_ACCIDENTE</th>\n",
       "      <th>DISEÑO</th>\n",
       "      <th>GRAVEDAD_ACCIDENTE</th>\n",
       "      <th>COMUNA</th>\n",
       "      <th>FECHA_FESTIVA</th>\n",
       "      <th>DIA_SEMANA</th>\n",
       "    </tr>\n",
       "  </thead>\n",
       "  <tbody>\n",
       "    <tr>\n",
       "      <th>0</th>\n",
       "      <td>2015</td>\n",
       "      <td>1.0</td>\n",
       "      <td>9.0</td>\n",
       "      <td>0</td>\n",
       "      <td>13.0</td>\n",
       "      <td>1.0</td>\n",
       "      <td>4.0</td>\n",
       "    </tr>\n",
       "    <tr>\n",
       "      <th>1</th>\n",
       "      <td>2015</td>\n",
       "      <td>2.0</td>\n",
       "      <td>9.0</td>\n",
       "      <td>1</td>\n",
       "      <td>13.0</td>\n",
       "      <td>1.0</td>\n",
       "      <td>1.0</td>\n",
       "    </tr>\n",
       "    <tr>\n",
       "      <th>2</th>\n",
       "      <td>2015</td>\n",
       "      <td>4.0</td>\n",
       "      <td>9.0</td>\n",
       "      <td>0</td>\n",
       "      <td>19.0</td>\n",
       "      <td>1.0</td>\n",
       "      <td>4.0</td>\n",
       "    </tr>\n",
       "    <tr>\n",
       "      <th>3</th>\n",
       "      <td>2015</td>\n",
       "      <td>0.0</td>\n",
       "      <td>9.0</td>\n",
       "      <td>0</td>\n",
       "      <td>16.0</td>\n",
       "      <td>1.0</td>\n",
       "      <td>4.0</td>\n",
       "    </tr>\n",
       "    <tr>\n",
       "      <th>4</th>\n",
       "      <td>2015</td>\n",
       "      <td>2.0</td>\n",
       "      <td>9.0</td>\n",
       "      <td>1</td>\n",
       "      <td>11.0</td>\n",
       "      <td>1.0</td>\n",
       "      <td>3.0</td>\n",
       "    </tr>\n",
       "  </tbody>\n",
       "</table>\n",
       "</div>"
      ],
      "text/plain": [
       "    AÑO  CLASE_ACCIDENTE  DISEÑO  GRAVEDAD_ACCIDENTE  COMUNA  FECHA_FESTIVA  \\\n",
       "0  2015              1.0     9.0                   0    13.0            1.0   \n",
       "1  2015              2.0     9.0                   1    13.0            1.0   \n",
       "2  2015              4.0     9.0                   0    19.0            1.0   \n",
       "3  2015              0.0     9.0                   0    16.0            1.0   \n",
       "4  2015              2.0     9.0                   1    11.0            1.0   \n",
       "\n",
       "   DIA_SEMANA  \n",
       "0         4.0  \n",
       "1         1.0  \n",
       "2         4.0  \n",
       "3         4.0  \n",
       "4         3.0  "
      ]
     },
     "execution_count": 75,
     "metadata": {},
     "output_type": "execute_result"
    }
   ],
   "source": [
    "df_anual.head()"
   ]
  },
  {
   "cell_type": "code",
   "execution_count": 76,
   "metadata": {},
   "outputs": [
    {
     "data": {
      "image/png": "[encoded data removed]",
      "text/plain": [
       "<Figure size 864x720 with 2 Axes>"
      ]
     },
     "metadata": {
      "needs_background": "light"
     },
     "output_type": "display_data"
    }
   ],
   "source": [
    "fig, ax = plt.subplots(figsize=(12, 10))\n",
    "sns.heatmap(df_anual.corr(numeric_only=True), annot=True)\n",
    "plt.show()"
   ]
  },
  {
   "cell_type": "markdown",
   "metadata": {},
   "source": [
    "## Modelo Mensual"
   ]
  },
  {
   "cell_type": "code",
   "execution_count": 77,
   "metadata": {},
   "outputs": [
    {
     "name": "stderr",
     "output_type": "stream",
     "text": [
      "C:\\Users\\pixel\\AppData\\Local\\Temp\\ipykernel_1456\\852693660.py:8: SettingWithCopyWarning: \n",
      "A value is trying to be set on a copy of a slice from a DataFrame.\n",
      "Try using .loc[row_indexer,col_indexer] = value instead\n",
      "\n",
      "See the caveats in the documentation: https://pandas.pydata.org/pandas-docs/stable/user_guide/indexing.html#returning-a-view-versus-a-copy\n",
      "  df_mensual['GRAVEDAD_ACCIDENTE'] = df_mensual['GRAVEDAD_ACCIDENTE'].map(mapeo_gravedad)\n",
      "C:\\Users\\pixel\\AppData\\Local\\Temp\\ipykernel_1456\\852693660.py:9: SettingWithCopyWarning: \n",
      "A value is trying to be set on a copy of a slice from a DataFrame.\n",
      "Try using .loc[row_indexer,col_indexer] = value instead\n",
      "\n",
      "See the caveats in the documentation: https://pandas.pydata.org/pandas-docs/stable/user_guide/indexing.html#returning-a-view-versus-a-copy\n",
      "  df_valid_mensual['GRAVEDAD_ACCIDENTE'] = df_valid_mensual['GRAVEDAD_ACCIDENTE'].map(mapeo_gravedad)\n"
     ]
    }
   ],
   "source": [
    "columnas_seleccionadas = ['MES', 'CLASE_ACCIDENTE', 'DISEÑO', 'GRAVEDAD_ACCIDENTE', 'COMUNA', 'FECHA_FESTIVA','DIA_SEMANA']\n",
    "df_mensual = train_data[columnas_seleccionadas]\n",
    "df_valid_mensual=valid_data[columnas_seleccionadas]\n",
    "# Crear un diccionario de mapeo\n",
    "mapeo_gravedad = {'Solo daños': 1, 'Con heridos': 0, 'Con muertos': 0}  # Agrega todas las categorías que quieras mapear\n",
    "\n",
    "# Aplicar el mapeo a la columna 'gravedad_accidente'\n",
    "df_mensual['GRAVEDAD_ACCIDENTE'] = df_mensual['GRAVEDAD_ACCIDENTE'].map(mapeo_gravedad)\n",
    "df_valid_mensual['GRAVEDAD_ACCIDENTE'] = df_valid_mensual['GRAVEDAD_ACCIDENTE'].map(mapeo_gravedad)"
   ]
  },
  {
   "cell_type": "code",
   "execution_count": 78,
   "metadata": {},
   "outputs": [
    {
     "data": {
      "text/html": [
       "<div>\n",
       "<style scoped>\n",
       "    .dataframe tbody tr th:only-of-type {\n",
       "        vertical-align: middle;\n",
       "    }\n",
       "\n",
       "    .dataframe tbody tr th {\n",
       "        vertical-align: top;\n",
       "    }\n",
       "\n",
       "    .dataframe thead th {\n",
       "        text-align: right;\n",
       "    }\n",
       "</style>\n",
       "<table border=\"1\" class=\"dataframe\">\n",
       "  <thead>\n",
       "    <tr style=\"text-align: right;\">\n",
       "      <th></th>\n",
       "      <th>MES</th>\n",
       "      <th>CLASE_ACCIDENTE</th>\n",
       "      <th>DISEÑO</th>\n",
       "      <th>GRAVEDAD_ACCIDENTE</th>\n",
       "      <th>COMUNA</th>\n",
       "      <th>FECHA_FESTIVA</th>\n",
       "      <th>DIA_SEMANA</th>\n",
       "    </tr>\n",
       "  </thead>\n",
       "  <tbody>\n",
       "    <tr>\n",
       "      <th>0</th>\n",
       "      <td>10</td>\n",
       "      <td>1.0</td>\n",
       "      <td>9.0</td>\n",
       "      <td>0</td>\n",
       "      <td>13.0</td>\n",
       "      <td>1.0</td>\n",
       "      <td>4.0</td>\n",
       "    </tr>\n",
       "    <tr>\n",
       "      <th>1</th>\n",
       "      <td>11</td>\n",
       "      <td>2.0</td>\n",
       "      <td>9.0</td>\n",
       "      <td>1</td>\n",
       "      <td>13.0</td>\n",
       "      <td>1.0</td>\n",
       "      <td>1.0</td>\n",
       "    </tr>\n",
       "    <tr>\n",
       "      <th>2</th>\n",
       "      <td>10</td>\n",
       "      <td>4.0</td>\n",
       "      <td>9.0</td>\n",
       "      <td>0</td>\n",
       "      <td>19.0</td>\n",
       "      <td>1.0</td>\n",
       "      <td>4.0</td>\n",
       "    </tr>\n",
       "    <tr>\n",
       "      <th>3</th>\n",
       "      <td>10</td>\n",
       "      <td>0.0</td>\n",
       "      <td>9.0</td>\n",
       "      <td>0</td>\n",
       "      <td>16.0</td>\n",
       "      <td>1.0</td>\n",
       "      <td>4.0</td>\n",
       "    </tr>\n",
       "    <tr>\n",
       "      <th>4</th>\n",
       "      <td>11</td>\n",
       "      <td>2.0</td>\n",
       "      <td>9.0</td>\n",
       "      <td>1</td>\n",
       "      <td>11.0</td>\n",
       "      <td>1.0</td>\n",
       "      <td>3.0</td>\n",
       "    </tr>\n",
       "  </tbody>\n",
       "</table>\n",
       "</div>"
      ],
      "text/plain": [
       "   MES  CLASE_ACCIDENTE  DISEÑO  GRAVEDAD_ACCIDENTE  COMUNA  FECHA_FESTIVA  \\\n",
       "0   10              1.0     9.0                   0    13.0            1.0   \n",
       "1   11              2.0     9.0                   1    13.0            1.0   \n",
       "2   10              4.0     9.0                   0    19.0            1.0   \n",
       "3   10              0.0     9.0                   0    16.0            1.0   \n",
       "4   11              2.0     9.0                   1    11.0            1.0   \n",
       "\n",
       "   DIA_SEMANA  \n",
       "0         4.0  \n",
       "1         1.0  \n",
       "2         4.0  \n",
       "3         4.0  \n",
       "4         3.0  "
      ]
     },
     "execution_count": 78,
     "metadata": {},
     "output_type": "execute_result"
    }
   ],
   "source": [
    "df_mensual.head()"
   ]
  },
  {
   "cell_type": "code",
   "execution_count": 79,
   "metadata": {},
   "outputs": [
    {
     "data": {
      "image/png": "[encoded data removed]",
      "text/plain": [
       "<Figure size 864x720 with 2 Axes>"
      ]
     },
     "metadata": {
      "needs_background": "light"
     },
     "output_type": "display_data"
    }
   ],
   "source": [
    "fig, ax = plt.subplots(figsize=(12, 10))\n",
    "sns.heatmap(df_mensual.corr(numeric_only=True), annot=True)\n",
    "plt.show()"
   ]
  },
  {
   "cell_type": "markdown",
   "metadata": {},
   "source": [
    "## Modelo Semanal"
   ]
  },
  {
   "cell_type": "code",
   "execution_count": 80,
   "metadata": {},
   "outputs": [
    {
     "name": "stderr",
     "output_type": "stream",
     "text": [
      "C:\\Users\\pixel\\AppData\\Local\\Temp\\ipykernel_1456\\2437127889.py:8: SettingWithCopyWarning: \n",
      "A value is trying to be set on a copy of a slice from a DataFrame.\n",
      "Try using .loc[row_indexer,col_indexer] = value instead\n",
      "\n",
      "See the caveats in the documentation: https://pandas.pydata.org/pandas-docs/stable/user_guide/indexing.html#returning-a-view-versus-a-copy\n",
      "  df_semanal['GRAVEDAD_ACCIDENTE'] = df_semanal['GRAVEDAD_ACCIDENTE'].map(mapeo_gravedad)\n",
      "C:\\Users\\pixel\\AppData\\Local\\Temp\\ipykernel_1456\\2437127889.py:9: SettingWithCopyWarning: \n",
      "A value is trying to be set on a copy of a slice from a DataFrame.\n",
      "Try using .loc[row_indexer,col_indexer] = value instead\n",
      "\n",
      "See the caveats in the documentation: https://pandas.pydata.org/pandas-docs/stable/user_guide/indexing.html#returning-a-view-versus-a-copy\n",
      "  df_valid_semanal['GRAVEDAD_ACCIDENTE'] = df_valid_semanal['GRAVEDAD_ACCIDENTE'].map(mapeo_gravedad)\n"
     ]
    }
   ],
   "source": [
    "columnas_seleccionadas = ['SEMANA', 'CLASE_ACCIDENTE', 'DISEÑO', 'GRAVEDAD_ACCIDENTE', 'COMUNA', 'FECHA_FESTIVA','DIA_SEMANA']\n",
    "df_semanal = train_data[columnas_seleccionadas]\n",
    "df_valid_semanal =valid_data[columnas_seleccionadas]\n",
    "# Crear un diccionario de mapeo\n",
    "mapeo_gravedad = {'Solo daños': 1, 'Con heridos': 0, 'Con muertos': 0}  # Agrega todas las categorías que quieras mapear\n",
    "\n",
    "# Aplicar el mapeo a la columna 'gravedad_accidente'\n",
    "df_semanal['GRAVEDAD_ACCIDENTE'] = df_semanal['GRAVEDAD_ACCIDENTE'].map(mapeo_gravedad)\n",
    "df_valid_semanal['GRAVEDAD_ACCIDENTE'] = df_valid_semanal['GRAVEDAD_ACCIDENTE'].map(mapeo_gravedad)"
   ]
  },
  {
   "cell_type": "code",
   "execution_count": 81,
   "metadata": {},
   "outputs": [
    {
     "data": {
      "text/html": [
       "<div>\n",
       "<style scoped>\n",
       "    .dataframe tbody tr th:only-of-type {\n",
       "        vertical-align: middle;\n",
       "    }\n",
       "\n",
       "    .dataframe tbody tr th {\n",
       "        vertical-align: top;\n",
       "    }\n",
       "\n",
       "    .dataframe thead th {\n",
       "        text-align: right;\n",
       "    }\n",
       "</style>\n",
       "<table border=\"1\" class=\"dataframe\">\n",
       "  <thead>\n",
       "    <tr style=\"text-align: right;\">\n",
       "      <th></th>\n",
       "      <th>SEMANA</th>\n",
       "      <th>CLASE_ACCIDENTE</th>\n",
       "      <th>DISEÑO</th>\n",
       "      <th>GRAVEDAD_ACCIDENTE</th>\n",
       "      <th>COMUNA</th>\n",
       "      <th>FECHA_FESTIVA</th>\n",
       "      <th>DIA_SEMANA</th>\n",
       "    </tr>\n",
       "  </thead>\n",
       "  <tbody>\n",
       "    <tr>\n",
       "      <th>0</th>\n",
       "      <td>42</td>\n",
       "      <td>1.0</td>\n",
       "      <td>9.0</td>\n",
       "      <td>0</td>\n",
       "      <td>13.0</td>\n",
       "      <td>1.0</td>\n",
       "      <td>4.0</td>\n",
       "    </tr>\n",
       "    <tr>\n",
       "      <th>1</th>\n",
       "      <td>44</td>\n",
       "      <td>2.0</td>\n",
       "      <td>9.0</td>\n",
       "      <td>1</td>\n",
       "      <td>13.0</td>\n",
       "      <td>1.0</td>\n",
       "      <td>1.0</td>\n",
       "    </tr>\n",
       "    <tr>\n",
       "      <th>2</th>\n",
       "      <td>42</td>\n",
       "      <td>4.0</td>\n",
       "      <td>9.0</td>\n",
       "      <td>0</td>\n",
       "      <td>19.0</td>\n",
       "      <td>1.0</td>\n",
       "      <td>4.0</td>\n",
       "    </tr>\n",
       "    <tr>\n",
       "      <th>3</th>\n",
       "      <td>42</td>\n",
       "      <td>0.0</td>\n",
       "      <td>9.0</td>\n",
       "      <td>0</td>\n",
       "      <td>16.0</td>\n",
       "      <td>1.0</td>\n",
       "      <td>4.0</td>\n",
       "    </tr>\n",
       "    <tr>\n",
       "      <th>4</th>\n",
       "      <td>44</td>\n",
       "      <td>2.0</td>\n",
       "      <td>9.0</td>\n",
       "      <td>1</td>\n",
       "      <td>11.0</td>\n",
       "      <td>1.0</td>\n",
       "      <td>3.0</td>\n",
       "    </tr>\n",
       "  </tbody>\n",
       "</table>\n",
       "</div>"
      ],
      "text/plain": [
       "  SEMANA  CLASE_ACCIDENTE  DISEÑO  GRAVEDAD_ACCIDENTE  COMUNA  FECHA_FESTIVA  \\\n",
       "0     42              1.0     9.0                   0    13.0            1.0   \n",
       "1     44              2.0     9.0                   1    13.0            1.0   \n",
       "2     42              4.0     9.0                   0    19.0            1.0   \n",
       "3     42              0.0     9.0                   0    16.0            1.0   \n",
       "4     44              2.0     9.0                   1    11.0            1.0   \n",
       "\n",
       "   DIA_SEMANA  \n",
       "0         4.0  \n",
       "1         1.0  \n",
       "2         4.0  \n",
       "3         4.0  \n",
       "4         3.0  "
      ]
     },
     "execution_count": 81,
     "metadata": {},
     "output_type": "execute_result"
    }
   ],
   "source": [
    "df_semanal.head()"
   ]
  },
  {
   "cell_type": "code",
   "execution_count": 82,
   "metadata": {},
   "outputs": [],
   "source": [
    "train_data, test_data = train_test_split(train_data, test_size=0.2, random_state=42)"
   ]
  },
  {
   "cell_type": "code",
   "execution_count": 83,
   "metadata": {},
   "outputs": [],
   "source": [
    "\n",
    "def entrenar_modelo_logreg(dataf, target,valid, test_size=0.2, random_state=42):\n",
    "    # Dividir el conjunto de datos en entrenamiento y prueba\n",
    "    X_train = dataf.drop(target,axis=1).copy()\n",
    "    y_train = dataf[target].copy()\n",
    "\n",
    "    X_valid = valid.drop(target,axis=1).copy()\n",
    "    y_valid = valid[target].copy()\n",
    "    \n",
    "    # Inicializar el modelo de regresión logística\n",
    "    modelo = LogisticRegression()\n",
    "    \n",
    "    # Entrenar el modelo en los datos de entrenamiento\n",
    "    modelo.fit(X_train, y_train)\n",
    "    \n",
    "    # Realizar predicciones en los datos de prueba\n",
    "    predict=modelo.predict(X_valid)\n",
    "    \n",
    "\n",
    "    tn, fp, fn, tp = metrics.confusion_matrix(y_valid,predict).ravel()\n",
    "    accuracy = (tp + tn) /(tp + tn + fn + fp)\n",
    "\n",
    "    recall = tn / (tn + fp)\n",
    "\n",
    "    precision = tp / (tp + fp)\n",
    "\n",
    "    f1_score = (2*precision*recall)/(precision + recall)\n",
    "\n",
    "    score=modelo.score(X_valid, y_valid)\n",
    "\n",
    "    cm=metrics.confusion_matrix(y_valid, modelo.predict(X_valid))\n",
    "    plt.figure(figsize=(9,9))\n",
    "    sns.heatmap(cm, annot=True, fmt=\".3f\", linewidths=.5, square = True, cmap = 'Blues_r');\n",
    "    plt.ylabel('Actual label');\n",
    "    plt.xlabel('Predicted label');\n",
    "    all_sample_title = 'Accuracy Score: {0}'.format(score)\n",
    "    plt.title(all_sample_title, size = 15);\n",
    "\n",
    "\n",
    "    result_str = f\"Precision: {precision:.2f}, Accuracy: {accuracy:.2f}, Recall: {recall:.2f}, F1 Score: {f1_score:.2f}\"\n",
    "\n",
    "    return result_str\n",
    "\n",
    "# Ejemplo de uso:\n",
    "# Supongamos que tienes un DataFrame 'df' con características X y un objetivo y\n",
    "# modelo, precisión = entrenar_modelo_predictivo(df[['feature1', 'feature2', 'feature3']], df['target'])\n",
    "# print(\"Precisión del modelo:\", precisión)"
   ]
  },
  {
   "cell_type": "code",
   "execution_count": 84,
   "metadata": {},
   "outputs": [
    {
     "name": "stderr",
     "output_type": "stream",
     "text": [
      "c:\\Users\\pixel\\anaconda3\\lib\\site-packages\\sklearn\\utils\\validation.py:623: FutureWarning: is_sparse is deprecated and will be removed in a future version. Check `isinstance(dtype, pd.SparseDtype)` instead.\n",
      "  if not hasattr(array, \"sparse\") and array.dtypes.apply(is_sparse).any():\n",
      "c:\\Users\\pixel\\anaconda3\\lib\\site-packages\\sklearn\\utils\\validation.py:623: FutureWarning: is_sparse is deprecated and will be removed in a future version. Check `isinstance(dtype, pd.SparseDtype)` instead.\n",
      "  if not hasattr(array, \"sparse\") and array.dtypes.apply(is_sparse).any():\n",
      "c:\\Users\\pixel\\anaconda3\\lib\\site-packages\\sklearn\\utils\\validation.py:623: FutureWarning: is_sparse is deprecated and will be removed in a future version. Check `isinstance(dtype, pd.SparseDtype)` instead.\n",
      "  if not hasattr(array, \"sparse\") and array.dtypes.apply(is_sparse).any():\n",
      "c:\\Users\\pixel\\anaconda3\\lib\\site-packages\\sklearn\\utils\\validation.py:623: FutureWarning: is_sparse is deprecated and will be removed in a future version. Check `isinstance(dtype, pd.SparseDtype)` instead.\n",
      "  if not hasattr(array, \"sparse\") and array.dtypes.apply(is_sparse).any():\n"
     ]
    },
    {
     "data": {
      "text/plain": [
       "'Precision: 0.00, Accuracy: 0.59, Recall: 0.97, F1 Score: 0.00'"
      ]
     },
     "execution_count": 84,
     "metadata": {},
     "output_type": "execute_result"
    },
    {
     "data": {
      "image/png": "[encoded data removed]",
      "text/plain": [
       "<Figure size 648x648 with 2 Axes>"
      ]
     },
     "metadata": {
      "needs_background": "light"
     },
     "output_type": "display_data"
    }
   ],
   "source": [
    "entrenar_modelo_logreg(df_anual,'GRAVEDAD_ACCIDENTE',df_valid_anual)"
   ]
  },
  {
   "cell_type": "code",
   "execution_count": 85,
   "metadata": {},
   "outputs": [],
   "source": [
    "\n",
    "\n",
    "def entrenar_modelo_random_forest(dataf, target, valid, n_estimators=100, random_state=42):\n",
    "    # Dividir el conjunto de datos en entrenamiento y prueba\n",
    "    X_train = dataf.drop(target, axis=1).copy()\n",
    "    y_train = dataf[target].copy()\n",
    "\n",
    "    X_valid = valid.drop(target, axis=1).copy()\n",
    "    y_valid = valid[target].copy()\n",
    "\n",
    "    # Inicializar el modelo de Random Forest\n",
    "    modelo = RandomForestClassifier(n_estimators=n_estimators, random_state=random_state)\n",
    "\n",
    "    # Entrenar el modelo en los datos de entrenamiento\n",
    "    modelo.fit(X_train, y_train)\n",
    "\n",
    "    # Realizar predicciones en los datos de validación\n",
    "    predict = modelo.predict(X_valid)\n",
    "\n",
    "    tn, fp, fn, tp = metrics.confusion_matrix(y_valid, predict).ravel()\n",
    "    accuracy = (tp + tn) / (tp + tn + fn + fp)\n",
    "\n",
    "    recall = tn / (tn + fp)\n",
    "\n",
    "    precision = tp / (tp + fp)\n",
    "\n",
    "    f1_score = (2 * precision * recall) / (precision + recall)\n",
    "\n",
    "    score = modelo.score(X_valid, y_valid)\n",
    "\n",
    "    cm = metrics.confusion_matrix(y_valid, modelo.predict(X_valid))\n",
    "    plt.figure(figsize=(9, 9))\n",
    "    sns.heatmap(cm, annot=True, fmt=\".3f\", linewidths=.5, square=True, cmap='Blues_r')\n",
    "    plt.ylabel('Actual label')\n",
    "    plt.xlabel('Predicted label')\n",
    "    all_sample_title = 'Accuracy Score: {0}'.format(score)\n",
    "    plt.title(all_sample_title, size=15)\n",
    "\n",
    "    result_str = f\"Precision: {precision:.2f}, Accuracy: {accuracy:.2f}, Recall: {recall:.2f}, F1 Score: {f1_score:.2f}\"\n",
    "\n",
    "    return result_str\n",
    "\n",
    "# Ejemplo de uso:\n",
    "# result = entrenar_modelo_random_forest(dataframe_entrenamiento, 'target_column', dataframe_validacion)\n",
    "# print(result)\n"
   ]
  },
  {
   "cell_type": "code",
   "execution_count": 86,
   "metadata": {},
   "outputs": [
    {
     "name": "stderr",
     "output_type": "stream",
     "text": [
      "c:\\Users\\pixel\\anaconda3\\lib\\site-packages\\sklearn\\utils\\validation.py:623: FutureWarning: is_sparse is deprecated and will be removed in a future version. Check `isinstance(dtype, pd.SparseDtype)` instead.\n",
      "  if not hasattr(array, \"sparse\") and array.dtypes.apply(is_sparse).any():\n",
      "c:\\Users\\pixel\\anaconda3\\lib\\site-packages\\sklearn\\utils\\validation.py:623: FutureWarning: is_sparse is deprecated and will be removed in a future version. Check `isinstance(dtype, pd.SparseDtype)` instead.\n",
      "  if not hasattr(array, \"sparse\") and array.dtypes.apply(is_sparse).any():\n",
      "c:\\Users\\pixel\\anaconda3\\lib\\site-packages\\sklearn\\utils\\validation.py:623: FutureWarning: is_sparse is deprecated and will be removed in a future version. Check `isinstance(dtype, pd.SparseDtype)` instead.\n",
      "  if not hasattr(array, \"sparse\") and array.dtypes.apply(is_sparse).any():\n",
      "c:\\Users\\pixel\\anaconda3\\lib\\site-packages\\sklearn\\utils\\validation.py:623: FutureWarning: is_sparse is deprecated and will be removed in a future version. Check `isinstance(dtype, pd.SparseDtype)` instead.\n",
      "  if not hasattr(array, \"sparse\") and array.dtypes.apply(is_sparse).any():\n"
     ]
    },
    {
     "data": {
      "text/plain": [
       "'Precision: 0.64, Accuracy: 0.76, Recall: 0.67, F1 Score: 0.65'"
      ]
     },
     "execution_count": 86,
     "metadata": {},
     "output_type": "execute_result"
    },
    {
     "data": {
      "image/png": "[encoded data removed]",
      "text/plain": [
       "<Figure size 648x648 with 2 Axes>"
      ]
     },
     "metadata": {
      "needs_background": "light"
     },
     "output_type": "display_data"
    }
   ],
   "source": [
    "entrenar_modelo_random_forest(df_anual,'GRAVEDAD_ACCIDENTE',df_valid_anual)"
   ]
  }
 ],
 "metadata": {
  "kernelspec": {
   "display_name": "Python 3",
   "language": "python",
   "name": "python3"
  },
  "language_info": {
   "codemirror_mode": {
    "name": "ipython",
    "version": 3
   },
   "file_extension": ".py",
   "mimetype": "text/x-python",
   "name": "python",
   "nbconvert_exporter": "python",
   "pygments_lexer": "ipython3",
   "version": "3.9.12"
  },
  "orig_nbformat": 4
 },
 "nbformat": 4,
 "nbformat_minor": 2
}
